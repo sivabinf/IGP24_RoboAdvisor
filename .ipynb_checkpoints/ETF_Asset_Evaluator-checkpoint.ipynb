{
 "cells": [
  {
   "cell_type": "code",
   "execution_count": 1,
   "id": "9d489834",
   "metadata": {},
   "outputs": [],
   "source": [
    "import pandas as pd\n",
    "import numpy as np \n",
    "from Local_Library import portfolio_analyser\n",
    "from sklearn.linear_model import LinearRegression\n",
    "import matplotlib.pyplot as plt"
   ]
  },
  {
   "cell_type": "code",
   "execution_count": 2,
   "id": "5be8922e",
   "metadata": {},
   "outputs": [],
   "source": [
    "def Combined_Asset_Evaluator(User_ID, risk_free_return, target_risk_range, iter_count, evaluation_time, visualisation=False):\n",
    "    # Returns projected returns to a user for a given level or risk (range) and corresponding ETF distribution.\n",
    "    # User_ID: Unique user ID - ETF selection is made based on this value.\n",
    "    # risk_free_return: Risk free return value used in sharpe ratio calculation (redundant).\n",
    "    # target_risk_range: A list containing the upper and lower risk thresholds.\n",
    "    # iter_count: Number of iterations used in monte-carlo simulation.\n",
    "    # ----------> Higher iter_count improves accuracy at the cost of increased program run times. \n",
    "    # evaluation_time: days. Number of days into the future to predict overall returns.\n",
    "    # visualisation: boolean. Prints a plot to visualise predicted retruns. Default is False.\n",
    "\n",
    "    \n",
    "    ETFs_Selection = pd.read_csv('ETF_Recommendation_' + User_ID +'.csv').Tickers.values # Reading ETFs that are recommended to the user.\n",
    "    ETF_data = pd.read_csv('ETF_df.csv')[ETFs_Selection] # Reading selected ETF data.\n",
    "    ETF_data = ETF_data.dropna()\n",
    "    ETF_df_returns = ETF_data.pct_change() # Calculating ETF returns. Calculated as: ((val[1] - val[0])/val[0]).\n",
    "    cov_matrix = ETF_df_returns.cov() # Generating the covariance matrix. \n",
    "    \n",
    "    # Instantiating empty lists to interate through monte-carlo simulations.\n",
    "    returns = [] \n",
    "    risk = []\n",
    "    weights_list = []\n",
    "    \n",
    "    w_len = len(ETF_df_returns.columns) # Counting the number of recommended ETFs.\n",
    "    \n",
    "    for i in range(iter_count): # loop for monte-carlo simulation.\n",
    "        weights = np.random.dirichlet(np.ones(w_len)) # Generating a random set of weights whose sum add up to 1.\n",
    "        portfolio = portfolio_analyser(weights, ETF_df_returns, risk_free_return, cov_matrix) # Estimating portfolio statistis for the current set of random weights.\n",
    "        \n",
    "        if portfolio[1] > target_risk_range[0] and portfolio[1] < target_risk_range[1]: # Checking if the current portfolio satisfy the required risk limits.\n",
    "            returns.append(portfolio[0]) # Storing current portfolio returns as it satisfies the required risk limits\n",
    "#             risk.append(portfolio[1])\n",
    "            risk.append(target_risk_range) # Storing current portfolio risk limits as they satisfy the required risk limits\n",
    "            weights_list.append(weights) # Storing current portfolio weights as they satisfy the required risk limits\n",
    "\n",
    "    portfolio_dict = {'returns': returns, 'risk': risk, 'weights': weights_list} # Storing all the portfolios that statify the required risk limits in a dictionary.\n",
    "    portfolio_options = pd.DataFrame(portfolio_dict) # Converting the portfolio dictionary to a data frame.\n",
    "    portfolio_options_sorted = portfolio_options.sort_values('returns', ascending=False) # Sorting the portfolio data frame by returns in descending order.\n",
    "    if len(portfolio_options_sorted) > 0: # Checking if atleast one portfolio is found for the selected input conditions.\n",
    "        returns_max_weights = portfolio_options_sorted.iloc[0,2] # Portfolio weights the produce maximum return.\n",
    "        returns_min_weights = portfolio_options_sorted.iloc[-1,2] # Portfolio weights the produce minimum return.\n",
    "        portfolio_results = {'target_risk_range': [target_risk_range], 'returns_max_weights': [returns_max_weights], 'returns_min_weights': [returns_min_weights]} # Storing the required portfolio weights in a dictionary.\n",
    "#         return portfolio_results # Returning the required portfolio weights.\n",
    "    else: # No portfoio is found for the selected input conditions.\n",
    "        print(\"Portfolio generation within the risk thresholds is unsuccessful!\")\n",
    "    \n",
    "    # Making future predictions for combined assets\n",
    "    Weighted_Adjusted_ETFs = ETF_data*portfolio_results['returns_max_weights'][0] # Adjusting ETF values by multiplying with corresponding weights to acieve desired risk levels.\n",
    "    ETFs_Combined = Weighted_Adjusted_ETFs.apply(sum, axis=1) # Combined ETF data for the overall ivestment asset.\n",
    "    \n",
    "    # Using a linear regression model to make prediction asset retruns\n",
    "    ETFs_Combined_X = np.arange(len(ETFs_Combined)).reshape(-1, 1) # Genearating linear data for x-axis.\n",
    "    ETFs_Combined_y = ETFs_Combined.values # Colledcting the actual data on y-axis. \n",
    "    linear_regressor = LinearRegression() # Instantiating a linear regression model.\n",
    "    lm_fit = linear_regressor.fit(ETFs_Combined_X, ETFs_Combined_y) # Fitting the linear regression model with X and y data.    \n",
    "    \n",
    "    # Generating test data to make future predictions\n",
    "    ETFs_Combined_X_test = np.arange(len(ETFs_Combined_X)+evaluation_time).reshape(-1, 1) # Generating X_test data.\n",
    "    ETFs_Combined_y_test = lm_fit.predict(ETFs_Combined_X_test) # Making predictions using the trained linear regression model.\n",
    "    \n",
    "    if visualisation: # Optionall prints a plot to visualise asset growth.\n",
    "        plt.scatter(ETFs_Combined_X, ETFs_Combined_y) # Plotting actual data.\n",
    "        plt.plot(ETFs_Combined_X_test, ETFs_Combined_y_test, color='red', linestyle='--',\n",
    "                 linewidth=2, label='Linear Regression Line') # Plotting predicted data.\n",
    "    \n",
    "    # Estimating and printing estimated returns (%) between current and future (confugured day) point in time.\n",
    "    predicted_returns = (ETFs_Combined_y_test[-1] - ETFs_Combined_y_test[len(ETFs_Combined_X)])/ETFs_Combined_y_test[len(ETFs_Combined_X)]*100\n",
    "    print(\"Predicted return after {period} days is {return_percent}%\".format(period=evaluation_time, return_percent=predicted_returns.round(2)))\n",
    "    \n",
    "    return predicted_returns, portfolio_results['returns_max_weights'][0] # returning predicted asset returns and corresponding portflio weights\n",
    "    "
   ]
  },
  {
   "cell_type": "code",
   "execution_count": 3,
   "id": "e36f1602",
   "metadata": {},
   "outputs": [
    {
     "name": "stdout",
     "output_type": "stream",
     "text": [
      "Predicted return after 252 days is 7.8%\n"
     ]
    },
    {
     "data": {
      "text/plain": [
       "7.804597503534932"
      ]
     },
     "execution_count": 3,
     "metadata": {},
     "output_type": "execute_result"
    }
   ],
   "source": [
    "predicted_returns,_ = Combined_Asset_Evaluator('User_755', 0.05, [0.2, 0.22], 10000, 252)\n",
    "predicted_returns"
   ]
  },
  {
   "cell_type": "code",
   "execution_count": null,
   "id": "72844cd9",
   "metadata": {},
   "outputs": [],
   "source": []
  },
  {
   "cell_type": "code",
   "execution_count": null,
   "id": "47cb6b74",
   "metadata": {},
   "outputs": [],
   "source": []
  },
  {
   "cell_type": "code",
   "execution_count": null,
   "id": "aff18b84",
   "metadata": {},
   "outputs": [],
   "source": []
  }
 ],
 "metadata": {
  "kernelspec": {
   "display_name": "Python 3 (ipykernel)",
   "language": "python",
   "name": "python3"
  },
  "language_info": {
   "codemirror_mode": {
    "name": "ipython",
    "version": 3
   },
   "file_extension": ".py",
   "mimetype": "text/x-python",
   "name": "python",
   "nbconvert_exporter": "python",
   "pygments_lexer": "ipython3",
   "version": "3.9.18"
  }
 },
 "nbformat": 4,
 "nbformat_minor": 5
}
