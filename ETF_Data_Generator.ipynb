{
 "cells": [
  {
   "cell_type": "code",
   "execution_count": 4,
   "id": "19234096",
   "metadata": {},
   "outputs": [],
   "source": [
    "import warnings\n",
    "from IPython.display import clear_output\n",
    "warnings.filterwarnings('ignore')\n",
    "\n",
    "import numpy as np\n",
    "import pandas as pd\n",
    "import random\n",
    "import csv\n",
    "import yfinance as yf\n",
    "import datetime"
   ]
  },
  {
   "cell_type": "markdown",
   "id": "9bf08199",
   "metadata": {},
   "source": [
    "ETF ticker source: \n",
    "https://finance.yahoo.com/etfs/?count=100&guce_referrer=aHR0cHM6Ly93d3cuZ29vZ2xlLmNvbS8&guce_referrer_sig=AQAAAGlqeLAfPj2GvkSnTOykXCTYzfK2sRYb4Dq-WKV-73O-thvqsk4NUimbru0k5_piUM8X85RAfOMFcUJMBMsnL3HUeJDOkZqXV_qnKXsiMK3hE2NHGzC7bfz8MOwZikYtb1WFFVpu7hdpx47p2cWamSGH_DxKg3pm1vN_GB_006qs&offset=0"
   ]
  },
  {
   "cell_type": "code",
   "execution_count": 5,
   "id": "857ad721",
   "metadata": {},
   "outputs": [],
   "source": [
    "def ETF_Data_Generator(csv_input, start_date, end_date, ETF_Class=None, ETF_Class_Proportion=None):\n",
    "    # csv_ input: Iput csv source as a string (csv_input = 'ETFs_List.csv').\n",
    "    # start_date: Start data to begin data extraction from.\n",
    "    # end_date: End data to begin data extraction from\n",
    "    # ETF_Class: Restricted to 5 classes when no input is given.\n",
    "    # ETF_Class_Proportion: Equal proportions are assigned if no input is given.\n",
    "    with open(csv_input, newline='') as lines: # Opening the input csv file to extract ticker data\n",
    "        csv_reader = csv.reader(lines) # Reading each line from the input csv file\n",
    "        ETF_tickers_wrangled = list(csv_reader) # Creating a list of each line read from the input csv file\n",
    "    \n",
    "    ETF_tickers = [] # Empyt list of tickers\n",
    "    for i in range(len(ETF_tickers_wrangled)): # Iterating through each line of ETF_tickers_wrngled list to extract ticker names\n",
    "        if i%2 == 0: # Ignoring unwanted information except for ticker names\n",
    "            ETF_tickers.append(ETF_tickers_wrangled[i][0]) # Creating a list of tickers\n",
    "    ETF_tickers = set(ETF_tickers) # Eliminating duplicates in the ticker list\n",
    "    \n",
    "    # Crating a dataframe with ticker names and corresponding classes\n",
    "    Sample_Length = len(ETF_tickers) # Number of tickers in the list\n",
    "    if ETF_Class:\n",
    "        Class_Samples = random.choices(ETF_Class, weights=ETF_Class_Proportion, k=Sample_Length) # Creating a random list of input class names with configured proportions\n",
    "    else:\n",
    "        ETF_Class = ETF_tickers # using the full set of ETFs to generate random classes\n",
    "        ETF_Class_Proportion = np.ones(5)/5 # assigning equal proportion to each ETF to generate random classes\n",
    "        Random_Classes = ['A','B','C','D','E'] # Generating random classes\n",
    "        Class_Samples = random.choices(Random_Classes, weights=ETF_Class_Proportion, k=Sample_Length)  # Creating a random list of input class names with equal proportions\n",
    "    \n",
    "    Ticker_Class_df = pd.DataFrame() # Empty data frame to store ticker names and randomly assigned classes\n",
    "    Ticker_Class_df['Tickers'] = list(ETF_tickers) # Adding the list of tickers to the data frame\n",
    "    Ticker_Class_df['Class'] = Class_Samples # Adding the list of classes to the data frame\n",
    "    \n",
    "    # Downloading ETF data from yahoo finance\n",
    "    ETF_df = pd.DataFrame() # Empty data frame to store ETF data\n",
    "    status_count = list(range(0, Sample_Length, (Sample_Length - 0) // 99)) # Counter list to print status report\n",
    "    status_counter = 0 # Counter to track download status\n",
    "    for ETF in ETF_tickers: # Iterating through each ticker and downloading data\n",
    "        if status_counter in status_count: # Tracking and printing download status\n",
    "            clear_output(wait=True) # Clearing previous status print statement\n",
    "            print(\"{}% complete!\".format(int(status_counter*100/Sample_Length))) # Printing ETF data download status\n",
    "        status_counter += 1 # Tracking download status\n",
    "        ETF_data = yf.download(tickers=ETF, start=start_date, end=end_date, interval='1d', progress=False) # Downloading ETF data\n",
    "        ETF_df[ETF] = ETF_data['Adj Close'] # Extracting relevant ETF data\n",
    "    Ticker_Class_df.to_csv('Ticker_Class_df.csv', index=False)\n",
    "    ETF_df.to_csv('ETF_df.csv', index=False)\n",
    "    clear_output()\n",
    "    print(\"Data generation complete!\") # Printing final download status\n",
    "    return Ticker_Class_df, ETF_df # return ETF class information and ETF data"
   ]
  },
  {
   "cell_type": "code",
   "execution_count": 3,
   "id": "83cfdd15",
   "metadata": {},
   "outputs": [
    {
     "name": "stdout",
     "output_type": "stream",
     "text": [
      "Data generation complete!\n"
     ]
    }
   ],
   "source": [
    "start_date = datetime.datetime(2018, 1, 1)\n",
    "end_date = datetime.datetime(2024, 3, 10) \n",
    "_,_ = ETF_Data_Generator('ETFs_List.csv', start_date, end_date)"
   ]
  },
  {
   "cell_type": "code",
   "execution_count": null,
   "id": "57248f73",
   "metadata": {},
   "outputs": [],
   "source": []
  },
  {
   "cell_type": "code",
   "execution_count": null,
   "id": "5466db91",
   "metadata": {},
   "outputs": [],
   "source": []
  },
  {
   "cell_type": "code",
   "execution_count": null,
   "id": "8f95d20f",
   "metadata": {},
   "outputs": [],
   "source": []
  }
 ],
 "metadata": {
  "kernelspec": {
   "display_name": "Python 3 (ipykernel)",
   "language": "python",
   "name": "python3"
  },
  "language_info": {
   "codemirror_mode": {
    "name": "ipython",
    "version": 3
   },
   "file_extension": ".py",
   "mimetype": "text/x-python",
   "name": "python",
   "nbconvert_exporter": "python",
   "pygments_lexer": "ipython3",
   "version": "3.9.18"
  }
 },
 "nbformat": 4,
 "nbformat_minor": 5
}
