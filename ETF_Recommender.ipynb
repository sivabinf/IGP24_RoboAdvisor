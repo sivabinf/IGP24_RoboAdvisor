{
 "cells": [
  {
   "cell_type": "code",
   "execution_count": 1,
   "id": "69b7e278",
   "metadata": {},
   "outputs": [],
   "source": [
    "import warnings\n",
    "from IPython.display import clear_output\n",
    "warnings.filterwarnings('ignore')\n",
    "\n",
    "import numpy as np\n",
    "import pandas as pd\n",
    "import string"
   ]
  },
  {
   "cell_type": "code",
   "execution_count": 2,
   "id": "998d1d30",
   "metadata": {},
   "outputs": [],
   "source": [
    "ETF_Summary = pd.read_csv('ETF_summary_df.csv')"
   ]
  },
  {
   "cell_type": "code",
   "execution_count": 3,
   "id": "87e41727",
   "metadata": {},
   "outputs": [],
   "source": [
    "# Steps:\n",
    "ETF_Summary = ETF_Summary[ETF_Summary.Regressor_Slope > 0] # Removing ETFs with negative regressor slope which indicate that these ETFs are following a negative trend in terms of their value.\n",
    "# ETF_Summary"
   ]
  },
  {
   "cell_type": "code",
   "execution_count": 4,
   "id": "ff221f19",
   "metadata": {},
   "outputs": [],
   "source": [
    "def ETF_Recommender_Reset(User_ID, ETF_Summary):\n",
    "    # This function calls back ETF_Recommender function if input parameters do not match the output criteria.\n",
    "    # User_ID: Unique user ID - Taken directly from the ETF_Recommender function.\n",
    "    # ETF_Summary: ETF summary data frame - Taken directly from the ETF_Recommender function.\n",
    "    \n",
    "    # Reconfiguration message\n",
    "    clear_output(wait=False)\n",
    "    print(\"Required number of ETFs not found for the selected portfolio size!\")\n",
    "    print(\"Please select different constraints. At any time, please enter \\\"exit\\\" to quit.\")\n",
    "    \n",
    "    exit = False # Arguement to exit the recommendation process.\n",
    "    new_args = [] # Creating an empty list to store new input paramters.\n",
    "    for i in range(3):\n",
    "        if i == 0: # Collecting user class information.\n",
    "            input_i = input(\"Please enter new ETF Class preferences: \") # Requesting user class input.\n",
    "            input_i = input_i.split(',') # Converting user class information to required list format.\n",
    "            if input_i[0].lower() == 'exit': # checking for exit command.\n",
    "                exit = True # Setting the boolean to True if the user chose to exit.\n",
    "                break # exiting the function.\n",
    "        elif i == 1:\n",
    "            input_i = input(\"Please update Risk Class preference: \") # Requesting risk class input.\n",
    "            if input_i.lower() == 'exit': # checking for exit command.\n",
    "                exit = True # Setting the boolean to True if the user chose to exit.\n",
    "                break # exiting the function.\n",
    "        else:\n",
    "            input_i = input(\"Please update Portfolio_Size: \") # Requesting portfolio size.\n",
    "            if input_i.lower() == 'exit': # checking for exit command.\n",
    "                exit = True # Setting the boolean to True if the user chose to exit.\n",
    "                break # exiting the function.\n",
    "            input_i = int(input_i)\n",
    "        \n",
    "        new_args.append(input_i) # updating the list with the current input.      \n",
    "    if exit:\n",
    "        return exit, _ # If user chose to exit, an exit command is sent to the main ETF_Recommender function.\n",
    "    else:\n",
    "        return exit, ETF_Recommender(User_ID, ETF_Summary,*new_args) # re-running the original ETF_Recommender function with the new inputs."
   ]
  },
  {
   "cell_type": "code",
   "execution_count": 5,
   "id": "469e31dd",
   "metadata": {},
   "outputs": [],
   "source": [
    "def ETF_Recommender(User_ID, ETF_Summary, ETF_Class, Risk_Class, Portfolio_Size=5):\n",
    "    # Outputs ETF option for a give selection of ETF classes. \n",
    "    # The function eliminates all the ETF optios with respective risk classes greater than the chosen risk class.\n",
    "    # Function attempts to output selected number of ETF options with maximum historical returns. \n",
    "    #--------> If unsuccessful, a new combination of inputs is requested.\n",
    "    # User_ID: Unique user ID\n",
    "    # ETF_Class: User ETF category preference. \n",
    "    #             Use ['None'] if no specific preference.\n",
    "    #             Multiple class preferences can be enterd in a list format.\n",
    "    # ETF_Summary: ETF summary data frame.\n",
    "    # Risk_Class: User risk category in a string format.\n",
    "    # Portfolio_Size: Number of ETFs to use in a portfolio. Default is 5.\n",
    "    \n",
    "    if ETF_Class[0] == 'None': # Checking if a user has any ETF class preference.\n",
    "        Class_Selection = False\n",
    "    else:\n",
    "        Class_Selection = True\n",
    "    \n",
    "    if Class_Selection: # If the user has any class preference...\n",
    "        # Filtering the ETF_Summary data frame by class preference and user risk class and extracting ETFs based on required portfolio size.\n",
    "        ETF_Summary_filtered = ETF_Summary[(ETF_Summary['Class'].isin(ETF_Class)) & (ETF_Summary['Risk_Category'] <= Risk_Class)].reset_index(\n",
    "        ).drop(columns=['index','Class','Risk_Category']).sort_values(by='Regressor_Slope').head(Portfolio_Size)\n",
    "    else: # If the user has no class preference...\n",
    "        # Filtering the ETF_Summary data frame by user risk class and extracting ETFs based on required portfolio size.\n",
    "        ETF_Summary_filtered = ETF_Summary[ETF_Summary['Risk_Category'] <= Risk_Class].reset_index(\n",
    "        ).drop(columns=['index','Class','Risk_Category']).sort_values(by='Regressor_Slope').head(Portfolio_Size)\n",
    "\n",
    "    if len(ETF_Summary_filtered) < Portfolio_Size: # Checking if required number of ETFs the satisfy user preferences are not available.\n",
    "        exit, ETF_Recommendation = ETF_Recommender_Reset(User_ID, ETF_Summary) # Calling ETF_Recommender_Reset function to request new inputs to re-run the function.\n",
    "        if exit: # Exiting the function if the user chose to exit the re-configuration process.\n",
    "            return\n",
    "        else:\n",
    "            ETF_Recommendation.to_csv('ETF_Recommendation_' + User_ID +'.csv', index=False) # Writing ETF selection to a csv file.\n",
    "        return ETF_Recommendation\n",
    "    else:\n",
    "        ETF_Recommendation = ETF_Summary_filtered\n",
    "        ETF_Recommendation.to_csv('ETF_Recommendation_' + User_ID +'.csv', index=False) # Writing ETF selection to a csv file.\n",
    "        return ETF_Recommendation # Returns recommended ETFs for observability."
   ]
  },
  {
   "cell_type": "code",
   "execution_count": 6,
   "id": "52000c35",
   "metadata": {},
   "outputs": [
    {
     "name": "stdout",
     "output_type": "stream",
     "text": [
      "Required number of ETFs not found for the selected portfolio size!\n",
      "Please select different constraints. At any time, please enter \"exit\" to quit.\n",
      "Please enter new ETF Class preferences: B,C\n",
      "Please update Risk Class preference: B\n",
      "Please update Portfolio_Size: 5\n"
     ]
    },
    {
     "data": {
      "text/html": [
       "<div>\n",
       "<style scoped>\n",
       "    .dataframe tbody tr th:only-of-type {\n",
       "        vertical-align: middle;\n",
       "    }\n",
       "\n",
       "    .dataframe tbody tr th {\n",
       "        vertical-align: top;\n",
       "    }\n",
       "\n",
       "    .dataframe thead th {\n",
       "        text-align: right;\n",
       "    }\n",
       "</style>\n",
       "<table border=\"1\" class=\"dataframe\">\n",
       "  <thead>\n",
       "    <tr style=\"text-align: right;\">\n",
       "      <th></th>\n",
       "      <th>Tickers</th>\n",
       "      <th>Mean_Variance</th>\n",
       "      <th>Regressor_Slope</th>\n",
       "      <th>Sharpe</th>\n",
       "    </tr>\n",
       "  </thead>\n",
       "  <tbody>\n",
       "    <tr>\n",
       "      <th>8</th>\n",
       "      <td>PFXF</td>\n",
       "      <td>0.747381</td>\n",
       "      <td>0.004689</td>\n",
       "      <td>0.316854</td>\n",
       "    </tr>\n",
       "    <tr>\n",
       "      <th>1</th>\n",
       "      <td>PFFD</td>\n",
       "      <td>0.702926</td>\n",
       "      <td>0.005353</td>\n",
       "      <td>0.059625</td>\n",
       "    </tr>\n",
       "    <tr>\n",
       "      <th>4</th>\n",
       "      <td>FCTR</td>\n",
       "      <td>0.799908</td>\n",
       "      <td>0.009563</td>\n",
       "      <td>0.407597</td>\n",
       "    </tr>\n",
       "    <tr>\n",
       "      <th>7</th>\n",
       "      <td>BIZD</td>\n",
       "      <td>0.706732</td>\n",
       "      <td>0.014528</td>\n",
       "      <td>0.919547</td>\n",
       "    </tr>\n",
       "    <tr>\n",
       "      <th>6</th>\n",
       "      <td>PXF</td>\n",
       "      <td>0.825757</td>\n",
       "      <td>0.017525</td>\n",
       "      <td>0.694481</td>\n",
       "    </tr>\n",
       "  </tbody>\n",
       "</table>\n",
       "</div>"
      ],
      "text/plain": [
       "  Tickers  Mean_Variance  Regressor_Slope    Sharpe\n",
       "8    PFXF       0.747381         0.004689  0.316854\n",
       "1    PFFD       0.702926         0.005353  0.059625\n",
       "4    FCTR       0.799908         0.009563  0.407597\n",
       "7    BIZD       0.706732         0.014528  0.919547\n",
       "6     PXF       0.825757         0.017525  0.694481"
      ]
     },
     "execution_count": 6,
     "metadata": {},
     "output_type": "execute_result"
    }
   ],
   "source": [
    "ETF_Recommender('User_750', ETF_Summary, ['B','C'], 'A', 5)"
   ]
  },
  {
   "cell_type": "code",
   "execution_count": null,
   "id": "b7d728d2",
   "metadata": {},
   "outputs": [],
   "source": []
  },
  {
   "cell_type": "code",
   "execution_count": null,
   "id": "4cd87048",
   "metadata": {},
   "outputs": [],
   "source": []
  },
  {
   "cell_type": "code",
   "execution_count": null,
   "id": "92dc9709",
   "metadata": {},
   "outputs": [],
   "source": []
  }
 ],
 "metadata": {
  "kernelspec": {
   "display_name": "Python 3 (ipykernel)",
   "language": "python",
   "name": "python3"
  },
  "language_info": {
   "codemirror_mode": {
    "name": "ipython",
    "version": 3
   },
   "file_extension": ".py",
   "mimetype": "text/x-python",
   "name": "python",
   "nbconvert_exporter": "python",
   "pygments_lexer": "ipython3",
   "version": "3.9.18"
  }
 },
 "nbformat": 4,
 "nbformat_minor": 5
}
