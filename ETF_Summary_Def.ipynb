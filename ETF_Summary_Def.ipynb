{
 "cells": [
  {
   "cell_type": "code",
   "execution_count": 1,
   "id": "0b53911f",
   "metadata": {},
   "outputs": [],
   "source": [
    "import warnings\n",
    "from statsmodels.tools.sm_exceptions import ConvergenceWarning\n",
    "warnings.filterwarnings('ignore', category=ConvergenceWarning)\n",
    "from IPython.display import clear_output\n",
    "\n",
    "import numpy as np\n",
    "import pandas as pd\n",
    "\n",
    "import matplotlib.pyplot as plt\n",
    "import string\n",
    "\n",
    "from sklearn.linear_model import LinearRegression\n",
    "from sklearn.svm import SVR\n",
    "\n",
    "from Local_Library import arch_volatility_predictor, kalman_filter, data_prep, sharpe_ratio, garch_volatility_predictor\n",
    "from Local_Library import svr_predictor, arima_predictor, data_prep_arima, data_prep_svr\n"
   ]
  },
  {
   "cell_type": "code",
   "execution_count": 2,
   "id": "a450ebd9",
   "metadata": {},
   "outputs": [],
   "source": [
    "Ticker_Class_df = pd.read_csv('Ticker_Class_df.csv') # Loading Ticker information from the input csv file.\n",
    "ETF_df = pd.read_csv('ETF_df.csv') # Loading ETF data from the input csv file.\n",
    "# ETF_df = ETF_df.iloc[-252*2:,0:5]\n",
    "# Ticker_Class_df = Ticker_Class_df.iloc[0:5,:]   "
   ]
  },
  {
   "cell_type": "code",
   "execution_count": 3,
   "id": "12665c3c",
   "metadata": {},
   "outputs": [],
   "source": [
    "def ETF_risk_assignment(risk_value, risk_categories, risk_thresholds):\n",
    "    # Geneartes and assigns a risk category to a value by referring to risk thresholds. \n",
    "    # A one to one mapping is performed between risk categoreis and risk thresholds. \n",
    "    # A category is assigned based on the proximity of the value to a threshold.\n",
    "    # risk_value: value to compare and assign a risk category\n",
    "    # risk_categories: A list of available risk categories\n",
    "    # risk_thresholds: A list of risk thresholds\n",
    "    \n",
    "    for i in range(len(risk_thresholds)): # Iterating through the threshold values to find the proximity of the value to a threshold.\n",
    "        if i == 0: # Checks the proximity for threshold values in the range of [0, 0.5)\n",
    "            if (risk_value >= risk_thresholds[i]) & (risk_value < (risk_thresholds[i]+risk_thresholds[i+1])/2):\n",
    "                risk_assignment = risk_categories[i]\n",
    "                break # terminates the for loop if risk boundaries are identified\n",
    "        elif i+1 < len(risk_thresholds): # Checks the proximity for threshold values in the range of [0.5, ((n-1)+n)/2)\n",
    "            if (risk_value >= (risk_thresholds[i-1]+risk_thresholds[i])/2) & (risk_value < (risk_thresholds[i]+risk_thresholds[i+1])/2):\n",
    "                risk_assignment = risk_categories[i]\n",
    "                break # terminates the for loop if risk boundaries are identified\n",
    "        else: # Checks the proximity for threshold values in the range of [((n-1)+n)/2, n]\n",
    "            risk_assignment = risk_categories[i]\n",
    "    return risk_assignment"
   ]
  },
  {
   "cell_type": "code",
   "execution_count": 4,
   "id": "86fa6b79",
   "metadata": {},
   "outputs": [],
   "source": [
    "def ETF_analysis(Volatility_Predictor, Filter_fun, Risk_Class_fun, ETF_df, Ticker_Class_df, years, risk_count, scale=False, debug=False, Write_to_File=True):\n",
    "    # Generates summary statistics that include risk, return, sharpe and class.\n",
    "    # Volatility_Predictor: Input function that predicts ETF volatility.\n",
    "    # -------------------->Local Library: arch_volatility_predictor | garch_volatility_predictor | SVR_predictor\n",
    "    # Filter_fun: A filter function to de-noise predictions (kalman_filter).\n",
    "    # Risk_Class_fun: A function to classify risk into pre-defined categories.\n",
    "    # ETF_df: Input data frame that contains ETF data.\n",
    "    # Ticker_Class_df: Input data frame with ETF names and corresponding classes in its columns. Column with ETFs must be named 'Tickers'.\n",
    "    # years: Number of most recent years worth of data to consider to generate ETF summary statistics.\n",
    "    # risk_count: Number of risk categories.\n",
    "    # scale: Boolean. Select if scaling is required. Default is False.\n",
    "    # debug: Boolean. Returns debug information. Only use in debug mode. Default is False. \n",
    "    \n",
    "    if Volatility_Predictor.__name__ == 'svr_predictor':\n",
    "        svr_model = SVR(kernel='rbf', C=1000, gamma=0.1)\n",
    "    \n",
    "    \n",
    "    if scale: # Initialiseing scaler if scaling is selected\n",
    "        scaler = MinMaxScaler()\n",
    "    \n",
    "    # Intialising variables to store output data\n",
    "    ETF_summary = {} # A dictionary is defined to store ETF names as keys and respective summary statistics as values.\n",
    "    regressor_data_X_debug = [] # empty list to store debug data.\n",
    "    regressor_data_y_debug = [] # empty list to store debug data.\n",
    "    lm_fit_debug = [] # empty list to store debug data.\n",
    "\n",
    "    ETFs = ETF_df.columns # ETF names are extracted from input data frame columns.\n",
    "    \n",
    "    \n",
    "    status_counter = 0 # Initialising a status counter to print the status report while generating summary statistics.\n",
    "    for ETF in ETFs: # Iterating through each ETF to generate summary statistics.\n",
    "        summary_stats = {} # Stores summary statistics for each ETF. This is a local dictionary that is reset after each iteration of the for loop.\n",
    "        clear_output(wait=True) # Clearing previous status print statement.\n",
    "        print('Generating summary statistics for {} ({}/{})'.format(ETF, status_counter+1, len(ETFs))) # Printing the status update.\n",
    "        status_counter += 1 # Tracking status.\n",
    "        \n",
    "        # Generating ETF data for the current ETF\n",
    "        ETF_data = ETF_df[[ETF]].dropna() # Removing missing entries if any.\n",
    "        \n",
    "        # Generating returns series data for the current ETF\n",
    "        ETF_returns_df = ETF_data.pct_change() # Calculating ETF returns. Calculated as: (val[1] - val[0])/val[0]).\n",
    "        # Extracting ETF returns data from last configured number of years and converting to series format.\n",
    "        ETF_returns_data = pd.Series(ETF_returns_df[ETF][-252*years:]) # Assuming there are 252 trading days in a year.        \n",
    "        \n",
    "        # Generating series data for the current ETF     \n",
    "        if scale: # Scaling the ETF data if scaling is selected.\n",
    "            ETF_data[ETF] = scaler.fit_transform(ETF_data[[ETF]])\n",
    "        else: # Using raw ETF data if scaling is not selected.\n",
    "            ETF_data[ETF] = ETF_data[[ETF]]            \n",
    "        # Extracting ETF data from last configured number of years and converting to series format.\n",
    "        ETF_data = pd.Series(ETF_data[ETF][-252*years:])\n",
    "        \n",
    "        # Generating ML-model to predict volatility\n",
    "        if Volatility_Predictor.__name__ == 'arch_volatility_predictor':\n",
    "            prep_data = data_prep(ETF_returns_data, 'Actual_Return', 22, dropna=True, scale=True) # Using data_prep function from the local library to prepare ETF data for arch volatility predictions.      \n",
    "            prep_data['X_train_var_predict'] = prep_data['X_train'].apply(lambda x: Volatility_Predictor(x)) # Using lambda function with volatility prediction function to predict volatility for each row of the prepared data.\n",
    "        elif Volatility_Predictor.__name__ == 'garch_volatility_predictor':\n",
    "            prep_data = data_prep(ETF_returns_data, 'Actual_Return', 22, dropna=True, scale=True) # Using data_prep function from the local library to prepare ETF data for garch volatility predictions.      \n",
    "            prep_data['X_train_var_predict'] = prep_data['X_train'].apply(lambda x: Volatility_Predictor(x)) # Using lambda function with volatility prediction function to predict volatility for each row of the prepared data.\n",
    "        elif Volatility_Predictor.__name__ == 'svr_predictor':\n",
    "            prep_data = data_prep_svr(ETF_returns_data, 'Actual_Return', 'Actual_Variance', 22, dropna=True, scale=True) # Using data_prep_dl function from the local library to prepare ETF data for svr volatility predictions.  \n",
    "            prep_data['X_train_var_predict'] = prep_data[['X_train','y_train','X_test']].apply(lambda x: Volatility_Predictor(svr_model,x['X_train'],x['y_train'],x['X_test'])[0], axis=1) # Using lambda function with volatility prediction function to predict volatility for each row of the prepared data.\n",
    "        elif Volatility_Predictor.__name__ == 'arima_predictor':\n",
    "            prep_data = data_prep_arima(ETF_returns_data, 'Actual_Return', 'Actual_Variance', 22, dropna=True, scale=True) # Using data_prep_dl function from the local library to prepare ETF data for arima volatility predictions.  \n",
    "            prep_data['X_train_var_predict'] = prep_data['X_train'].apply(lambda x: Volatility_Predictor(x)[0]) # Using lambda function with volatility prediction function to predict volatility for each row of the prepared data.\n",
    "            \n",
    "        else:\n",
    "            print(\"Unrecognised volatility_predictor\") \n",
    "        \n",
    "        if Volatility_Predictor.__name__ in ['arch_volatility_predictor','garch_volatility_predictor']:\n",
    "            prep_data['X_train_var_predict_filtered'] = Filter_fun(prep_data['X_train_var_predict'].values) # Using the filter function to de-noise the predictions for improved accuracy.       \n",
    "        else:\n",
    "            prep_data['X_train_var_predict_filtered'] = prep_data['X_train_var_predict'] # Ignoring the filter function for the case of SVR.       \n",
    "        \n",
    "        summary_stats['Mean_Variance'] = np.mean(prep_data['X_train_var_predict_filtered']) # Generating mean variance summary statistic.       \n",
    "        \n",
    "        # Generating a linear regression model to estimate the performance trend of the current ETF over the selected period of time\n",
    "        regressor_data_X = np.arange(len(ETF_data)).reshape(-1, 1) # Genearating linear data for x-axis.\n",
    "        regressor_data_y = ETF_data.values # Colledcting the actual data on y-axis.        \n",
    "        linear_regressor = LinearRegression() # Instantiating a linear regression model.\n",
    "        lm_fit = linear_regressor.fit(regressor_data_X, regressor_data_y) # Fitting the linear regression model with X and y data.    \n",
    "        summary_stats['Regressor_Slope'] = lm_fit.coef_[0] # Extracting the slope of the linear regression line which indicated the preformance trend of the current ETF.\n",
    "        \n",
    "        # Generating sharpe ratio for the current ETF\n",
    "        summary_stats['Sharpe'] = sharpe_ratio(ETF_returns_data, 252*years, 0.05) # Using sharpe_ratio function from the local library to generate sharpe ratio.       \n",
    "        \n",
    "        # Putting summary statistics for the current ETF together\n",
    "        ETF_summary[ETF] = summary_stats # Using current ETF name as the key and summary_stats dictionary as the corresponding value in ETF_summary dictionary.\n",
    "        \n",
    "        # Collecting data for the debug mode\n",
    "        if debug:\n",
    "            regressor_data_X_debug.append(regressor_data_X) # Collecting linear regression X-data for debug mode.\n",
    "            regressor_data_y_debug.append(regressor_data_y) # Collecting linear regression y-data for debug mode.\n",
    "            lm_fit_debug.append(lm_fit) # Collecting the fitted linear regression model for the debug mode.\n",
    "        \n",
    "    ETF_summary_df = pd.DataFrame(ETF_summary).T # Converting summary statistics dictionary to a data frame.\n",
    "    ETF_summary_df.reset_index(inplace=True) # Creating a new column with ETF names taken from the data frame index.\n",
    "    ETF_summary_df.rename(columns={'index': 'Tickers'}, inplace=True) # Renaming the column with ETF names to 'ETF'.\n",
    "    ETF_summary_df = pd.merge(ETF_summary_df, Ticker_Class_df, on='Tickers', how='left') # Adding ETF class information to the summary statistics data frame.\n",
    "    \n",
    "    # Generating risk classifications\n",
    "    risk_categories = list(string.ascii_uppercase)[: ] # Creating 5 risk categories.\n",
    "    risk_thresholds = np.linspace(ETF_summary_df.Mean_Variance.min(), ETF_summary_df.Mean_Variance.max(), risk_count) # Generating risk thresholds evenly spaced between min and max risk values.\n",
    "    ETF_summary_df['Risk_Category'] = ETF_summary_df['Mean_Variance'].apply(\n",
    "        Risk_Class_fun, args=(risk_categories,risk_thresholds,)).values # Applying a risk category to each risk value ('Mean_Variance' row) in ETF_summary_df.\n",
    "      \n",
    "    \n",
    "    if Write_to_File:\n",
    "        ETF_summary_df.to_csv('ETF_summary_df.csv', index=False)\n",
    "    \n",
    "    clear_output(wait=False)   \n",
    "    print(\"Summary statistics generation complete!\") # Printing final download status.\n",
    "    if debug: # Returns ETF_summary along with debug data in the debug mode.\n",
    "        return ETF_summary_df, regressor_data_X_debug, regressor_data_y_debug, lm_fit_debug, prep_data\n",
    "    else: # Returns ETF_summary.\n",
    "        return ETF_summary_df"
   ]
  },
  {
   "cell_type": "code",
   "execution_count": 5,
   "id": "f5fbb738",
   "metadata": {},
   "outputs": [
    {
     "name": "stdout",
     "output_type": "stream",
     "text": [
      "Summary statistics generation complete!\n"
     ]
    },
    {
     "data": {
      "text/html": [
       "<div>\n",
       "<style scoped>\n",
       "    .dataframe tbody tr th:only-of-type {\n",
       "        vertical-align: middle;\n",
       "    }\n",
       "\n",
       "    .dataframe tbody tr th {\n",
       "        vertical-align: top;\n",
       "    }\n",
       "\n",
       "    .dataframe thead th {\n",
       "        text-align: right;\n",
       "    }\n",
       "</style>\n",
       "<table border=\"1\" class=\"dataframe\">\n",
       "  <thead>\n",
       "    <tr style=\"text-align: right;\">\n",
       "      <th></th>\n",
       "      <th>Tickers</th>\n",
       "      <th>Mean_Variance</th>\n",
       "      <th>Regressor_Slope</th>\n",
       "      <th>Sharpe</th>\n",
       "      <th>Class</th>\n",
       "      <th>Risk_Category</th>\n",
       "    </tr>\n",
       "  </thead>\n",
       "  <tbody>\n",
       "    <tr>\n",
       "      <th>0</th>\n",
       "      <td>EWC</td>\n",
       "      <td>0.923095</td>\n",
       "      <td>0.011811</td>\n",
       "      <td>0.576545</td>\n",
       "      <td>D</td>\n",
       "      <td>C</td>\n",
       "    </tr>\n",
       "    <tr>\n",
       "      <th>1</th>\n",
       "      <td>DBC</td>\n",
       "      <td>1.008507</td>\n",
       "      <td>0.000631</td>\n",
       "      <td>-0.399053</td>\n",
       "      <td>B</td>\n",
       "      <td>D</td>\n",
       "    </tr>\n",
       "    <tr>\n",
       "      <th>2</th>\n",
       "      <td>FNDX</td>\n",
       "      <td>0.838419</td>\n",
       "      <td>0.040665</td>\n",
       "      <td>1.269875</td>\n",
       "      <td>A</td>\n",
       "      <td>B</td>\n",
       "    </tr>\n",
       "    <tr>\n",
       "      <th>3</th>\n",
       "      <td>DDWM</td>\n",
       "      <td>0.829016</td>\n",
       "      <td>0.010440</td>\n",
       "      <td>0.659815</td>\n",
       "      <td>E</td>\n",
       "      <td>B</td>\n",
       "    </tr>\n",
       "    <tr>\n",
       "      <th>4</th>\n",
       "      <td>RWK</td>\n",
       "      <td>0.910508</td>\n",
       "      <td>0.073757</td>\n",
       "      <td>0.763167</td>\n",
       "      <td>E</td>\n",
       "      <td>C</td>\n",
       "    </tr>\n",
       "  </tbody>\n",
       "</table>\n",
       "</div>"
      ],
      "text/plain": [
       "  Tickers  Mean_Variance  Regressor_Slope    Sharpe Class Risk_Category\n",
       "0     EWC       0.923095         0.011811  0.576545     D             C\n",
       "1     DBC       1.008507         0.000631 -0.399053     B             D\n",
       "2    FNDX       0.838419         0.040665  1.269875     A             B\n",
       "3    DDWM       0.829016         0.010440  0.659815     E             B\n",
       "4     RWK       0.910508         0.073757  0.763167     E             C"
      ]
     },
     "execution_count": 5,
     "metadata": {},
     "output_type": "execute_result"
    }
   ],
   "source": [
    "# arch_volatility_predictor | garch_volatility_predictor | svr_predictor | arima_predictor\n",
    "[ETF_summary_df, regressor_data_X_debug, regressor_data_y_debug, lm_fit_debug, prep_data] = ETF_analysis(\n",
    "    arch_volatility_predictor, kalman_filter, ETF_risk_assignment, ETF_df, Ticker_Class_df, 1, 5, False, True, True)\n",
    "ETF_summary_df.head()"
   ]
  },
  {
   "cell_type": "code",
   "execution_count": 6,
   "id": "1f72594e",
   "metadata": {},
   "outputs": [
    {
     "data": {
      "text/plain": [
       "[<matplotlib.lines.Line2D at 0x26fc11c7910>]"
      ]
     },
     "execution_count": 6,
     "metadata": {},
     "output_type": "execute_result"
    },
    {
     "data": {
      "image/png": "[encoded data removed]",
      "text/plain": [
       "<Figure size 640x480 with 1 Axes>"
      ]
     },
     "metadata": {},
     "output_type": "display_data"
    }
   ],
   "source": [
    "n = 100\n",
    "plt.scatter(regressor_data_X_debug[n], regressor_data_y_debug[n])\n",
    "plt.plot(regressor_data_X_debug[n], lm_fit_debug[n].predict(\n",
    "    regressor_data_X_debug[n]), color='red', linestyle='--', \n",
    "         linewidth=2, label='Linear Regression Line')"
   ]
  },
  {
   "cell_type": "code",
   "execution_count": null,
   "id": "f779ce75",
   "metadata": {},
   "outputs": [],
   "source": []
  },
  {
   "cell_type": "code",
   "execution_count": null,
   "id": "74c38a76",
   "metadata": {},
   "outputs": [],
   "source": []
  },
  {
   "cell_type": "code",
   "execution_count": 7,
   "id": "e7e18aa4",
   "metadata": {},
   "outputs": [
    {
     "name": "stdout",
     "output_type": "stream",
     "text": [
      "Summary statistics generation complete!\n"
     ]
    },
    {
     "data": {
      "text/html": [
       "<div>\n",
       "<style scoped>\n",
       "    .dataframe tbody tr th:only-of-type {\n",
       "        vertical-align: middle;\n",
       "    }\n",
       "\n",
       "    .dataframe tbody tr th {\n",
       "        vertical-align: top;\n",
       "    }\n",
       "\n",
       "    .dataframe thead th {\n",
       "        text-align: right;\n",
       "    }\n",
       "</style>\n",
       "<table border=\"1\" class=\"dataframe\">\n",
       "  <thead>\n",
       "    <tr style=\"text-align: right;\">\n",
       "      <th></th>\n",
       "      <th>Tickers</th>\n",
       "      <th>Mean_Variance</th>\n",
       "      <th>Regressor_Slope</th>\n",
       "      <th>Sharpe</th>\n",
       "      <th>Class</th>\n",
       "      <th>Risk_Category</th>\n",
       "    </tr>\n",
       "  </thead>\n",
       "  <tbody>\n",
       "    <tr>\n",
       "      <th>0</th>\n",
       "      <td>EWC</td>\n",
       "      <td>0.923095</td>\n",
       "      <td>0.011811</td>\n",
       "      <td>0.576545</td>\n",
       "      <td>D</td>\n",
       "      <td>A</td>\n",
       "    </tr>\n",
       "    <tr>\n",
       "      <th>1</th>\n",
       "      <td>DBC</td>\n",
       "      <td>1.008507</td>\n",
       "      <td>0.000631</td>\n",
       "      <td>-0.399053</td>\n",
       "      <td>B</td>\n",
       "      <td>E</td>\n",
       "    </tr>\n",
       "  </tbody>\n",
       "</table>\n",
       "</div>"
      ],
      "text/plain": [
       "  Tickers  Mean_Variance  Regressor_Slope    Sharpe Class Risk_Category\n",
       "0     EWC       0.923095         0.011811  0.576545     D             A\n",
       "1     DBC       1.008507         0.000631 -0.399053     B             E"
      ]
     },
     "execution_count": 7,
     "metadata": {},
     "output_type": "execute_result"
    }
   ],
   "source": [
    "[ETF_summary_df, regressor_data_X_debug, regressor_data_y_debug, lm_fit_debug, prep_data_arch] = ETF_analysis(\n",
    "    arch_volatility_predictor, kalman_filter, ETF_risk_assignment, ETF_df.iloc[-252*2:,0:2], Ticker_Class_df.iloc[0:5,:], 1, 5, False, True, False)\n",
    "ETF_summary_df.sort_values(by='Mean_Variance').head(10)"
   ]
  },
  {
   "cell_type": "code",
   "execution_count": 8,
   "id": "bf794ee8",
   "metadata": {},
   "outputs": [
    {
     "name": "stdout",
     "output_type": "stream",
     "text": [
      "Summary statistics generation complete!\n"
     ]
    },
    {
     "data": {
      "text/html": [
       "<div>\n",
       "<style scoped>\n",
       "    .dataframe tbody tr th:only-of-type {\n",
       "        vertical-align: middle;\n",
       "    }\n",
       "\n",
       "    .dataframe tbody tr th {\n",
       "        vertical-align: top;\n",
       "    }\n",
       "\n",
       "    .dataframe thead th {\n",
       "        text-align: right;\n",
       "    }\n",
       "</style>\n",
       "<table border=\"1\" class=\"dataframe\">\n",
       "  <thead>\n",
       "    <tr style=\"text-align: right;\">\n",
       "      <th></th>\n",
       "      <th>Tickers</th>\n",
       "      <th>Mean_Variance</th>\n",
       "      <th>Regressor_Slope</th>\n",
       "      <th>Sharpe</th>\n",
       "      <th>Class</th>\n",
       "      <th>Risk_Category</th>\n",
       "    </tr>\n",
       "  </thead>\n",
       "  <tbody>\n",
       "    <tr>\n",
       "      <th>0</th>\n",
       "      <td>EWC</td>\n",
       "      <td>0.923095</td>\n",
       "      <td>0.011811</td>\n",
       "      <td>0.576545</td>\n",
       "      <td>D</td>\n",
       "      <td>A</td>\n",
       "    </tr>\n",
       "    <tr>\n",
       "      <th>1</th>\n",
       "      <td>DBC</td>\n",
       "      <td>1.008507</td>\n",
       "      <td>0.000631</td>\n",
       "      <td>-0.399053</td>\n",
       "      <td>B</td>\n",
       "      <td>E</td>\n",
       "    </tr>\n",
       "  </tbody>\n",
       "</table>\n",
       "</div>"
      ],
      "text/plain": [
       "  Tickers  Mean_Variance  Regressor_Slope    Sharpe Class Risk_Category\n",
       "0     EWC       0.923095         0.011811  0.576545     D             A\n",
       "1     DBC       1.008507         0.000631 -0.399053     B             E"
      ]
     },
     "execution_count": 8,
     "metadata": {},
     "output_type": "execute_result"
    }
   ],
   "source": [
    "[ETF_summary_df, regressor_data_X_debug, regressor_data_y_debug, lm_fit_debug, prep_data_garch] = ETF_analysis(\n",
    "    garch_volatility_predictor, kalman_filter, ETF_risk_assignment, ETF_df.iloc[-252*2:,0:2], Ticker_Class_df.iloc[0:5,:], 1, 5, False, True, False)\n",
    "ETF_summary_df.sort_values(by='Mean_Variance').head(10)"
   ]
  },
  {
   "cell_type": "code",
   "execution_count": 9,
   "id": "e339fd27",
   "metadata": {},
   "outputs": [
    {
     "name": "stdout",
     "output_type": "stream",
     "text": [
      "Summary statistics generation complete!\n"
     ]
    },
    {
     "data": {
      "text/html": [
       "<div>\n",
       "<style scoped>\n",
       "    .dataframe tbody tr th:only-of-type {\n",
       "        vertical-align: middle;\n",
       "    }\n",
       "\n",
       "    .dataframe tbody tr th {\n",
       "        vertical-align: top;\n",
       "    }\n",
       "\n",
       "    .dataframe thead th {\n",
       "        text-align: right;\n",
       "    }\n",
       "</style>\n",
       "<table border=\"1\" class=\"dataframe\">\n",
       "  <thead>\n",
       "    <tr style=\"text-align: right;\">\n",
       "      <th></th>\n",
       "      <th>Tickers</th>\n",
       "      <th>Mean_Variance</th>\n",
       "      <th>Regressor_Slope</th>\n",
       "      <th>Sharpe</th>\n",
       "      <th>Class</th>\n",
       "      <th>Risk_Category</th>\n",
       "    </tr>\n",
       "  </thead>\n",
       "  <tbody>\n",
       "    <tr>\n",
       "      <th>0</th>\n",
       "      <td>EWC</td>\n",
       "      <td>-0.052444</td>\n",
       "      <td>0.011811</td>\n",
       "      <td>0.576545</td>\n",
       "      <td>D</td>\n",
       "      <td>A</td>\n",
       "    </tr>\n",
       "    <tr>\n",
       "      <th>1</th>\n",
       "      <td>DBC</td>\n",
       "      <td>0.093897</td>\n",
       "      <td>0.000631</td>\n",
       "      <td>-0.399053</td>\n",
       "      <td>B</td>\n",
       "      <td>E</td>\n",
       "    </tr>\n",
       "  </tbody>\n",
       "</table>\n",
       "</div>"
      ],
      "text/plain": [
       "  Tickers  Mean_Variance  Regressor_Slope    Sharpe Class Risk_Category\n",
       "0     EWC      -0.052444         0.011811  0.576545     D             A\n",
       "1     DBC       0.093897         0.000631 -0.399053     B             E"
      ]
     },
     "execution_count": 9,
     "metadata": {},
     "output_type": "execute_result"
    }
   ],
   "source": [
    "[ETF_summary_df, regressor_data_X_debug, regressor_data_y_debug, lm_fit_debug, prep_data_svr] = ETF_analysis(\n",
    "    svr_predictor, kalman_filter, ETF_risk_assignment, ETF_df.iloc[-252*2:,0:2], Ticker_Class_df.iloc[0:5,:], 1, 5, False, True, False)\n",
    "ETF_summary_df.sort_values(by='Mean_Variance').head(10)"
   ]
  },
  {
   "cell_type": "code",
   "execution_count": 10,
   "id": "0f05b8c8",
   "metadata": {},
   "outputs": [
    {
     "name": "stdout",
     "output_type": "stream",
     "text": [
      "Summary statistics generation complete!\n"
     ]
    },
    {
     "data": {
      "text/html": [
       "<div>\n",
       "<style scoped>\n",
       "    .dataframe tbody tr th:only-of-type {\n",
       "        vertical-align: middle;\n",
       "    }\n",
       "\n",
       "    .dataframe tbody tr th {\n",
       "        vertical-align: top;\n",
       "    }\n",
       "\n",
       "    .dataframe thead th {\n",
       "        text-align: right;\n",
       "    }\n",
       "</style>\n",
       "<table border=\"1\" class=\"dataframe\">\n",
       "  <thead>\n",
       "    <tr style=\"text-align: right;\">\n",
       "      <th></th>\n",
       "      <th>Tickers</th>\n",
       "      <th>Mean_Variance</th>\n",
       "      <th>Regressor_Slope</th>\n",
       "      <th>Sharpe</th>\n",
       "      <th>Class</th>\n",
       "      <th>Risk_Category</th>\n",
       "    </tr>\n",
       "  </thead>\n",
       "  <tbody>\n",
       "    <tr>\n",
       "      <th>1</th>\n",
       "      <td>DBC</td>\n",
       "      <td>0.059152</td>\n",
       "      <td>0.000631</td>\n",
       "      <td>-0.399053</td>\n",
       "      <td>B</td>\n",
       "      <td>A</td>\n",
       "    </tr>\n",
       "    <tr>\n",
       "      <th>0</th>\n",
       "      <td>EWC</td>\n",
       "      <td>0.059868</td>\n",
       "      <td>0.011811</td>\n",
       "      <td>0.576545</td>\n",
       "      <td>D</td>\n",
       "      <td>E</td>\n",
       "    </tr>\n",
       "  </tbody>\n",
       "</table>\n",
       "</div>"
      ],
      "text/plain": [
       "  Tickers  Mean_Variance  Regressor_Slope    Sharpe Class Risk_Category\n",
       "1     DBC       0.059152         0.000631 -0.399053     B             A\n",
       "0     EWC       0.059868         0.011811  0.576545     D             E"
      ]
     },
     "execution_count": 10,
     "metadata": {},
     "output_type": "execute_result"
    }
   ],
   "source": [
    "[ETF_summary_df, regressor_data_X_debug, regressor_data_y_debug, lm_fit_debug, prep_data_arima] = ETF_analysis(\n",
    "    arima_predictor, kalman_filter, ETF_risk_assignment, ETF_df.iloc[-252*2:,0:2], Ticker_Class_df.iloc[0:5,:], 1, 5, False, True, False)\n",
    "ETF_summary_df.sort_values(by='Mean_Variance').head(10)"
   ]
  },
  {
   "cell_type": "code",
   "execution_count": null,
   "id": "d44c1e4a",
   "metadata": {},
   "outputs": [],
   "source": []
  },
  {
   "cell_type": "code",
   "execution_count": null,
   "id": "0769fb9d",
   "metadata": {},
   "outputs": [],
   "source": []
  },
  {
   "cell_type": "code",
   "execution_count": null,
   "id": "8b0dceaf",
   "metadata": {},
   "outputs": [],
   "source": []
  },
  {
   "cell_type": "code",
   "execution_count": null,
   "id": "9358699f",
   "metadata": {},
   "outputs": [],
   "source": []
  },
  {
   "cell_type": "code",
   "execution_count": null,
   "id": "f83d4441",
   "metadata": {},
   "outputs": [],
   "source": []
  }
 ],
 "metadata": {
  "kernelspec": {
   "display_name": "Python 3 (ipykernel)",
   "language": "python",
   "name": "python3"
  },
  "language_info": {
   "codemirror_mode": {
    "name": "ipython",
    "version": 3
   },
   "file_extension": ".py",
   "mimetype": "text/x-python",
   "name": "python",
   "nbconvert_exporter": "python",
   "pygments_lexer": "ipython3",
   "version": "3.9.18"
  }
 },
 "nbformat": 4,
 "nbformat_minor": 5
}
