{
 "cells": [
  {
   "cell_type": "code",
   "execution_count": 1,
   "id": "316a5c5c",
   "metadata": {},
   "outputs": [],
   "source": [
    "import pandas as pd\n",
    "import numpy as np \n",
    "from Custom_Libraries import portfolio_analyser"
   ]
  },
  {
   "cell_type": "code",
   "execution_count": 2,
   "id": "53d8d476",
   "metadata": {},
   "outputs": [],
   "source": [
    "def Portfolio_Optimiser(User_ID, risk_free_return, target_risk_range, iter_count):\n",
    "    # Returns optimised portfolio weithts that maximise return for a given range of risk.\n",
    "    # User_ID: Unique user ID - ETF selection is made based on this value.\n",
    "    # risk_free_return: Risk free return value used in sharpe ratio calculation (redundant).\n",
    "    # target_risk_range: A list containing the upper and lower risk thresholds.\n",
    "    # iter_count: Number of iterations used in monte-carlo simulation.\n",
    "    # ----------> Higher iter_count improves accuracy at the cost of increased program run times. \n",
    "    \n",
    "    ETFs_Selection = pd.read_csv('ETF_Recommendation_' + User_ID +'.csv').Tickers.values # Reading ETFs that are recommended to the user.\n",
    "    ETF_data = pd.read_csv('ETF_df.csv')[ETFs_Selection] # Reading selected ETF data.\n",
    "    ETF_df_returns = ETF_data.pct_change() # Calculating ETF returns. Calculated as: ((val[1] - val[0])/val[0]).\n",
    "    cov_matrix = ETF_df_returns.cov() # Generating the covariance matrix. \n",
    "    \n",
    "    # Instantiating empty lists to interate through monte-carlo simulations.\n",
    "    returns = [] \n",
    "    risk = []\n",
    "    weights_list = []\n",
    "    \n",
    "    w_len = len(ETF_df_returns.columns) # Counting the number of recommended ETFs.\n",
    "    \n",
    "    for i in range(iter_count): # loop for monte-carlo simulation.\n",
    "        weights = np.random.dirichlet(np.ones(w_len)) # Generating a random set of weights whose sum add up to 1.\n",
    "        portfolio = portfolio_analyser(weights, ETF_df_returns, risk_free_return, cov_matrix) # Estimating portfolio statistis for the current set of random weights.\n",
    "        \n",
    "        if portfolio[1] > target_risk_range[0] and portfolio[1] < target_risk_range[1]: # Checking if the current portfolio satisfy the required risk limits.\n",
    "            returns.append(portfolio[0]) # Storing current portfolio returns as it satisfies the required risk limits\n",
    "#             risk.append(portfolio[1])\n",
    "            risk.append(target_risk_range) # Storing current portfolio risk limits as they satisfy the required risk limits\n",
    "            weights_list.append(weights) # Storing current portfolio weights as they satisfy the required risk limits\n",
    "\n",
    "    portfolio_dict = {'returns': returns, 'risk': risk, 'weights': weights_list} # Storing all the portfolios that statify the required risk limits in a dictionary.\n",
    "    portfolio_options = pd.DataFrame(portfolio_dict) # Converting the portfolio dictionary to a data frame.\n",
    "    portfolio_options_sorted = portfolio_options.sort_values('returns', ascending=False) # Sorting the portfolio data frame by returns in descending order.\n",
    "    if len(portfolio_options_sorted) > 0: # Checking if atleast one portfolio is found for the selected input conditions.\n",
    "        returns_max_weights = portfolio_options_sorted.iloc[0,2] # Portfolio weights the produce maximum return.\n",
    "        returns_min_weights = portfolio_options_sorted.iloc[-1,2] # Portfolio weights the produce minimum return.\n",
    "        portfolio_results = {'target_risk_range': [target_risk_range], 'returns_max_weights': [returns_max_weights], 'returns_min_weights': [returns_min_weights]} # Storing the required portfolio weights in a dictionary.\n",
    "        return portfolio_results # Returning the required portfolio weights.\n",
    "    else: # No portfoio is found for the selected input conditions.\n",
    "        print(\"Portfolio generation within the risk thresholds is unsuccessful!\")"
   ]
  },
  {
   "cell_type": "code",
   "execution_count": 3,
   "id": "b2dcaa48",
   "metadata": {},
   "outputs": [
    {
     "data": {
      "text/plain": [
       "{'target_risk_range': [[0.18, 0.2]],\n",
       " 'returns_max_weights': [array([6.98052037e-01, 2.20760622e-01, 1.26822378e-05, 4.96304063e-02,\n",
       "         3.15442525e-02])],\n",
       " 'returns_min_weights': [array([0.52789666, 0.0023661 , 0.40567004, 0.04704229, 0.0170249 ])]}"
      ]
     },
     "execution_count": 3,
     "metadata": {},
     "output_type": "execute_result"
    }
   ],
   "source": [
    "Portfolio_Optimiser('User_750', 0.05, [0.18, 0.2], 10000)"
   ]
  },
  {
   "cell_type": "code",
   "execution_count": null,
   "id": "f92ae61a",
   "metadata": {},
   "outputs": [],
   "source": []
  },
  {
   "cell_type": "code",
   "execution_count": null,
   "id": "cf1939dd",
   "metadata": {},
   "outputs": [],
   "source": []
  },
  {
   "cell_type": "code",
   "execution_count": null,
   "id": "6b2affaf",
   "metadata": {},
   "outputs": [],
   "source": []
  },
  {
   "cell_type": "code",
   "execution_count": 4,
   "id": "d680e3af",
   "metadata": {
    "scrolled": true
   },
   "outputs": [],
   "source": [
    "import warnings\n",
    "from IPython.display import clear_output\n",
    "warnings.filterwarnings('ignore')\n",
    "import matplotlib.pyplot as plt\n",
    "import datetime \n",
    "import yfinance as yf"
   ]
  },
  {
   "cell_type": "code",
   "execution_count": 5,
   "id": "a3b8acb7",
   "metadata": {},
   "outputs": [],
   "source": [
    "User_ID = 'User_750'\n",
    "ETFs_Selection = pd.read_csv('ETF_Recommendation_' + User_ID +'.csv').Tickers.values\n",
    "ETF_data = pd.read_csv('ETF_df.csv')[ETFs_Selection]  \n",
    "ETF_df_returns = ETF_data.pct_change()\n",
    "cov_matrix = ETF_df_returns.cov()"
   ]
  },
  {
   "cell_type": "code",
   "execution_count": null,
   "id": "3a4c3c2c",
   "metadata": {},
   "outputs": [
    {
     "name": "stdout",
     "output_type": "stream",
     "text": [
      "58% complete!\n"
     ]
    }
   ],
   "source": [
    "returns = []\n",
    "risk = []\n",
    "sharpe_ratio = []\n",
    "weights_list = []\n",
    "w_len = len(ETF_df_returns.columns)\n",
    "risk_free_return = 0.05\n",
    "iter = 50000\n",
    "status_count = list(range(0, iter, (iter - 0) // 99))\n",
    "for i in range(iter):\n",
    "    if i in status_count:\n",
    "        clear_output(wait=True)\n",
    "        print(\"{}% complete!\".format(int(i*100/iter)))      \n",
    "    weights = np.random.dirichlet(np.ones(w_len))\n",
    "    portfolio = portfolio_analyser(weights, ETF_df_returns, risk_free_return, cov_matrix)    \n",
    "    returns.append(portfolio[0])\n",
    "    risk.append(portfolio[1])\n",
    "    sharpe_ratio.append(portfolio[2])\n",
    "    weights_list.append(weights)\n",
    "clear_output(wait=True)\n",
    "portfolio_dict = {'returns': returns, 'risk': risk, 'sharpe_ratio': sharpe_ratio, 'weights': weights_list}\n",
    "portfolio_options = pd.DataFrame(portfolio_dict)\n",
    "# portfolio_options"
   ]
  },
  {
   "cell_type": "code",
   "execution_count": null,
   "id": "99d7b91e",
   "metadata": {},
   "outputs": [],
   "source": [
    "returns_range = portfolio_options['returns'].quantile([0.98, 1])\n",
    "risk_range = portfolio_options['risk'].quantile([0, 0.5])\n",
    "\n",
    "plt.figure(figsize=(18,10))\n",
    "plt.scatter(portfolio_options['risk'], portfolio_options['returns'])\n",
    "plt.axhline(y=portfolio_options['returns'][portfolio_options['risk'].idxmin()], color='r', linestyle='--')\n",
    "plt.axvline(x=portfolio_options['risk'][portfolio_options['returns'].idxmax()], color='r', linestyle='--')\n",
    "plt.xlabel('risk')\n",
    "plt.ylabel('return')\n",
    "plt.show()"
   ]
  },
  {
   "cell_type": "code",
   "execution_count": null,
   "id": "5592c203",
   "metadata": {},
   "outputs": [],
   "source": []
  },
  {
   "cell_type": "code",
   "execution_count": null,
   "id": "6a4c362a",
   "metadata": {},
   "outputs": [],
   "source": []
  },
  {
   "cell_type": "code",
   "execution_count": null,
   "id": "90276ac6",
   "metadata": {},
   "outputs": [],
   "source": []
  }
 ],
 "metadata": {
  "kernelspec": {
   "display_name": "Python 3 (ipykernel)",
   "language": "python",
   "name": "python3"
  },
  "language_info": {
   "codemirror_mode": {
    "name": "ipython",
    "version": 3
   },
   "file_extension": ".py",
   "mimetype": "text/x-python",
   "name": "python",
   "nbconvert_exporter": "python",
   "pygments_lexer": "ipython3",
   "version": "3.9.18"
  }
 },
 "nbformat": 4,
 "nbformat_minor": 5
}
