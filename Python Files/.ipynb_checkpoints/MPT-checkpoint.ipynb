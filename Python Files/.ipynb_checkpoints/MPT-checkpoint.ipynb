{
 "cells": [
  {
   "cell_type": "code",
   "execution_count": 44,
   "id": "db06f606",
   "metadata": {},
   "outputs": [],
   "source": [
    "import warnings\n",
    "from IPython.display import clear_output\n",
    "warnings.filterwarnings('ignore')"
   ]
  },
  {
   "cell_type": "code",
   "execution_count": 45,
   "id": "c16d1425",
   "metadata": {},
   "outputs": [],
   "source": [
    "import numpy as np\n",
    "import pandas as pd\n",
    "import seaborn as sns\n",
    "import matplotlib.pyplot as plt\n",
    "import yfinance as yf\n",
    "\n",
    "from scipy.optimize import minimize\n",
    "\n",
    "import datetime\n",
    "import time"
   ]
  },
  {
   "cell_type": "markdown",
   "id": "c6c0236d",
   "metadata": {},
   "source": [
    "# User data analytics"
   ]
  },
  {
   "cell_type": "code",
   "execution_count": 46,
   "id": "5cd5f8f6",
   "metadata": {},
   "outputs": [
    {
     "name": "stdout",
     "output_type": "stream",
     "text": [
      "        Month  Expense to Income Ratio  Monthly Savings Investment Profile  \\\n",
      "0     January                 0.882199           270.00         Lower Risk   \n",
      "1    February                 0.882199           270.00         Lower Risk   \n",
      "2       March                 0.882199           270.00         Lower Risk   \n",
      "3       April                 0.876200           283.75         Lower Risk   \n",
      "4         May                 0.876200           283.75         Lower Risk   \n",
      "5        June                 0.898015           233.75         Lower Risk   \n",
      "6        July                 1.007090           -16.25                NaN   \n",
      "7      August                 1.007090           -16.25                NaN   \n",
      "8   September                 1.007090           -16.25                NaN   \n",
      "9     October                 0.915937           201.75         Lower Risk   \n",
      "10   November                 0.915937           201.75         Lower Risk   \n",
      "11   December                 1.067500          -162.00                NaN   \n",
      "12      Total                 0.935173          1804.00         Lower Risk   \n",
      "\n",
      "    Emergency Fund Months  Year-over-Year Savings Growth  \n",
      "0                0.247280                            NaN  \n",
      "1                0.380811                            NaN  \n",
      "2                0.514342                            NaN  \n",
      "3                0.652309                            NaN  \n",
      "4                0.793601                            NaN  \n",
      "5                0.912183                            NaN  \n",
      "6                0.914654                            NaN  \n",
      "7                0.907614                            NaN  \n",
      "8                0.900574                            NaN  \n",
      "9                0.938246                            NaN  \n",
      "10               1.030024                            NaN  \n",
      "11               0.962529                            NaN  \n",
      "12               0.088534                          360.8  \n"
     ]
    }
   ],
   "source": [
    "def read_data(file):\n",
    "    return pd.read_excel(file)\n",
    "\n",
    "def calculate_metrics(df):\n",
    "    expenses = ['Rent', 'Food', 'Car', 'Water', 'Gas and Electric', 'Cellular', 'Council Tax', 'Entertainment', 'Other']\n",
    "    df['Total Expenditure'] = df[expenses].sum(axis = 1)\n",
    "    df['Expense to Income Ratio'] = df['Total Expenditure'] / df['Income']\n",
    "    df['Monthly Savings'] = df['Monthly Savings']\n",
    "    df['Emergency Fund Months'] = df['Savings Balance'] / df['Total Expenditure']\n",
    "    df['Year-over-Year Savings Growth'] = df['Savings Balance'].pct_change(periods=12) * 100  # result in percentage\n",
    "    return df\n",
    "\n",
    "def assess_income_risk(df):\n",
    "    conditions = [(df['Expense to Income Ratio'] < .5),\n",
    "                 (df['Expense to Income Ratio'] >= .5)]\n",
    "    choices = ['Higher Risk', 'Lower Risk']\n",
    "    df['Investment Profile'] = pd.cut(df['Expense to Income Ratio'], bins = [0, .5, 1], labels = choices)\n",
    "    return df\n",
    "\n",
    "def main(file_path):\n",
    "    df = read_data(file_path)\n",
    "    df = calculate_metrics(df)\n",
    "    df = assess_income_risk(df)\n",
    "    print(df[['Month', 'Expense to Income Ratio', 'Monthly Savings', 'Investment Profile', 'Emergency Fund Months', 'Year-over-Year Savings Growth']])\n",
    "    \n",
    "if __name__ == \"__main__\":\n",
    "    file_path = 'Clients.xlsx'\n",
    "    main(file_path)"
   ]
  },
  {
   "cell_type": "code",
   "execution_count": 100,
   "id": "1cd628fb",
   "metadata": {
    "scrolled": true
   },
   "outputs": [
    {
     "name": "stderr",
     "output_type": "stream",
     "text": [
      "[*********************100%%**********************]  1 of 1 completed\n",
      "[*********************100%%**********************]  1 of 1 completed\n",
      "[*********************100%%**********************]  1 of 1 completed\n",
      "[*********************100%%**********************]  1 of 1 completed\n",
      "[*********************100%%**********************]  1 of 1 completed\n",
      "[*********************100%%**********************]  1 of 1 completed\n",
      "[*********************100%%**********************]  1 of 1 completed\n",
      "[*********************100%%**********************]  1 of 1 completed\n",
      "[*********************100%%**********************]  1 of 1 completed\n",
      "[*********************100%%**********************]  1 of 1 completed\n"
     ]
    },
    {
     "data": {
      "text/html": [
       "<div>\n",
       "<style scoped>\n",
       "    .dataframe tbody tr th:only-of-type {\n",
       "        vertical-align: middle;\n",
       "    }\n",
       "\n",
       "    .dataframe tbody tr th {\n",
       "        vertical-align: top;\n",
       "    }\n",
       "\n",
       "    .dataframe thead th {\n",
       "        text-align: right;\n",
       "    }\n",
       "</style>\n",
       "<table border=\"1\" class=\"dataframe\">\n",
       "  <thead>\n",
       "    <tr style=\"text-align: right;\">\n",
       "      <th></th>\n",
       "      <th>XLC</th>\n",
       "      <th>VOX</th>\n",
       "      <th>FCOM</th>\n",
       "      <th>VDE</th>\n",
       "      <th>XLI</th>\n",
       "      <th>ACES</th>\n",
       "      <th>XHE</th>\n",
       "      <th>RSPH</th>\n",
       "      <th>KCE</th>\n",
       "      <th>KBWP</th>\n",
       "    </tr>\n",
       "    <tr>\n",
       "      <th>Date</th>\n",
       "      <th></th>\n",
       "      <th></th>\n",
       "      <th></th>\n",
       "      <th></th>\n",
       "      <th></th>\n",
       "      <th></th>\n",
       "      <th></th>\n",
       "      <th></th>\n",
       "      <th></th>\n",
       "      <th></th>\n",
       "    </tr>\n",
       "  </thead>\n",
       "  <tbody>\n",
       "    <tr>\n",
       "      <th>2018-06-19</th>\n",
       "      <td>47.428032</td>\n",
       "      <td>81.521606</td>\n",
       "      <td>27.402475</td>\n",
       "      <td>82.224220</td>\n",
       "      <td>66.086960</td>\n",
       "      <td>NaN</td>\n",
       "      <td>80.471573</td>\n",
       "      <td>18.111275</td>\n",
       "      <td>53.527534</td>\n",
       "      <td>53.708946</td>\n",
       "    </tr>\n",
       "    <tr>\n",
       "      <th>2018-06-20</th>\n",
       "      <td>48.016621</td>\n",
       "      <td>81.474777</td>\n",
       "      <td>27.118317</td>\n",
       "      <td>82.739998</td>\n",
       "      <td>66.132088</td>\n",
       "      <td>NaN</td>\n",
       "      <td>80.511467</td>\n",
       "      <td>18.156744</td>\n",
       "      <td>53.703590</td>\n",
       "      <td>53.121632</td>\n",
       "    </tr>\n",
       "    <tr>\n",
       "      <th>2018-06-21</th>\n",
       "      <td>47.722324</td>\n",
       "      <td>80.799995</td>\n",
       "      <td>26.834156</td>\n",
       "      <td>81.041893</td>\n",
       "      <td>65.301811</td>\n",
       "      <td>NaN</td>\n",
       "      <td>79.653374</td>\n",
       "      <td>18.062904</td>\n",
       "      <td>53.122623</td>\n",
       "      <td>52.727169</td>\n",
       "    </tr>\n",
       "    <tr>\n",
       "      <th>2018-06-22</th>\n",
       "      <td>47.931175</td>\n",
       "      <td>81.296700</td>\n",
       "      <td>27.052013</td>\n",
       "      <td>82.954262</td>\n",
       "      <td>65.527428</td>\n",
       "      <td>NaN</td>\n",
       "      <td>80.122330</td>\n",
       "      <td>18.141266</td>\n",
       "      <td>53.166630</td>\n",
       "      <td>52.858643</td>\n",
       "    </tr>\n",
       "    <tr>\n",
       "      <th>2018-06-25</th>\n",
       "      <td>46.943890</td>\n",
       "      <td>80.275238</td>\n",
       "      <td>26.834156</td>\n",
       "      <td>81.097412</td>\n",
       "      <td>64.697166</td>\n",
       "      <td>NaN</td>\n",
       "      <td>78.615685</td>\n",
       "      <td>17.909092</td>\n",
       "      <td>52.268791</td>\n",
       "      <td>52.595680</td>\n",
       "    </tr>\n",
       "    <tr>\n",
       "      <th>...</th>\n",
       "      <td>...</td>\n",
       "      <td>...</td>\n",
       "      <td>...</td>\n",
       "      <td>...</td>\n",
       "      <td>...</td>\n",
       "      <td>...</td>\n",
       "      <td>...</td>\n",
       "      <td>...</td>\n",
       "      <td>...</td>\n",
       "      <td>...</td>\n",
       "    </tr>\n",
       "    <tr>\n",
       "      <th>2024-04-03</th>\n",
       "      <td>82.809998</td>\n",
       "      <td>132.759995</td>\n",
       "      <td>50.169998</td>\n",
       "      <td>135.399994</td>\n",
       "      <td>125.050003</td>\n",
       "      <td>28.879999</td>\n",
       "      <td>84.849998</td>\n",
       "      <td>30.870001</td>\n",
       "      <td>109.750000</td>\n",
       "      <td>106.610001</td>\n",
       "    </tr>\n",
       "    <tr>\n",
       "      <th>2024-04-04</th>\n",
       "      <td>81.690002</td>\n",
       "      <td>131.259995</td>\n",
       "      <td>49.540001</td>\n",
       "      <td>135.229996</td>\n",
       "      <td>123.949997</td>\n",
       "      <td>28.639999</td>\n",
       "      <td>84.459999</td>\n",
       "      <td>30.540001</td>\n",
       "      <td>108.730003</td>\n",
       "      <td>105.279999</td>\n",
       "    </tr>\n",
       "    <tr>\n",
       "      <th>2024-04-05</th>\n",
       "      <td>82.519997</td>\n",
       "      <td>132.669998</td>\n",
       "      <td>50.099998</td>\n",
       "      <td>136.699997</td>\n",
       "      <td>125.669998</td>\n",
       "      <td>28.340000</td>\n",
       "      <td>85.660004</td>\n",
       "      <td>30.780001</td>\n",
       "      <td>109.550003</td>\n",
       "      <td>106.040001</td>\n",
       "    </tr>\n",
       "    <tr>\n",
       "      <th>2024-04-08</th>\n",
       "      <td>82.529999</td>\n",
       "      <td>132.449997</td>\n",
       "      <td>50.049999</td>\n",
       "      <td>135.869995</td>\n",
       "      <td>125.449997</td>\n",
       "      <td>28.955999</td>\n",
       "      <td>86.040001</td>\n",
       "      <td>30.750000</td>\n",
       "      <td>110.830002</td>\n",
       "      <td>105.989998</td>\n",
       "    </tr>\n",
       "    <tr>\n",
       "      <th>2024-04-09</th>\n",
       "      <td>82.620003</td>\n",
       "      <td>132.979996</td>\n",
       "      <td>50.250000</td>\n",
       "      <td>135.809998</td>\n",
       "      <td>125.160004</td>\n",
       "      <td>29.639999</td>\n",
       "      <td>87.480003</td>\n",
       "      <td>31.059999</td>\n",
       "      <td>110.320000</td>\n",
       "      <td>103.779999</td>\n",
       "    </tr>\n",
       "  </tbody>\n",
       "</table>\n",
       "<p>1461 rows × 10 columns</p>\n",
       "</div>"
      ],
      "text/plain": [
       "                  XLC         VOX       FCOM         VDE         XLI  \\\n",
       "Date                                                                   \n",
       "2018-06-19  47.428032   81.521606  27.402475   82.224220   66.086960   \n",
       "2018-06-20  48.016621   81.474777  27.118317   82.739998   66.132088   \n",
       "2018-06-21  47.722324   80.799995  26.834156   81.041893   65.301811   \n",
       "2018-06-22  47.931175   81.296700  27.052013   82.954262   65.527428   \n",
       "2018-06-25  46.943890   80.275238  26.834156   81.097412   64.697166   \n",
       "...               ...         ...        ...         ...         ...   \n",
       "2024-04-03  82.809998  132.759995  50.169998  135.399994  125.050003   \n",
       "2024-04-04  81.690002  131.259995  49.540001  135.229996  123.949997   \n",
       "2024-04-05  82.519997  132.669998  50.099998  136.699997  125.669998   \n",
       "2024-04-08  82.529999  132.449997  50.049999  135.869995  125.449997   \n",
       "2024-04-09  82.620003  132.979996  50.250000  135.809998  125.160004   \n",
       "\n",
       "                 ACES        XHE       RSPH         KCE        KBWP  \n",
       "Date                                                                 \n",
       "2018-06-19        NaN  80.471573  18.111275   53.527534   53.708946  \n",
       "2018-06-20        NaN  80.511467  18.156744   53.703590   53.121632  \n",
       "2018-06-21        NaN  79.653374  18.062904   53.122623   52.727169  \n",
       "2018-06-22        NaN  80.122330  18.141266   53.166630   52.858643  \n",
       "2018-06-25        NaN  78.615685  17.909092   52.268791   52.595680  \n",
       "...               ...        ...        ...         ...         ...  \n",
       "2024-04-03  28.879999  84.849998  30.870001  109.750000  106.610001  \n",
       "2024-04-04  28.639999  84.459999  30.540001  108.730003  105.279999  \n",
       "2024-04-05  28.340000  85.660004  30.780001  109.550003  106.040001  \n",
       "2024-04-08  28.955999  86.040001  30.750000  110.830002  105.989998  \n",
       "2024-04-09  29.639999  87.480003  31.059999  110.320000  103.779999  \n",
       "\n",
       "[1461 rows x 10 columns]"
      ]
     },
     "execution_count": 100,
     "metadata": {},
     "output_type": "execute_result"
    }
   ],
   "source": [
    "ETF_list = [\"XLC\", \"VOX\", \"FCOM\", \"VDE\", \"XLI\", \"ACES\", \"XHE\", \"RSPH\", \"KCE\", \"KBWP\"]\n",
    "start = datetime.datetime(2018, 1, 1)\n",
    "end = datetime.datetime(2024, 4, 10)\n",
    "\n",
    "ETF_df = pd.DataFrame()\n",
    "for ETF in ETF_list:\n",
    "    ETF_data = yf.download(tickers=ETF, start= start, end = end, interval='1d')\n",
    "    ETF_df[ETF] = ETF_data['Adj Close']  \n",
    "ETF_df"
   ]
  },
  {
   "cell_type": "markdown",
   "id": "429826e0",
   "metadata": {},
   "source": [
    "# Calculating Standard Deviation for ETFs:\n",
    "\n",
    "We utilize Standard Deviation, to measure the  volaility of ETFs\n",
    "$$\n",
    "Standard Deviation = \\sqrt{\\frac{\\sum_{i=1}^{N}(x_i - \\bar{x})^2}{N-1}}\n",
    "$$\n"
   ]
  },
  {
   "cell_type": "code",
   "execution_count": 103,
   "id": "8c76e949",
   "metadata": {},
   "outputs": [
    {
     "data": {
      "text/plain": [
       "<Axes: >"
      ]
     },
     "execution_count": 103,
     "metadata": {},
     "output_type": "execute_result"
    },
    {
     "data": {
      "image/png": "[encoded data removed]",
      "text/plain": [
       "<Figure size 640x480 with 1 Axes>"
      ]
     },
     "metadata": {},
     "output_type": "display_data"
    }
   ],
   "source": [
    "# Utilizing Standard Deviation (Square Root of Variance) to measure the volatility of each ETF\n",
    "#We multiply this by the square root of 250, because we assume that on average there are 250 trading days per year\n",
    "Annualized_SD = ETF_df.pct_change().apply(lambda x: np.log(1+x)).std().apply(lambda x: x*np.sqrt(250))\n",
    "Annualized_SD.plot(kind = 'bar')"
   ]
  },
  {
   "cell_type": "markdown",
   "id": "47e32c5e",
   "metadata": {},
   "source": [
    "# Calculating the Covariance:\n",
    "\n",
    "###            Covariance is the measurment between the relationship between two types of variables\n",
    "    Negative Cov: When Asset A is performing well, Asset B tends to perform poorly, and vice versa\n",
    "    Zero Cov: The performance of the assets are unrelated\n",
    "    Positive Cov: When Asset A is perform well, Asset B tends to perform well, and vice versa"
   ]
  },
  {
   "cell_type": "code",
   "execution_count": 104,
   "id": "6694b55e",
   "metadata": {},
   "outputs": [],
   "source": [
    "ETF_df_returns = ETF_df.pct_change() # Calculated as: (val[1] - val[0])/val[0]\n",
    "Cov_Matrix = ETF_df_returns.cov()"
   ]
  },
  {
   "cell_type": "markdown",
   "id": "41d59596",
   "metadata": {},
   "source": [
    "# Understanding the Covariance Matrix\n",
    "### Diagonal\n",
    "The diagonal yields the variance of each individual ETF\n",
    "Outside of the diagonal lies the covariance of the ETF's with one another\n",
    "\n",
    "## Why:\n",
    "The covariance informs us on the the direction of the relationship between two assets. This is important because in MPT, we are tasked with developing a highly diversified portfolio. Negative covariance implies that the performances of assets have an inverse relaitonship. Adding negatively related assets to a portfolio reduce it's volatility/risk and improve its stability. \n",
    "\n",
    "# Calculating the Correlation Coefficient:"
   ]
  },
  {
   "cell_type": "code",
   "execution_count": 105,
   "id": "699b0479",
   "metadata": {},
   "outputs": [],
   "source": [
    "Corr_Matrix = ETF_df_returns.corr()"
   ]
  },
  {
   "cell_type": "markdown",
   "id": "87cdfe72",
   "metadata": {},
   "source": [
    "## Why:\n",
    "The correlation coefficient not only tells us the direction of the relationship between assets, but it also details details the strength of the relationship. Investors prefer to correlation coefficient because its output is standardized on a scale of -1 to 1.\n",
    "### Interpretation:\n",
    "    -1: Perfectly negative relationship\n",
    "     0: Unrelated relationship\n",
    "     1: Perfectly positive relationship"
   ]
  },
  {
   "cell_type": "code",
   "execution_count": 106,
   "id": "c1d1bd92",
   "metadata": {},
   "outputs": [],
   "source": [
    "# plt.figure(figsize=(15,8))\n",
    "# sns.heatmap(ETF_df_returns.corr(), annot=True)\n",
    "# plt.title(\"Correlations between ETFs\")\n",
    "# plt.show()"
   ]
  },
  {
   "cell_type": "markdown",
   "id": "be134adf",
   "metadata": {},
   "source": [
    "According to modern portfolio theory, it is preferable to have stocks which are negatively correlated in a portfolio. There are no negatively correlated stocks in the selected stock options. Alternatively, we can assign weights to each stock option to generate a portfolio that maximises return for a given risk. \n",
    "\n",
    "Use user risk profile generated from user questionnaire and open banking information to generate a subset of stock options by correlating stock volatility with risk."
   ]
  },
  {
   "cell_type": "markdown",
   "id": "575eea3e",
   "metadata": {},
   "source": [
    "# Calculating Portfolio Variance and Standard Deviation\n",
    "\n",
    "We generate a sample portfolio where each asset has an equal weight within the portfolio. We then calculate the volatility of the portfolio utilizing the variance and standard deviation formulas below. We utilize the covariance and correlaiton matrix for a sample portfolio\n",
    "\n",
    "## Variance\n",
    "$$\n",
    "\\text{Portfolio Variance} = \\sum_{i=1}^{n} \\sum_{j=1}^{n} w_i w_j \\text{Cov}(R_i, R_j)\n",
    "$$\n",
    "\n"
   ]
  },
  {
   "cell_type": "code",
   "execution_count": 107,
   "id": "192fe88e",
   "metadata": {},
   "outputs": [
    {
     "data": {
      "text/plain": [
       "0.00018409962796339096"
      ]
     },
     "execution_count": 107,
     "metadata": {},
     "output_type": "execute_result"
    }
   ],
   "source": [
    "weights = np.ones(len(ETF_df_returns.columns))/len(ETF_df_returns.columns)\n",
    "Sample_Portfolio_Var = Cov_Matrix.mul(weights, axis = 0).mul(weights, axis = 1).sum().sum()\n",
    "Sample_Portfolio_Var"
   ]
  },
  {
   "cell_type": "markdown",
   "id": "d2e18242",
   "metadata": {},
   "source": [
    "$$\n",
    "\\text{Portfolio Standard Deviation} = \\sqrt{\\text{Portfolio Variance}}\n",
    "$$\n",
    "\n",
    "Below is the Annual Standard Deviation for our sample Portfolio"
   ]
  },
  {
   "cell_type": "code",
   "execution_count": 108,
   "id": "8bb9de58",
   "metadata": {},
   "outputs": [
    {
     "data": {
      "text/plain": [
       "0.21453416275933243"
      ]
     },
     "execution_count": 108,
     "metadata": {},
     "output_type": "execute_result"
    }
   ],
   "source": [
    "Sample_Portfolio_Annual_STD = np.sqrt(Sample_Portfolio_Var)*np.sqrt(250)\n",
    "Sample_Portfolio_Annual_STD"
   ]
  },
  {
   "cell_type": "markdown",
   "id": "5f3a44b6",
   "metadata": {},
   "source": [
    "# Calculating Investment Portfolio Expected Return\n",
    "\n",
    "$$\n",
    "Expected Return = \\sum_{i=1}^{n} w_i \\times R_i\n",
    "$$\n",
    "\n",
    "Sum of the weighted averages of the expect returns of each asset in our sample portfolio"
   ]
  },
  {
   "cell_type": "code",
   "execution_count": 109,
   "id": "72ad29ac",
   "metadata": {},
   "outputs": [
    {
     "data": {
      "text/plain": [
       "XLC     0.171868\n",
       "VOX     0.150280\n",
       "FCOM    0.145424\n",
       "VDE     0.186903\n",
       "XLI     0.139618\n",
       "ACES    0.176367\n",
       "XHE     0.054184\n",
       "RSPH    0.110357\n",
       "KCE     0.193301\n",
       "KBWP    0.132771\n",
       "dtype: float64"
      ]
     },
     "execution_count": 109,
     "metadata": {},
     "output_type": "execute_result"
    }
   ],
   "source": [
    "#Because we are looking at annual returns we calculate the annual return at the end of each year.\n",
    "df = ETF_df.resample('Y').last().pct_change()\n",
    "#Gives us the average return for each asset\n",
    "Expected_Return = df.mean()\n",
    "#Dot is a np method which computes the sum of the product of 2 numpy arrays, \n",
    "#here we are multiplying the weights of each asset by their expected return\n",
    "Sample_Portfolio_Return = np.dot(weights, Expected_Return)\n",
    "Expected_Return"
   ]
  },
  {
   "cell_type": "code",
   "execution_count": 110,
   "id": "c0792f2c",
   "metadata": {},
   "outputs": [],
   "source": [
    "# p_ret = []\n",
    "# p_vol = []\n",
    "# p_weights= []\n",
    "# num_assets = len(ETF_df.columns)\n",
    "# num_portfolios = 5000\n",
    "\n",
    "# for portfolio in range(num_portfolios):\n",
    "#     #Generate a random weight for each ETF\n",
    "#     weights = np.random.random(num_assets)\n",
    "#     #Adjusting weights of portfolios so they sum to 1\n",
    "#     weights = weights/np.sum(weights)\n",
    "#     p_weights.append(weights)\n",
    "#     returns = np.dot(weights, Expected_Return)\n",
    "#     p_ret.append(returns)\n",
    "#     var = Cov_Matrix.mul(weights, axis = 0).mul(weights, axis = 1).sum().sum()\n",
    "#     sd = np.sqrt(var)*np.sqrt(250)\n",
    "#     p_vol.append(sd)\n",
    "    \n",
    "# weights"
   ]
  },
  {
   "cell_type": "code",
   "execution_count": 111,
   "id": "1aaf8a5e",
   "metadata": {},
   "outputs": [],
   "source": [
    "# data = {'Returns': p_ret, 'Volatility': p_vol}\n",
    "# for counter, symbol in enumerate(ETF_df.columns.to_list()):\n",
    "#     print(counter, symbol)\n",
    "#     data[symbol+' weight'] = [w[counter] for w in p_weights]\n",
    "\n",
    "# yvid_port = pd.DataFrame(data)\n",
    "# yvid_port.head()"
   ]
  },
  {
   "cell_type": "code",
   "execution_count": 112,
   "id": "215a7754",
   "metadata": {},
   "outputs": [],
   "source": [
    "# plt.scatter(p_vol,p_ret)"
   ]
  },
  {
   "cell_type": "markdown",
   "id": "a2b4181e",
   "metadata": {},
   "source": [
    "# Building the Efficiency Frontier"
   ]
  },
  {
   "cell_type": "code",
   "execution_count": 113,
   "id": "2df5d352",
   "metadata": {},
   "outputs": [
    {
     "data": {
      "image/png": "[encoded data removed]",
      "text/plain": [
       "<Figure size 640x480 with 1 Axes>"
      ]
     },
     "metadata": {},
     "output_type": "display_data"
    }
   ],
   "source": [
    "def portfolio_volatility(weights,cov_matrix):\n",
    "    Portfolio_Var = cov_matrix.mul(weights, axis = 0).mul(weights, axis = 1).sum().sum()\n",
    "    Port_SD = np.sqrt(Portfolio_Var)*np.sqrt(250)\n",
    "    return Port_SD\n",
    "\n",
    "def random_weights(etfs):\n",
    "    weights = np.random.random(len(ETF_df.columns))\n",
    "    return weights / np.sum(weights)\n",
    "\n",
    "def random_portfolio(expected_returns, cov_matrix):\n",
    "    etfs = len(expected_returns)\n",
    "    weights = random_weights(etfs)\n",
    "    rand_vol = portfolio_volatility(weights, cov_matrix)\n",
    "    rand_return = np.dot(weights, expected_returns)\n",
    "    return weights, rand_return, rand_vol\n",
    "\n",
    "def target_return_max(weights, expected_returns, target_return):\n",
    "    return np.dot(weights, expected_returns) - target_return\n",
    "\n",
    "Port_Return = []\n",
    "Port_Vol = []\n",
    "Port_Weights = []\n",
    "tot_ports = 100\n",
    "\n",
    "for i in range(tot_ports):\n",
    "    weights, rand_return, rand_vol = random_portfolio(Expected_Return, Cov_Matrix)\n",
    "    Port_Return.append(rand_return)\n",
    "    Port_Vol.append(rand_vol)\n",
    "    Port_Weights.append(weights)\n",
    "\n",
    "# Calculate the efficiency frontier\n",
    "Efficient_Port_Return = []\n",
    "Efficient_Port_Vol = []\n",
    "\n",
    "potential_returns = np.linspace(min(Expected_Return), max(Expected_Return), 100)\n",
    "\n",
    "initial_weights = np.ones(len(Expected_Return)) / len(Expected_Return)\n",
    "\n",
    "for pot_return in potential_returns:\n",
    "    constraints = ({'type': 'eq','fun': target_return_max, 'args': (Expected_Return, pot_return)},\n",
    "                   {'type': 'eq', 'fun': lambda w: np.sum(w) - 1})\n",
    "    result = minimize(portfolio_volatility, initial_weights, args=(Cov_Matrix,), constraints=constraints)\n",
    "    if result.success:\n",
    "        Efficient_Port_Return.append(pot_return)\n",
    "        Efficient_Port_Vol.append(result.fun)\n",
    "        \n",
    "# Plot the results\n",
    "plt.scatter(Efficient_Port_Vol, Efficient_Port_Return, label='Efficiency Frontier')\n",
    "plt.xlabel('Portfolio Volatility')\n",
    "plt.ylabel('Portfolio Return')\n",
    "plt.title('Efficiency Frontier')\n",
    "plt.legend()\n",
    "plt.show()"
   ]
  },
  {
   "cell_type": "code",
   "execution_count": 121,
   "id": "2238a386",
   "metadata": {},
   "outputs": [
    {
     "data": {
      "text/plain": [
       " message: Optimization terminated successfully\n",
       " success: True\n",
       "  status: 0\n",
       "     fun: 0.1979942579545651\n",
       "       x: [ 9.869e-01 -1.033e+00  2.946e-01  3.617e-03 -1.163e-01\n",
       "            4.698e-02 -5.279e-01  9.280e-01  2.342e-01  1.829e-01]\n",
       "     nit: 36\n",
       "     jac: [ 1.908e-01  1.835e-01  1.819e-01  1.958e-01  1.798e-01\n",
       "            1.923e-01  1.511e-01  1.700e-01  1.980e-01  1.775e-01]\n",
       "    nfev: 396\n",
       "    njev: 36"
      ]
     },
     "execution_count": 121,
     "metadata": {},
     "output_type": "execute_result"
    }
   ],
   "source": [
    "result"
   ]
  },
  {
   "cell_type": "markdown",
   "id": "b9fdd980",
   "metadata": {},
   "source": [
    "## Understanding the Efficiency Frontier\n",
    "\n",
    "Represents the minimum variance frontier, any risk adverse investor, will ONLY invest in portfolios on the fringe of this frontier. This frontier represents the minimum variance (lowest risk) portfolios, for all expected returns from our random portfolios"
   ]
  },
  {
   "cell_type": "code",
   "execution_count": 114,
   "id": "09f5c9a5",
   "metadata": {},
   "outputs": [
    {
     "data": {
      "text/html": [
       "<div>\n",
       "<style scoped>\n",
       "    .dataframe tbody tr th:only-of-type {\n",
       "        vertical-align: middle;\n",
       "    }\n",
       "\n",
       "    .dataframe tbody tr th {\n",
       "        vertical-align: top;\n",
       "    }\n",
       "\n",
       "    .dataframe thead th {\n",
       "        text-align: right;\n",
       "    }\n",
       "</style>\n",
       "<table border=\"1\" class=\"dataframe\">\n",
       "  <thead>\n",
       "    <tr style=\"text-align: right;\">\n",
       "      <th></th>\n",
       "      <th>Returns</th>\n",
       "      <th>Vol</th>\n",
       "      <th>XLC weight</th>\n",
       "      <th>VOX weight</th>\n",
       "      <th>FCOM weight</th>\n",
       "      <th>VDE weight</th>\n",
       "      <th>XLI weight</th>\n",
       "      <th>ACES weight</th>\n",
       "      <th>XHE weight</th>\n",
       "      <th>RSPH weight</th>\n",
       "      <th>KCE weight</th>\n",
       "      <th>KBWP weight</th>\n",
       "    </tr>\n",
       "  </thead>\n",
       "  <tbody>\n",
       "    <tr>\n",
       "      <th>0</th>\n",
       "      <td>0.054184</td>\n",
       "      <td>0.190935</td>\n",
       "      <td>0.213971</td>\n",
       "      <td>0.034088</td>\n",
       "      <td>0.088500</td>\n",
       "      <td>0.137999</td>\n",
       "      <td>0.179610</td>\n",
       "      <td>0.002489</td>\n",
       "      <td>0.072884</td>\n",
       "      <td>0.065260</td>\n",
       "      <td>0.204447</td>\n",
       "      <td>0.000752</td>\n",
       "    </tr>\n",
       "    <tr>\n",
       "      <th>1</th>\n",
       "      <td>0.055589</td>\n",
       "      <td>0.190592</td>\n",
       "      <td>0.106085</td>\n",
       "      <td>0.032088</td>\n",
       "      <td>0.195941</td>\n",
       "      <td>0.188992</td>\n",
       "      <td>0.091594</td>\n",
       "      <td>0.083955</td>\n",
       "      <td>0.211673</td>\n",
       "      <td>0.003081</td>\n",
       "      <td>0.037862</td>\n",
       "      <td>0.048729</td>\n",
       "    </tr>\n",
       "    <tr>\n",
       "      <th>2</th>\n",
       "      <td>0.056994</td>\n",
       "      <td>0.190257</td>\n",
       "      <td>0.031547</td>\n",
       "      <td>0.069440</td>\n",
       "      <td>0.006856</td>\n",
       "      <td>0.236395</td>\n",
       "      <td>0.146930</td>\n",
       "      <td>0.119010</td>\n",
       "      <td>0.001373</td>\n",
       "      <td>0.046889</td>\n",
       "      <td>0.201529</td>\n",
       "      <td>0.140031</td>\n",
       "    </tr>\n",
       "    <tr>\n",
       "      <th>3</th>\n",
       "      <td>0.058400</td>\n",
       "      <td>0.189930</td>\n",
       "      <td>0.104674</td>\n",
       "      <td>0.010810</td>\n",
       "      <td>0.140883</td>\n",
       "      <td>0.147635</td>\n",
       "      <td>0.043585</td>\n",
       "      <td>0.024877</td>\n",
       "      <td>0.057180</td>\n",
       "      <td>0.167425</td>\n",
       "      <td>0.133440</td>\n",
       "      <td>0.169491</td>\n",
       "    </tr>\n",
       "    <tr>\n",
       "      <th>4</th>\n",
       "      <td>0.059805</td>\n",
       "      <td>0.189611</td>\n",
       "      <td>0.079348</td>\n",
       "      <td>0.130470</td>\n",
       "      <td>0.104378</td>\n",
       "      <td>0.053100</td>\n",
       "      <td>0.172456</td>\n",
       "      <td>0.064811</td>\n",
       "      <td>0.160809</td>\n",
       "      <td>0.000757</td>\n",
       "      <td>0.185947</td>\n",
       "      <td>0.047923</td>\n",
       "    </tr>\n",
       "  </tbody>\n",
       "</table>\n",
       "</div>"
      ],
      "text/plain": [
       "    Returns       Vol  XLC weight  VOX weight  FCOM weight  VDE weight  \\\n",
       "0  0.054184  0.190935    0.213971    0.034088     0.088500    0.137999   \n",
       "1  0.055589  0.190592    0.106085    0.032088     0.195941    0.188992   \n",
       "2  0.056994  0.190257    0.031547    0.069440     0.006856    0.236395   \n",
       "3  0.058400  0.189930    0.104674    0.010810     0.140883    0.147635   \n",
       "4  0.059805  0.189611    0.079348    0.130470     0.104378    0.053100   \n",
       "\n",
       "   XLI weight  ACES weight  XHE weight  RSPH weight  KCE weight  KBWP weight  \n",
       "0    0.179610     0.002489    0.072884     0.065260    0.204447     0.000752  \n",
       "1    0.091594     0.083955    0.211673     0.003081    0.037862     0.048729  \n",
       "2    0.146930     0.119010    0.001373     0.046889    0.201529     0.140031  \n",
       "3    0.043585     0.024877    0.057180     0.167425    0.133440     0.169491  \n",
       "4    0.172456     0.064811    0.160809     0.000757    0.185947     0.047923  "
      ]
     },
     "execution_count": 114,
     "metadata": {},
     "output_type": "execute_result"
    }
   ],
   "source": [
    "data = {'Returns': Efficient_Port_Return, 'Vol': Efficient_Port_Vol}\n",
    "data\n",
    "\n",
    "for counter, symbol in enumerate(ETF_df.columns.tolist()):\n",
    "    data[symbol+' weight'] = [w[counter] for w in Port_Weights]\n",
    "    \n",
    "portfolios = pd.DataFrame(data)\n",
    "portfolios.head()"
   ]
  },
  {
   "cell_type": "markdown",
   "id": "52fbaff7",
   "metadata": {},
   "source": [
    "# Deriving the Minimum Variance Portfolio "
   ]
  },
  {
   "cell_type": "code",
   "execution_count": 115,
   "id": "1f12f35b",
   "metadata": {},
   "outputs": [
    {
     "data": {
      "image/png": "[encoded data removed]",
      "text/plain": [
       "<Figure size 640x480 with 1 Axes>"
      ]
     },
     "metadata": {},
     "output_type": "display_data"
    }
   ],
   "source": [
    "mvp = portfolios.iloc[portfolios['Vol'].idxmin()]\n",
    "mvp\n",
    "plt.scatter(portfolios['Vol'], portfolios['Returns'])\n",
    "plt.scatter(mvp[1], mvp[0], color = 'red')\n",
    "plt.xlabel('Portfolio Volatility')\n",
    "plt.ylabel('Portfolio Return')\n",
    "plt.title('Efficiency Frontier')\n",
    "plt.show()"
   ]
  },
  {
   "cell_type": "markdown",
   "id": "2d801fd5",
   "metadata": {},
   "source": [
    "# Optimal Risky Portfolio - Sharpe Ratio\n",
    "$$\n",
    "Sharpe Ration = \\frac{{E(r_m) - r_f}}{{\\sigma_m}}\n",
    "$$"
   ]
  },
  {
   "cell_type": "code",
   "execution_count": 116,
   "id": "48b24b98",
   "metadata": {},
   "outputs": [
    {
     "name": "stdout",
     "output_type": "stream",
     "text": [
      "0.1933012728899909\n",
      "0.1979942579545651\n"
     ]
    },
    {
     "data": {
      "image/png": "[encoded data removed]",
      "text/plain": [
       "<Figure size 640x480 with 1 Axes>"
      ]
     },
     "metadata": {},
     "output_type": "display_data"
    }
   ],
   "source": [
    "risk_free = .035\n",
    "((portfolios['Returns'] - risk_free)/portfolios['Vol'])\n",
    "orp = portfolios.iloc[((portfolios['Returns'] - risk_free)/portfolios['Vol']).idxmax()]\n",
    "print(orp['Returns'])\n",
    "print(orp['Vol'])\n",
    "\n",
    "\n",
    "plt.scatter(portfolios['Vol'], portfolios['Returns'])\n",
    "plt.scatter(mvp[1], mvp[0], color = 'red')\n",
    "plt.scatter(orp[1], orp[0], color = 'yellow')\n",
    "plt.xlabel('Portfolio Volatility')\n",
    "plt.ylabel('Portfolio Return')\n",
    "plt.title('Efficiency Frontier')\n",
    "plt.show()"
   ]
  },
  {
   "cell_type": "markdown",
   "id": "e236dca0",
   "metadata": {},
   "source": [
    "# Deriving User Utility\n",
    "## Utility Function\n",
    "#### A = Risk Aversion: The reward an investor requires to accept additional risk\n",
    "High A = Highly Risk Adverse\n",
    "Low A = Risk Loving\n",
    "#### Sigma = Volatility of the Asset\n",
    "$$ U = E(R) - 0.5A\\sigma^2 $$\n",
    "## Capital Allocation Line\n",
    "$$ E(r_p) = r_f + \\frac{{E(r_m) - r_f}}{{\\sigma_m}} \\cdot \\sigma_p \\cdot A $$\n",
    "    rf = risk free rate  \n",
    "    sharpe ratio of optimal risky portfolio  \n",
    "    standard deviation of entire portfolio - we will solve for this value  "
   ]
  },
  {
   "cell_type": "code",
   "execution_count": 117,
   "id": "77cb1a73",
   "metadata": {},
   "outputs": [
    {
     "data": {
      "image/png": "[encoded data removed]",
      "text/plain": [
       "<Figure size 640x480 with 1 Axes>"
      ]
     },
     "metadata": {},
     "output_type": "display_data"
    }
   ],
   "source": [
    "def cal (rf, rm, sm, sp, aversion):\n",
    "    return rf + (((rm - rf) / sm) * (sp * aversion))\n",
    "\n",
    "rm = orp['Returns']\n",
    "sm = orp['Vol']\n",
    "utility = []\n",
    "\n",
    "risk_aversion = 1\n",
    "\n",
    "#Calculating Capital Allocation Line Values for a given Volatility\n",
    "cal_values = []\n",
    "for sp in Efficient_Port_Vol:\n",
    "    cal_return = cal(risk_free, orp['Returns'], orp['Vol'], sp, risk_aversion)\n",
    "    cal_values.append(cal_return)\n",
    "    util = cal_return - (.5 *risk_aversion*sp**2)\n",
    "    utility.append(util)\n",
    "\n",
    "plt.scatter(portfolios['Vol'], portfolios['Returns'])\n",
    "plt.scatter(mvp[1], mvp[0], color = 'red')\n",
    "plt.scatter(orp[1], orp[0], color = 'yellow')\n",
    "plt.plot(Efficient_Port_Vol,cal_values, label = 'Capital Allocation Line', color = 'orange')\n",
    "plt.xlabel('Portfolio Volatility')\n",
    "plt.ylabel('Portfolio Return')\n",
    "plt.title('Efficiency Frontier')\n",
    "plt.show()"
   ]
  },
  {
   "cell_type": "markdown",
   "id": "9bb139b9",
   "metadata": {},
   "source": [
    "# Optimal Portfolio = Largest Utility"
   ]
  },
  {
   "cell_type": "code",
   "execution_count": 118,
   "id": "99e23c73",
   "metadata": {},
   "outputs": [
    {
     "data": {
      "image/png": "[encoded data removed]",
      "text/plain": [
       "<Figure size 640x480 with 1 Axes>"
      ]
     },
     "metadata": {},
     "output_type": "display_data"
    }
   ],
   "source": [
    "#Identifying index with largest utility\n",
    "max_util = np.argmax(utility)\n",
    "util_vol = Efficient_Port_Vol[max_util]\n",
    "util_ret = cal_values[max_util]\n",
    "\n",
    "plt.scatter(portfolios['Vol'], portfolios['Returns'])\n",
    "plt.scatter(mvp[1], mvp[0], color = 'red')\n",
    "plt.scatter(orp[1], orp[0], color = 'yellow')\n",
    "plt.plot(Efficient_Port_Vol,cal_values, label = 'Capital Allocation Line', color = 'orange')\n",
    "plt.scatter(util_vol, util_ret, color='green', label='Optimal Portfolio')\n",
    "plt.xlabel('Portfolio Volatility')\n",
    "plt.ylabel('Portfolio Return')\n",
    "plt.title('Efficiency Frontier')\n",
    "plt.show()"
   ]
  },
  {
   "cell_type": "markdown",
   "id": "df621fe2",
   "metadata": {},
   "source": [
    "# Notes for IGP Team:\n",
    "### It makes sense that our maximum utility portfolio and our optimal risky portfolio are the same because the volatility of these assets is EXTERMELY high, relative to their return, so the sharpe ratio is inherently going to be low, thus in order for the user to get good utility from investing, one must take on alot of risk, otherwise, the expected volatility outweighs the expected return of the asset == expected net loss.\n",
    "\n",
    "#### Please observe the equations provided to better understand this relationship\n",
    "\n",
    "## Next Steps:\n",
    "### Make Risk Aversion parameter more dynamic: Questionnaire + Open Banking\n",
    "### Replace existing (historical data) with new data set which includes (historical performance + projected performance)"
   ]
  },
  {
   "cell_type": "code",
   "execution_count": 119,
   "id": "6d76de5d",
   "metadata": {
    "scrolled": true
   },
   "outputs": [],
   "source": [
    "## Random iterations of MPT algorithm\n",
    "\n",
    "#Covariance Matrix\n",
    "#Cov_Matrix\n",
    "#Expected Return\n",
    "#Expected_Return\n",
    "#Annualized SD\n",
    "#SD = ETF_df.pct_change().apply(lambda x: np.log(1+x)).std().apply(lambda x: x*np.sqrt(250))\n",
    "\n",
    "\n",
    "#Creating Expected Return and Volatility Matrix: Axis = 1 --> Concat Column wise\n",
    "# assets = pd.concat([Expected_Return, SD], axis = 1)\n",
    "# assets.columns = ['Expected Return', 'Volatility']\n",
    "# assets\n",
    "\n",
    "# def portfolio_volatility(weights,cov_matrix):\n",
    "#     Portfolio_Var = np.dot(weights.T, np.dot(cov_matrix, weights))\n",
    "#     return np.sqrt(Portfolio_Var)\n",
    "\n",
    "# #Target Returns Will need to be determined based off of investment goals\n",
    "# def target_return_max(weights, expected_returns, target_return):\n",
    "#     return np.dot(weights, expected_returns) - target_return\n",
    "\n",
    "# def random_weights(etfs):\n",
    "#     weights = np.random.random(len(ETF_df.columns))\n",
    "#     return weights / np.sum(weights)\n",
    "\n",
    "# def random_portfolio(expected_returns, cov_matrix):\n",
    "#     etfs = len(expected_returns)\n",
    "#     weights = random_weights(etfs)\n",
    "#     rand_vol = portfolio_volatility(weights, cov_matrix)\n",
    "#     rand_return = np.dot(weights, expected_returns)\n",
    "#     return weights, rand_return, rand_vol\n",
    "    \n",
    "# Port_Return = []\n",
    "# Port_Vol = []\n",
    "# tot_ports = 100\n",
    "\n",
    "# for i in range(tot_ports):\n",
    "#     weights, rand_return, rand_vol = random_portfolio(Expected_Return, Cov_Matrix)\n",
    "#     Port_Return.append(rand_return)\n",
    "#     Port_Vol.append(rand_vol)\n",
    "\n",
    "# potential_returns = np.linspace(min(Expected_Return), max(Expected_Return))\n",
    "\n",
    "# Efficient_Port_Return = []\n",
    "# Efficient_Port_Vol = []\n",
    "\n",
    "# initial_weights = np.ones(len(Expected_Return)) / len(Expected_Return)\n",
    "\n",
    "# for pot_return in potential_returns:\n",
    "#         constraints = ({'type': 'eq','fun': target_return_max, 'args': (Expected_Return, pot_return)},\n",
    "#                        {'type': 'eq', 'fun': lambda w: np.sum(w) - 1})\n",
    "#         result = minimize(portfolio_volatility, initial_weights, args = (Cov_Matrix,), constraints = constraints)\n",
    "#         if result.success:\n",
    "#             Port_Return.append(pot_return)\n",
    "#             Port_Vol.append(result.fun)\n",
    "\n",
    "#Was after this for loop\n",
    "# potential_returns = np.linspace(min(Expected_Return), max(Expected_Return))\n",
    "# len(potential_returns)\n",
    "\n",
    "\n",
    "# for i in range(Total_Portfolios):\n",
    "#     weights = np.random.random(len(ETF_df.columns))\n",
    "#     weights /= np.sum(weights)\n",
    "#     initial_weights = weights\n",
    "\n",
    "#Optimizing minimal return for each expected return\n",
    "\n",
    "# plt.scatter(Port_Vol, Port_Return, label = 'Efficiency Frontier')\n",
    "# plt.xlabel('Portfolio Volatility')\n",
    "# plt.ylabel('Portfolio Return')\n",
    "# plt.title('Efficiency Frontier')\n",
    "# plt.legend()\n",
    "# plt.show\n",
    "\n",
    "# initial_weights = np.ones(len(ETF_df.columns)) / len(ETF_df.columns)\n",
    "\n",
    "\n",
    "\n",
    "# Port_Weight = []\n",
    "# Total_ETFs = len(ETF_df.columns)\n",
    "# Total_Portfolios=10000\n",
    "\n",
    "# for portfolio in range(Total_Portfolios):\n",
    "#     #Generate a random weight for each ETF\n",
    "#     weights = np.random.random(Total_ETFs)\n",
    "#     #Adjusting weights of portfolios so they sum to 1\n",
    "#     weights = weights/np.sum(weights)\n",
    "#     returns = np.dot(weights, Expected_Return)\n",
    "#     Port_Return.append(returns)\n",
    "#     var = Cov_Matrix.mul(weights, axis = 0).mul(weights, axis = 1).sum().sum()\n",
    "#     sd = np.sqrt(var)*np.sqrt(250)\n",
    "#     Port_Vol.append(sd)\n",
    "    \n",
    "# Portfolio_Dict = {'Returns': Port_Return, 'Volatility': Port_Vol}\n",
    "# portfolios = pd.DataFrame(Portfolio_Dict)\n",
    "# portfolios"
   ]
  },
  {
   "cell_type": "code",
   "execution_count": null,
   "id": "97169618",
   "metadata": {},
   "outputs": [],
   "source": []
  }
 ],
 "metadata": {
  "kernelspec": {
   "display_name": "Python 3 (ipykernel)",
   "language": "python",
   "name": "python3"
  },
  "language_info": {
   "codemirror_mode": {
    "name": "ipython",
    "version": 3
   },
   "file_extension": ".py",
   "mimetype": "text/x-python",
   "name": "python",
   "nbconvert_exporter": "python",
   "pygments_lexer": "ipython3",
   "version": "3.11.4"
  }
 },
 "nbformat": 4,
 "nbformat_minor": 5
}
