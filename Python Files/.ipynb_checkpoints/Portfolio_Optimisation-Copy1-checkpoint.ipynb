{
 "cells": [
  {
   "cell_type": "code",
   "execution_count": 40,
   "id": "db06f606",
   "metadata": {},
   "outputs": [],
   "source": [
    "import warnings\n",
    "from IPython.display import clear_output\n",
    "warnings.filterwarnings('ignore')"
   ]
  },
  {
   "cell_type": "code",
   "execution_count": 41,
   "id": "c16d1425",
   "metadata": {},
   "outputs": [],
   "source": [
    "import numpy as np\n",
    "import pandas as pd\n",
    "import seaborn as sns\n",
    "import matplotlib.pyplot as plt\n",
    "import yfinance as yf\n",
    "\n",
    "from scipy.optimize import minimize\n",
    "\n",
    "import datetime\n",
    "import time"
   ]
  },
  {
   "cell_type": "code",
   "execution_count": 42,
   "id": "1cd628fb",
   "metadata": {
    "scrolled": true
   },
   "outputs": [
    {
     "name": "stderr",
     "output_type": "stream",
     "text": [
      "[*********************100%%**********************]  1 of 1 completed\n",
      "[*********************100%%**********************]  1 of 1 completed\n",
      "[*********************100%%**********************]  1 of 1 completed\n",
      "[*********************100%%**********************]  1 of 1 completed\n",
      "[*********************100%%**********************]  1 of 1 completed\n",
      "[*********************100%%**********************]  1 of 1 completed\n",
      "[*********************100%%**********************]  1 of 1 completed\n",
      "[*********************100%%**********************]  1 of 1 completed\n",
      "[*********************100%%**********************]  1 of 1 completed\n",
      "[*********************100%%**********************]  1 of 1 completed\n"
     ]
    },
    {
     "data": {
      "text/html": [
       "<div>\n",
       "<style scoped>\n",
       "    .dataframe tbody tr th:only-of-type {\n",
       "        vertical-align: middle;\n",
       "    }\n",
       "\n",
       "    .dataframe tbody tr th {\n",
       "        vertical-align: top;\n",
       "    }\n",
       "\n",
       "    .dataframe thead th {\n",
       "        text-align: right;\n",
       "    }\n",
       "</style>\n",
       "<table border=\"1\" class=\"dataframe\">\n",
       "  <thead>\n",
       "    <tr style=\"text-align: right;\">\n",
       "      <th></th>\n",
       "      <th>XLC</th>\n",
       "      <th>VOX</th>\n",
       "      <th>FCOM</th>\n",
       "      <th>VDE</th>\n",
       "      <th>XLI</th>\n",
       "      <th>ACES</th>\n",
       "      <th>XHE</th>\n",
       "      <th>RSPH</th>\n",
       "      <th>KCE</th>\n",
       "      <th>KBWP</th>\n",
       "    </tr>\n",
       "    <tr>\n",
       "      <th>Date</th>\n",
       "      <th></th>\n",
       "      <th></th>\n",
       "      <th></th>\n",
       "      <th></th>\n",
       "      <th></th>\n",
       "      <th></th>\n",
       "      <th></th>\n",
       "      <th></th>\n",
       "      <th></th>\n",
       "      <th></th>\n",
       "    </tr>\n",
       "  </thead>\n",
       "  <tbody>\n",
       "    <tr>\n",
       "      <th>2019-01-02</th>\n",
       "      <td>39.947193</td>\n",
       "      <td>71.402100</td>\n",
       "      <td>27.553358</td>\n",
       "      <td>63.838093</td>\n",
       "      <td>59.070053</td>\n",
       "      <td>21.560333</td>\n",
       "      <td>68.640663</td>\n",
       "      <td>17.039612</td>\n",
       "      <td>42.758991</td>\n",
       "      <td>49.649990</td>\n",
       "    </tr>\n",
       "    <tr>\n",
       "      <th>2019-01-03</th>\n",
       "      <td>39.278694</td>\n",
       "      <td>70.441055</td>\n",
       "      <td>27.208591</td>\n",
       "      <td>63.238754</td>\n",
       "      <td>57.272594</td>\n",
       "      <td>21.303940</td>\n",
       "      <td>66.663223</td>\n",
       "      <td>16.695076</td>\n",
       "      <td>41.894367</td>\n",
       "      <td>49.437016</td>\n",
       "    </tr>\n",
       "    <tr>\n",
       "      <th>2019-01-04</th>\n",
       "      <td>40.969017</td>\n",
       "      <td>73.362236</td>\n",
       "      <td>28.348259</td>\n",
       "      <td>65.563210</td>\n",
       "      <td>59.444141</td>\n",
       "      <td>21.966204</td>\n",
       "      <td>69.070099</td>\n",
       "      <td>17.287098</td>\n",
       "      <td>43.418613</td>\n",
       "      <td>50.297802</td>\n",
       "    </tr>\n",
       "    <tr>\n",
       "      <th>2019-01-07</th>\n",
       "      <td>41.436962</td>\n",
       "      <td>74.047325</td>\n",
       "      <td>28.606840</td>\n",
       "      <td>66.632309</td>\n",
       "      <td>59.927734</td>\n",
       "      <td>22.303009</td>\n",
       "      <td>69.609367</td>\n",
       "      <td>17.481207</td>\n",
       "      <td>43.525574</td>\n",
       "      <td>50.209049</td>\n",
       "    </tr>\n",
       "    <tr>\n",
       "      <th>2019-01-08</th>\n",
       "      <td>42.134113</td>\n",
       "      <td>75.303329</td>\n",
       "      <td>29.037813</td>\n",
       "      <td>67.199272</td>\n",
       "      <td>60.748913</td>\n",
       "      <td>22.533850</td>\n",
       "      <td>70.638054</td>\n",
       "      <td>17.664637</td>\n",
       "      <td>43.792984</td>\n",
       "      <td>50.146935</td>\n",
       "    </tr>\n",
       "    <tr>\n",
       "      <th>...</th>\n",
       "      <td>...</td>\n",
       "      <td>...</td>\n",
       "      <td>...</td>\n",
       "      <td>...</td>\n",
       "      <td>...</td>\n",
       "      <td>...</td>\n",
       "      <td>...</td>\n",
       "      <td>...</td>\n",
       "      <td>...</td>\n",
       "      <td>...</td>\n",
       "    </tr>\n",
       "    <tr>\n",
       "      <th>2024-03-04</th>\n",
       "      <td>78.756866</td>\n",
       "      <td>126.508911</td>\n",
       "      <td>47.823402</td>\n",
       "      <td>119.426071</td>\n",
       "      <td>121.584244</td>\n",
       "      <td>29.670000</td>\n",
       "      <td>85.949997</td>\n",
       "      <td>31.174000</td>\n",
       "      <td>106.870773</td>\n",
       "      <td>100.957504</td>\n",
       "    </tr>\n",
       "    <tr>\n",
       "      <th>2024-03-05</th>\n",
       "      <td>78.118591</td>\n",
       "      <td>125.700905</td>\n",
       "      <td>47.554001</td>\n",
       "      <td>120.230125</td>\n",
       "      <td>120.587326</td>\n",
       "      <td>28.940001</td>\n",
       "      <td>84.220001</td>\n",
       "      <td>30.964310</td>\n",
       "      <td>106.433060</td>\n",
       "      <td>101.146645</td>\n",
       "    </tr>\n",
       "    <tr>\n",
       "      <th>2024-03-06</th>\n",
       "      <td>78.228294</td>\n",
       "      <td>125.720848</td>\n",
       "      <td>47.474182</td>\n",
       "      <td>120.587486</td>\n",
       "      <td>121.215385</td>\n",
       "      <td>29.590000</td>\n",
       "      <td>85.099998</td>\n",
       "      <td>31.233912</td>\n",
       "      <td>106.980202</td>\n",
       "      <td>102.550209</td>\n",
       "    </tr>\n",
       "    <tr>\n",
       "      <th>2024-03-07</th>\n",
       "      <td>79.494865</td>\n",
       "      <td>127.416687</td>\n",
       "      <td>48.202560</td>\n",
       "      <td>121.609917</td>\n",
       "      <td>122.192368</td>\n",
       "      <td>29.940001</td>\n",
       "      <td>86.610001</td>\n",
       "      <td>31.573412</td>\n",
       "      <td>107.149315</td>\n",
       "      <td>102.112221</td>\n",
       "    </tr>\n",
       "    <tr>\n",
       "      <th>2024-03-08</th>\n",
       "      <td>79.375183</td>\n",
       "      <td>127.466560</td>\n",
       "      <td>48.222515</td>\n",
       "      <td>122.006981</td>\n",
       "      <td>121.923203</td>\n",
       "      <td>29.990000</td>\n",
       "      <td>86.320000</td>\n",
       "      <td>31.573412</td>\n",
       "      <td>107.606918</td>\n",
       "      <td>102.122169</td>\n",
       "    </tr>\n",
       "  </tbody>\n",
       "</table>\n",
       "<p>1305 rows × 10 columns</p>\n",
       "</div>"
      ],
      "text/plain": [
       "                  XLC         VOX       FCOM         VDE         XLI  \\\n",
       "Date                                                                   \n",
       "2019-01-02  39.947193   71.402100  27.553358   63.838093   59.070053   \n",
       "2019-01-03  39.278694   70.441055  27.208591   63.238754   57.272594   \n",
       "2019-01-04  40.969017   73.362236  28.348259   65.563210   59.444141   \n",
       "2019-01-07  41.436962   74.047325  28.606840   66.632309   59.927734   \n",
       "2019-01-08  42.134113   75.303329  29.037813   67.199272   60.748913   \n",
       "...               ...         ...        ...         ...         ...   \n",
       "2024-03-04  78.756866  126.508911  47.823402  119.426071  121.584244   \n",
       "2024-03-05  78.118591  125.700905  47.554001  120.230125  120.587326   \n",
       "2024-03-06  78.228294  125.720848  47.474182  120.587486  121.215385   \n",
       "2024-03-07  79.494865  127.416687  48.202560  121.609917  122.192368   \n",
       "2024-03-08  79.375183  127.466560  48.222515  122.006981  121.923203   \n",
       "\n",
       "                 ACES        XHE       RSPH         KCE        KBWP  \n",
       "Date                                                                 \n",
       "2019-01-02  21.560333  68.640663  17.039612   42.758991   49.649990  \n",
       "2019-01-03  21.303940  66.663223  16.695076   41.894367   49.437016  \n",
       "2019-01-04  21.966204  69.070099  17.287098   43.418613   50.297802  \n",
       "2019-01-07  22.303009  69.609367  17.481207   43.525574   50.209049  \n",
       "2019-01-08  22.533850  70.638054  17.664637   43.792984   50.146935  \n",
       "...               ...        ...        ...         ...         ...  \n",
       "2024-03-04  29.670000  85.949997  31.174000  106.870773  100.957504  \n",
       "2024-03-05  28.940001  84.220001  30.964310  106.433060  101.146645  \n",
       "2024-03-06  29.590000  85.099998  31.233912  106.980202  102.550209  \n",
       "2024-03-07  29.940001  86.610001  31.573412  107.149315  102.112221  \n",
       "2024-03-08  29.990000  86.320000  31.573412  107.606918  102.122169  \n",
       "\n",
       "[1305 rows x 10 columns]"
      ]
     },
     "execution_count": 42,
     "metadata": {},
     "output_type": "execute_result"
    }
   ],
   "source": [
    "ETF_list = [\"XLC\", \"VOX\", \"FCOM\", \"VDE\", \"XLI\", \"ACES\", \"XHE\", \"RSPH\", \"KCE\", \"KBWP\"]\n",
    "start = datetime.datetime(2018, 1, 1)\n",
    "end = datetime.datetime(2024, 3, 10)\n",
    "\n",
    "ETF_df = pd.DataFrame()\n",
    "for ETF in ETF_list:\n",
    "    ETF_data = yf.download(tickers=ETF, start='2019-01-01', end = end, interval='1d')\n",
    "    ETF_df[ETF] = ETF_data['Adj Close']  \n",
    "ETF_df"
   ]
  },
  {
   "cell_type": "code",
   "execution_count": 21,
   "id": "699b0479",
   "metadata": {},
   "outputs": [
    {
     "data": {
      "text/html": [
       "<div>\n",
       "<style scoped>\n",
       "    .dataframe tbody tr th:only-of-type {\n",
       "        vertical-align: middle;\n",
       "    }\n",
       "\n",
       "    .dataframe tbody tr th {\n",
       "        vertical-align: top;\n",
       "    }\n",
       "\n",
       "    .dataframe thead th {\n",
       "        text-align: right;\n",
       "    }\n",
       "</style>\n",
       "<table border=\"1\" class=\"dataframe\">\n",
       "  <thead>\n",
       "    <tr style=\"text-align: right;\">\n",
       "      <th></th>\n",
       "      <th>XLC</th>\n",
       "      <th>VOX</th>\n",
       "      <th>FCOM</th>\n",
       "      <th>VDE</th>\n",
       "      <th>XLI</th>\n",
       "      <th>ACES</th>\n",
       "      <th>XHE</th>\n",
       "      <th>RSPH</th>\n",
       "      <th>KCE</th>\n",
       "      <th>KBWP</th>\n",
       "    </tr>\n",
       "  </thead>\n",
       "  <tbody>\n",
       "    <tr>\n",
       "      <th>XLC</th>\n",
       "      <td>1.000000</td>\n",
       "      <td>0.989514</td>\n",
       "      <td>0.988563</td>\n",
       "      <td>0.443620</td>\n",
       "      <td>0.690497</td>\n",
       "      <td>0.604588</td>\n",
       "      <td>0.705890</td>\n",
       "      <td>0.728479</td>\n",
       "      <td>0.746511</td>\n",
       "      <td>0.531855</td>\n",
       "    </tr>\n",
       "    <tr>\n",
       "      <th>VOX</th>\n",
       "      <td>0.989514</td>\n",
       "      <td>1.000000</td>\n",
       "      <td>0.997806</td>\n",
       "      <td>0.475701</td>\n",
       "      <td>0.721199</td>\n",
       "      <td>0.651161</td>\n",
       "      <td>0.742808</td>\n",
       "      <td>0.748008</td>\n",
       "      <td>0.781804</td>\n",
       "      <td>0.555808</td>\n",
       "    </tr>\n",
       "    <tr>\n",
       "      <th>FCOM</th>\n",
       "      <td>0.988563</td>\n",
       "      <td>0.997806</td>\n",
       "      <td>1.000000</td>\n",
       "      <td>0.474788</td>\n",
       "      <td>0.720093</td>\n",
       "      <td>0.655338</td>\n",
       "      <td>0.744752</td>\n",
       "      <td>0.747834</td>\n",
       "      <td>0.784051</td>\n",
       "      <td>0.556762</td>\n",
       "    </tr>\n",
       "    <tr>\n",
       "      <th>VDE</th>\n",
       "      <td>0.443620</td>\n",
       "      <td>0.475701</td>\n",
       "      <td>0.474788</td>\n",
       "      <td>1.000000</td>\n",
       "      <td>0.701073</td>\n",
       "      <td>0.469344</td>\n",
       "      <td>0.449983</td>\n",
       "      <td>0.516045</td>\n",
       "      <td>0.639971</td>\n",
       "      <td>0.630120</td>\n",
       "    </tr>\n",
       "    <tr>\n",
       "      <th>XLI</th>\n",
       "      <td>0.690497</td>\n",
       "      <td>0.721199</td>\n",
       "      <td>0.720093</td>\n",
       "      <td>0.701073</td>\n",
       "      <td>1.000000</td>\n",
       "      <td>0.640484</td>\n",
       "      <td>0.684145</td>\n",
       "      <td>0.788914</td>\n",
       "      <td>0.873861</td>\n",
       "      <td>0.790007</td>\n",
       "    </tr>\n",
       "    <tr>\n",
       "      <th>ACES</th>\n",
       "      <td>0.604588</td>\n",
       "      <td>0.651161</td>\n",
       "      <td>0.655338</td>\n",
       "      <td>0.469344</td>\n",
       "      <td>0.640484</td>\n",
       "      <td>1.000000</td>\n",
       "      <td>0.722175</td>\n",
       "      <td>0.613571</td>\n",
       "      <td>0.708122</td>\n",
       "      <td>0.448331</td>\n",
       "    </tr>\n",
       "    <tr>\n",
       "      <th>XHE</th>\n",
       "      <td>0.705890</td>\n",
       "      <td>0.742808</td>\n",
       "      <td>0.744752</td>\n",
       "      <td>0.449983</td>\n",
       "      <td>0.684145</td>\n",
       "      <td>0.722175</td>\n",
       "      <td>1.000000</td>\n",
       "      <td>0.846281</td>\n",
       "      <td>0.764053</td>\n",
       "      <td>0.529041</td>\n",
       "    </tr>\n",
       "    <tr>\n",
       "      <th>RSPH</th>\n",
       "      <td>0.728479</td>\n",
       "      <td>0.748008</td>\n",
       "      <td>0.747834</td>\n",
       "      <td>0.516045</td>\n",
       "      <td>0.788914</td>\n",
       "      <td>0.613571</td>\n",
       "      <td>0.846281</td>\n",
       "      <td>1.000000</td>\n",
       "      <td>0.785916</td>\n",
       "      <td>0.663185</td>\n",
       "    </tr>\n",
       "    <tr>\n",
       "      <th>KCE</th>\n",
       "      <td>0.746511</td>\n",
       "      <td>0.781804</td>\n",
       "      <td>0.784051</td>\n",
       "      <td>0.639971</td>\n",
       "      <td>0.873861</td>\n",
       "      <td>0.708122</td>\n",
       "      <td>0.764053</td>\n",
       "      <td>0.785916</td>\n",
       "      <td>1.000000</td>\n",
       "      <td>0.740770</td>\n",
       "    </tr>\n",
       "    <tr>\n",
       "      <th>KBWP</th>\n",
       "      <td>0.531855</td>\n",
       "      <td>0.555808</td>\n",
       "      <td>0.556762</td>\n",
       "      <td>0.630120</td>\n",
       "      <td>0.790007</td>\n",
       "      <td>0.448331</td>\n",
       "      <td>0.529041</td>\n",
       "      <td>0.663185</td>\n",
       "      <td>0.740770</td>\n",
       "      <td>1.000000</td>\n",
       "    </tr>\n",
       "  </tbody>\n",
       "</table>\n",
       "</div>"
      ],
      "text/plain": [
       "           XLC       VOX      FCOM       VDE       XLI      ACES       XHE  \\\n",
       "XLC   1.000000  0.989514  0.988563  0.443620  0.690497  0.604588  0.705890   \n",
       "VOX   0.989514  1.000000  0.997806  0.475701  0.721199  0.651161  0.742808   \n",
       "FCOM  0.988563  0.997806  1.000000  0.474788  0.720093  0.655338  0.744752   \n",
       "VDE   0.443620  0.475701  0.474788  1.000000  0.701073  0.469344  0.449983   \n",
       "XLI   0.690497  0.721199  0.720093  0.701073  1.000000  0.640484  0.684145   \n",
       "ACES  0.604588  0.651161  0.655338  0.469344  0.640484  1.000000  0.722175   \n",
       "XHE   0.705890  0.742808  0.744752  0.449983  0.684145  0.722175  1.000000   \n",
       "RSPH  0.728479  0.748008  0.747834  0.516045  0.788914  0.613571  0.846281   \n",
       "KCE   0.746511  0.781804  0.784051  0.639971  0.873861  0.708122  0.764053   \n",
       "KBWP  0.531855  0.555808  0.556762  0.630120  0.790007  0.448331  0.529041   \n",
       "\n",
       "          RSPH       KCE      KBWP  \n",
       "XLC   0.728479  0.746511  0.531855  \n",
       "VOX   0.748008  0.781804  0.555808  \n",
       "FCOM  0.747834  0.784051  0.556762  \n",
       "VDE   0.516045  0.639971  0.630120  \n",
       "XLI   0.788914  0.873861  0.790007  \n",
       "ACES  0.613571  0.708122  0.448331  \n",
       "XHE   0.846281  0.764053  0.529041  \n",
       "RSPH  1.000000  0.785916  0.663185  \n",
       "KCE   0.785916  1.000000  0.740770  \n",
       "KBWP  0.663185  0.740770  1.000000  "
      ]
     },
     "execution_count": 21,
     "metadata": {},
     "output_type": "execute_result"
    }
   ],
   "source": [
    "ETF_df_returns = ETF_df.pct_change() # Calculated as: (val[1] - val[0])/val[0]\n",
    "ETF_df_returns.corr()"
   ]
  },
  {
   "cell_type": "code",
   "execution_count": 22,
   "id": "c1d1bd92",
   "metadata": {},
   "outputs": [
    {
     "data": {
      "image/png": "[encoded data removed]",
      "text/plain": [
       "<Figure size 1500x800 with 2 Axes>"
      ]
     },
     "metadata": {},
     "output_type": "display_data"
    }
   ],
   "source": [
    "plt.figure(figsize=(15,8))\n",
    "sns.heatmap(ETF_df_returns.corr(), annot=True)\n",
    "plt.title(\"Correlations between ETFs\")\n",
    "plt.show()"
   ]
  },
  {
   "cell_type": "markdown",
   "id": "be134adf",
   "metadata": {},
   "source": [
    "According to modern portfolio theory, it is preferable to have stocks which are negatively correlated in a portfolio. There are no negatively correlated stocks in the selected stock options. Alternatively, we can assign weights to each stock option to generate a portfolio that maximises return for a given risk. \n",
    "\n",
    "Use user risk profile generated from user questionnaire and open banking information to generate a subset of stock options by correlating stock volatility with risk."
   ]
  },
  {
   "cell_type": "code",
   "execution_count": 23,
   "id": "759c56e4",
   "metadata": {},
   "outputs": [],
   "source": [
    "def portfolio_analyser(weights, returns, risk_free_rate):\n",
    "    # weights: numpy array of weights for each stock option in the portfolio\n",
    "    \n",
    "    mean_returns = returns.mean()\n",
    "    weighted_annual_return = np.sum(mean_returns * weights)*252\n",
    "    weighted_annual_risk = np.sqrt(np.dot(weights.T, np.dot(returns.cov(), weights)))*np.sqrt(252) # annualised standard deviation \n",
    "    \n",
    "    sharpe_ratio = (weighted_annual_return - risk_free_rate)/weighted_annual_risk\n",
    "\n",
    "    return [weighted_annual_return, weighted_annual_risk, sharpe_ratio]"
   ]
  },
  {
   "cell_type": "code",
   "execution_count": 24,
   "id": "dbe96ca7",
   "metadata": {},
   "outputs": [
    {
     "data": {
      "text/plain": [
       "array([0.1, 0.1, 0.1, 0.1, 0.1, 0.1, 0.1, 0.1, 0.1, 0.1])"
      ]
     },
     "execution_count": 24,
     "metadata": {},
     "output_type": "execute_result"
    }
   ],
   "source": [
    "weights = np.ones(len(ETF_df_returns.columns))/len(ETF_df_returns.columns)\n",
    "risk_free_return = 0.02\n",
    "portfolio_analyser(weights, ETF_df_returns, risk_free_return)\n",
    "weights"
   ]
  },
  {
   "cell_type": "code",
   "execution_count": 25,
   "id": "7db49867",
   "metadata": {},
   "outputs": [],
   "source": [
    "def Portfolio_Optimiser(Optimisation_Criteria, ETF_returns, risk_free_return, method, iter_count):\n",
    "    # Optimisation_Criteria:\n",
    "        # a) Return\n",
    "        # b) Risk\n",
    "        # c) Sharpe\n",
    "    \n",
    "    if Optimisation_Criteria == 'Return': # Return\n",
    "        def Optimiser(weight):\n",
    "            return (-1)*portfolio_analyser(weights, ETF_returns, risk_free_return)[0]\n",
    "    elif Optimisation_Criteria == 'Risk':\n",
    "        def Optimiser(weight): # Risk\n",
    "            return portfolio_analyser(weights, ETF_returns, risk_free_return)[1]\n",
    "    else: # Sharpe\n",
    "        def Optimiser(weight):\n",
    "            return (-1)*portfolio_analyser(weights, ETF_returns, risk_free_return)[2]\n",
    "    \n",
    "    sharpe = 0\n",
    "    returns = 0\n",
    "    risk = 1e99\n",
    "    ETF_count = len(ETF_returns.columns)\n",
    "    Weights_Optimised = np.ones(ETF_count)\n",
    "    weights = np.ones(ETF_count)\n",
    "    for i in range(iter_count):\n",
    "        minimiser = minimize(Optimiser, np.random.dirichlet(np.ones(ETF_count)), method = method)\n",
    "        weights = minimiser['x']\n",
    "                \n",
    "        if Optimisation_Criteria == 'Return':\n",
    "            returns_iter = portfolio_analyser(weights, ETF_df_returns, 0.05)[0]\n",
    "            if returns_iter > returns:\n",
    "                returns = returns_iter\n",
    "                Weights_Optimised = weights\n",
    "        elif Optimisation_Criteria == 'Risk':\n",
    "            risk_iter = portfolio_analyser(weights, ETF_df_returns, 0.05)[1]\n",
    "            if risk_iter < risk:\n",
    "                risk = risk_iter\n",
    "                Weights_Optimised = weights\n",
    "        else:           \n",
    "            sharpe_iter = portfolio_analyser(weights, ETF_df_returns, 0.05)[2]\n",
    "            if sharpe_iter > sharpe:\n",
    "                sharpe = sharpe_iter\n",
    "                Weights_Optimised = weights\n",
    "    \n",
    "    return Weights_Optimised"
   ]
  },
  {
   "cell_type": "code",
   "execution_count": 26,
   "id": "0f31dcd7",
   "metadata": {},
   "outputs": [
    {
     "name": "stdout",
     "output_type": "stream",
     "text": [
      "Return = 0.18475136878800333 \n",
      "Risk = 0.23944529025465647 \n",
      "Sharpe = 0.5627647494953508\n"
     ]
    }
   ],
   "source": [
    "weights_optimised = Portfolio_Optimiser('Sharpe', ETF_df_returns, 0.05, 'SLSQP', 500)\n",
    "portfolio_stats = portfolio_analyser(weights_optimised, ETF_df_returns, 0.05)\n",
    "print('Return = {returns} \\nRisk = {risk} \\nSharpe = {sharpe}'\n",
    "      .format(returns = portfolio_stats[0], risk = portfolio_stats[1], sharpe = portfolio_stats[2]))"
   ]
  },
  {
   "cell_type": "code",
   "execution_count": 27,
   "id": "091f69a4",
   "metadata": {},
   "outputs": [
    {
     "data": {
      "text/plain": [
       "array([0.02241664, 0.05118239, 0.00384808, 0.04622165, 0.04495757,\n",
       "       0.09582439, 0.04001933, 0.03953531, 0.58532596, 0.07066868])"
      ]
     },
     "execution_count": 27,
     "metadata": {},
     "output_type": "execute_result"
    }
   ],
   "source": [
    "weights_optimised"
   ]
  },
  {
   "cell_type": "code",
   "execution_count": 28,
   "id": "a849e1bd",
   "metadata": {},
   "outputs": [
    {
     "name": "stdout",
     "output_type": "stream",
     "text": [
      "Return = 0.18014109922455768 \n",
      "Risk = 0.22465859221711726 \n",
      "Sharpe = 0.5792838722090147\n"
     ]
    }
   ],
   "source": [
    "weights_optimised = Portfolio_Optimiser('Sharpe', ETF_df_returns, 0.05, 'L-BFGS-B', 500)\n",
    "portfolio_stats = portfolio_analyser(weights_optimised, ETF_df_returns, 0.05)\n",
    "print('Return = {returns} \\nRisk = {risk} \\nSharpe = {sharpe}'\n",
    "      .format(returns = portfolio_stats[0], risk = portfolio_stats[1], sharpe = portfolio_stats[2]))"
   ]
  },
  {
   "cell_type": "code",
   "execution_count": 38,
   "id": "ef8c1646",
   "metadata": {},
   "outputs": [
    {
     "data": {
      "text/plain": [
       "array([0.19422329, 0.01055783, 0.05064937, 0.02300111, 0.15470954,\n",
       "       0.01206783, 0.02943735, 0.29787281, 0.02773559, 0.19974528])"
      ]
     },
     "execution_count": 38,
     "metadata": {},
     "output_type": "execute_result"
    }
   ],
   "source": [
    "weights_optimised"
   ]
  },
  {
   "cell_type": "code",
   "execution_count": 30,
   "id": "4bfafc3e",
   "metadata": {},
   "outputs": [
    {
     "name": "stdout",
     "output_type": "stream",
     "text": [
      "Return = 0.18510593911996598 \n",
      "Risk = 0.24036072401875785 \n",
      "Sharpe = 0.5620965724392737\n"
     ]
    }
   ],
   "source": [
    "weights_optimised = Portfolio_Optimiser('Return', ETF_df_returns, 0.05, 'SLSQP', 500)\n",
    "portfolio_stats = portfolio_analyser(weights_optimised, ETF_df_returns, 0.05)\n",
    "print('Return = {returns} \\nRisk = {risk} \\nSharpe = {sharpe}'\n",
    "      .format(returns = portfolio_stats[0], risk = portfolio_stats[1], sharpe = portfolio_stats[2]))"
   ]
  },
  {
   "cell_type": "code",
   "execution_count": 31,
   "id": "8abf72e6",
   "metadata": {},
   "outputs": [
    {
     "data": {
      "text/plain": [
       "array([0.05298749, 0.02775668, 0.08143429, 0.00183804, 0.09918408,\n",
       "       0.08768239, 0.02448208, 0.01118807, 0.60875838, 0.0046885 ])"
      ]
     },
     "execution_count": 31,
     "metadata": {},
     "output_type": "execute_result"
    }
   ],
   "source": [
    "weights_optimised"
   ]
  },
  {
   "cell_type": "code",
   "execution_count": 32,
   "id": "b2d0fe5e",
   "metadata": {},
   "outputs": [
    {
     "name": "stdout",
     "output_type": "stream",
     "text": [
      "Return = 0.181559463577626 \n",
      "Risk = 0.23619654963243542 \n",
      "Sharpe = 0.5569914707998754\n"
     ]
    }
   ],
   "source": [
    "weights_optimised = Portfolio_Optimiser('Return', ETF_df_returns, 0.05, 'L-BFGS-B', 500)\n",
    "portfolio_stats = portfolio_analyser(weights_optimised, ETF_df_returns, 0.05)\n",
    "print('Return = {returns} \\nRisk = {risk} \\nSharpe = {sharpe}'\n",
    "      .format(returns = portfolio_stats[0], risk = portfolio_stats[1], sharpe = portfolio_stats[2]))"
   ]
  },
  {
   "cell_type": "code",
   "execution_count": 33,
   "id": "84bb3595",
   "metadata": {},
   "outputs": [
    {
     "data": {
      "text/plain": [
       "array([0.12754094, 0.0202565 , 0.01292308, 0.05759473, 0.07754125,\n",
       "       0.10145536, 0.03727774, 0.0042044 , 0.48130713, 0.07989886])"
      ]
     },
     "execution_count": 33,
     "metadata": {},
     "output_type": "execute_result"
    }
   ],
   "source": [
    "weights_optimised"
   ]
  },
  {
   "cell_type": "code",
   "execution_count": 34,
   "id": "ef67653a",
   "metadata": {},
   "outputs": [
    {
     "name": "stdout",
     "output_type": "stream",
     "text": [
      "Return = 0.14912540068862015 \n",
      "Risk = 0.2035363306881167 \n",
      "Sharpe = 0.4870157595624156\n"
     ]
    }
   ],
   "source": [
    "weights_optimised = Portfolio_Optimiser('Risk', ETF_df_returns, 0.05, 'SLSQP', 500)\n",
    "portfolio_stats = portfolio_analyser(weights_optimised, ETF_df_returns, 0.05)\n",
    "print('Return = {returns} \\nRisk = {risk} \\nSharpe = {sharpe}'\n",
    "      .format(returns = portfolio_stats[0], risk = portfolio_stats[1], sharpe = portfolio_stats[2]))"
   ]
  },
  {
   "cell_type": "code",
   "execution_count": 35,
   "id": "81cbc90e",
   "metadata": {},
   "outputs": [
    {
     "data": {
      "text/plain": [
       "array([0.04509551, 0.12443677, 0.23794054, 0.03625549, 0.07871127,\n",
       "       0.00251962, 0.01674086, 0.30587269, 0.04384752, 0.10857974])"
      ]
     },
     "execution_count": 35,
     "metadata": {},
     "output_type": "execute_result"
    }
   ],
   "source": [
    "weights_optimised"
   ]
  },
  {
   "cell_type": "code",
   "execution_count": 36,
   "id": "94c484e0",
   "metadata": {},
   "outputs": [
    {
     "name": "stdout",
     "output_type": "stream",
     "text": [
      "Return = 0.15506580196934694 \n",
      "Risk = 0.2009428228589345 \n",
      "Sharpe = 0.5228641683963255\n"
     ]
    }
   ],
   "source": [
    "weights_optimised = Portfolio_Optimiser('Risk', ETF_df_returns, 0.05, 'L-BFGS-B', 500)\n",
    "portfolio_stats = portfolio_analyser(weights_optimised, ETF_df_returns, 0.05)\n",
    "print('Return = {returns} \\nRisk = {risk} \\nSharpe = {sharpe}'\n",
    "      .format(returns = portfolio_stats[0], risk = portfolio_stats[1], sharpe = portfolio_stats[2]))"
   ]
  },
  {
   "cell_type": "code",
   "execution_count": 37,
   "id": "2ca15a3e",
   "metadata": {},
   "outputs": [
    {
     "data": {
      "text/plain": [
       "array([0.19422329, 0.01055783, 0.05064937, 0.02300111, 0.15470954,\n",
       "       0.01206783, 0.02943735, 0.29787281, 0.02773559, 0.19974528])"
      ]
     },
     "execution_count": 37,
     "metadata": {},
     "output_type": "execute_result"
    }
   ],
   "source": [
    "weights_optimised"
   ]
  },
  {
   "cell_type": "code",
   "execution_count": null,
   "id": "ceaf12f2",
   "metadata": {},
   "outputs": [],
   "source": []
  },
  {
   "cell_type": "code",
   "execution_count": null,
   "id": "c0c7ba0b",
   "metadata": {},
   "outputs": [],
   "source": []
  },
  {
   "cell_type": "code",
   "execution_count": null,
   "id": "f0dacd8c",
   "metadata": {},
   "outputs": [],
   "source": []
  },
  {
   "cell_type": "code",
   "execution_count": null,
   "id": "5956dfdb",
   "metadata": {},
   "outputs": [],
   "source": []
  }
 ],
 "metadata": {
  "kernelspec": {
   "display_name": "Python 3 (ipykernel)",
   "language": "python",
   "name": "python3"
  },
  "language_info": {
   "codemirror_mode": {
    "name": "ipython",
    "version": 3
   },
   "file_extension": ".py",
   "mimetype": "text/x-python",
   "name": "python",
   "nbconvert_exporter": "python",
   "pygments_lexer": "ipython3",
   "version": "3.11.4"
  }
 },
 "nbformat": 4,
 "nbformat_minor": 5
}
