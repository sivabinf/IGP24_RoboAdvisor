{
 "cells": [
  {
   "cell_type": "code",
   "execution_count": 1,
   "id": "db06f606",
   "metadata": {},
   "outputs": [],
   "source": [
    "import warnings\n",
    "from IPython.display import clear_output\n",
    "warnings.filterwarnings('ignore')"
   ]
  },
  {
   "cell_type": "code",
   "execution_count": 2,
   "id": "c16d1425",
   "metadata": {},
   "outputs": [],
   "source": [
    "import numpy as np\n",
    "import pandas as pd\n",
    "import seaborn as sns\n",
    "import matplotlib.pyplot as plt\n",
    "import yfinance as yf\n",
    "\n",
    "from scipy.optimize import minimize\n",
    "\n",
    "import datetime\n",
    "import time"
   ]
  },
  {
   "cell_type": "code",
   "execution_count": 3,
   "id": "1cd628fb",
   "metadata": {
    "scrolled": true
   },
   "outputs": [
    {
     "name": "stderr",
     "output_type": "stream",
     "text": [
      "[*********************100%%**********************]  1 of 1 completed\n",
      "[*********************100%%**********************]  1 of 1 completed\n",
      "[*********************100%%**********************]  1 of 1 completed\n",
      "[*********************100%%**********************]  1 of 1 completed\n",
      "[*********************100%%**********************]  1 of 1 completed\n",
      "[*********************100%%**********************]  1 of 1 completed\n",
      "[*********************100%%**********************]  1 of 1 completed\n",
      "[*********************100%%**********************]  1 of 1 completed\n",
      "[*********************100%%**********************]  1 of 1 completed\n",
      "[*********************100%%**********************]  1 of 1 completed\n"
     ]
    }
   ],
   "source": [
    "ETF_list = [\"XLC\", \"VOX\", \"FCOM\", \"VDE\", \"XLI\", \"ACES\", \"XHE\", \"RSPH\", \"KCE\", \"KBWP\"]\n",
    "start = datetime.datetime(2018, 1, 1)\n",
    "end = datetime.datetime(2024, 3, 10)\n",
    "\n",
    "ETF_df = pd.DataFrame()\n",
    "for ETF in ETF_list:\n",
    "    ETF_data = yf.download(tickers=ETF, start=start, end = end, interval='1d')\n",
    "    ETF_df[ETF] = ETF_data['Adj Close']  "
   ]
  },
  {
   "cell_type": "code",
   "execution_count": 4,
   "id": "699b0479",
   "metadata": {},
   "outputs": [
    {
     "data": {
      "text/html": [
       "<div>\n",
       "<style scoped>\n",
       "    .dataframe tbody tr th:only-of-type {\n",
       "        vertical-align: middle;\n",
       "    }\n",
       "\n",
       "    .dataframe tbody tr th {\n",
       "        vertical-align: top;\n",
       "    }\n",
       "\n",
       "    .dataframe thead th {\n",
       "        text-align: right;\n",
       "    }\n",
       "</style>\n",
       "<table border=\"1\" class=\"dataframe\">\n",
       "  <thead>\n",
       "    <tr style=\"text-align: right;\">\n",
       "      <th></th>\n",
       "      <th>XLC</th>\n",
       "      <th>VOX</th>\n",
       "      <th>FCOM</th>\n",
       "      <th>VDE</th>\n",
       "      <th>XLI</th>\n",
       "      <th>ACES</th>\n",
       "      <th>XHE</th>\n",
       "      <th>RSPH</th>\n",
       "      <th>KCE</th>\n",
       "      <th>KBWP</th>\n",
       "    </tr>\n",
       "  </thead>\n",
       "  <tbody>\n",
       "    <tr>\n",
       "      <th>XLC</th>\n",
       "      <td>1.000000</td>\n",
       "      <td>0.987436</td>\n",
       "      <td>0.961520</td>\n",
       "      <td>0.452869</td>\n",
       "      <td>0.693285</td>\n",
       "      <td>0.596541</td>\n",
       "      <td>0.708083</td>\n",
       "      <td>0.733873</td>\n",
       "      <td>0.742068</td>\n",
       "      <td>0.520949</td>\n",
       "    </tr>\n",
       "    <tr>\n",
       "      <th>VOX</th>\n",
       "      <td>0.987436</td>\n",
       "      <td>1.000000</td>\n",
       "      <td>0.981851</td>\n",
       "      <td>0.485246</td>\n",
       "      <td>0.724155</td>\n",
       "      <td>0.644009</td>\n",
       "      <td>0.742547</td>\n",
       "      <td>0.752938</td>\n",
       "      <td>0.777618</td>\n",
       "      <td>0.549450</td>\n",
       "    </tr>\n",
       "    <tr>\n",
       "      <th>FCOM</th>\n",
       "      <td>0.961520</td>\n",
       "      <td>0.981851</td>\n",
       "      <td>1.000000</td>\n",
       "      <td>0.478649</td>\n",
       "      <td>0.715903</td>\n",
       "      <td>0.648666</td>\n",
       "      <td>0.730334</td>\n",
       "      <td>0.740571</td>\n",
       "      <td>0.771886</td>\n",
       "      <td>0.554389</td>\n",
       "    </tr>\n",
       "    <tr>\n",
       "      <th>VDE</th>\n",
       "      <td>0.452869</td>\n",
       "      <td>0.485246</td>\n",
       "      <td>0.478649</td>\n",
       "      <td>1.000000</td>\n",
       "      <td>0.700863</td>\n",
       "      <td>0.472173</td>\n",
       "      <td>0.454282</td>\n",
       "      <td>0.524982</td>\n",
       "      <td>0.641663</td>\n",
       "      <td>0.624562</td>\n",
       "    </tr>\n",
       "    <tr>\n",
       "      <th>XLI</th>\n",
       "      <td>0.693285</td>\n",
       "      <td>0.724155</td>\n",
       "      <td>0.715903</td>\n",
       "      <td>0.700863</td>\n",
       "      <td>1.000000</td>\n",
       "      <td>0.636430</td>\n",
       "      <td>0.686589</td>\n",
       "      <td>0.791262</td>\n",
       "      <td>0.869855</td>\n",
       "      <td>0.777559</td>\n",
       "    </tr>\n",
       "    <tr>\n",
       "      <th>ACES</th>\n",
       "      <td>0.596541</td>\n",
       "      <td>0.644009</td>\n",
       "      <td>0.648666</td>\n",
       "      <td>0.472173</td>\n",
       "      <td>0.636430</td>\n",
       "      <td>1.000000</td>\n",
       "      <td>0.710770</td>\n",
       "      <td>0.608743</td>\n",
       "      <td>0.702543</td>\n",
       "      <td>0.446900</td>\n",
       "    </tr>\n",
       "    <tr>\n",
       "      <th>XHE</th>\n",
       "      <td>0.708083</td>\n",
       "      <td>0.742547</td>\n",
       "      <td>0.730334</td>\n",
       "      <td>0.454282</td>\n",
       "      <td>0.686589</td>\n",
       "      <td>0.710770</td>\n",
       "      <td>1.000000</td>\n",
       "      <td>0.847216</td>\n",
       "      <td>0.756772</td>\n",
       "      <td>0.523526</td>\n",
       "    </tr>\n",
       "    <tr>\n",
       "      <th>RSPH</th>\n",
       "      <td>0.733873</td>\n",
       "      <td>0.752938</td>\n",
       "      <td>0.740571</td>\n",
       "      <td>0.524982</td>\n",
       "      <td>0.791262</td>\n",
       "      <td>0.608743</td>\n",
       "      <td>0.847216</td>\n",
       "      <td>1.000000</td>\n",
       "      <td>0.780625</td>\n",
       "      <td>0.656089</td>\n",
       "    </tr>\n",
       "    <tr>\n",
       "      <th>KCE</th>\n",
       "      <td>0.742068</td>\n",
       "      <td>0.777618</td>\n",
       "      <td>0.771886</td>\n",
       "      <td>0.641663</td>\n",
       "      <td>0.869855</td>\n",
       "      <td>0.702543</td>\n",
       "      <td>0.756772</td>\n",
       "      <td>0.780625</td>\n",
       "      <td>1.000000</td>\n",
       "      <td>0.736720</td>\n",
       "    </tr>\n",
       "    <tr>\n",
       "      <th>KBWP</th>\n",
       "      <td>0.520949</td>\n",
       "      <td>0.549450</td>\n",
       "      <td>0.554389</td>\n",
       "      <td>0.624562</td>\n",
       "      <td>0.777559</td>\n",
       "      <td>0.446900</td>\n",
       "      <td>0.523526</td>\n",
       "      <td>0.656089</td>\n",
       "      <td>0.736720</td>\n",
       "      <td>1.000000</td>\n",
       "    </tr>\n",
       "  </tbody>\n",
       "</table>\n",
       "</div>"
      ],
      "text/plain": [
       "           XLC       VOX      FCOM       VDE       XLI      ACES       XHE  \\\n",
       "XLC   1.000000  0.987436  0.961520  0.452869  0.693285  0.596541  0.708083   \n",
       "VOX   0.987436  1.000000  0.981851  0.485246  0.724155  0.644009  0.742547   \n",
       "FCOM  0.961520  0.981851  1.000000  0.478649  0.715903  0.648666  0.730334   \n",
       "VDE   0.452869  0.485246  0.478649  1.000000  0.700863  0.472173  0.454282   \n",
       "XLI   0.693285  0.724155  0.715903  0.700863  1.000000  0.636430  0.686589   \n",
       "ACES  0.596541  0.644009  0.648666  0.472173  0.636430  1.000000  0.710770   \n",
       "XHE   0.708083  0.742547  0.730334  0.454282  0.686589  0.710770  1.000000   \n",
       "RSPH  0.733873  0.752938  0.740571  0.524982  0.791262  0.608743  0.847216   \n",
       "KCE   0.742068  0.777618  0.771886  0.641663  0.869855  0.702543  0.756772   \n",
       "KBWP  0.520949  0.549450  0.554389  0.624562  0.777559  0.446900  0.523526   \n",
       "\n",
       "          RSPH       KCE      KBWP  \n",
       "XLC   0.733873  0.742068  0.520949  \n",
       "VOX   0.752938  0.777618  0.549450  \n",
       "FCOM  0.740571  0.771886  0.554389  \n",
       "VDE   0.524982  0.641663  0.624562  \n",
       "XLI   0.791262  0.869855  0.777559  \n",
       "ACES  0.608743  0.702543  0.446900  \n",
       "XHE   0.847216  0.756772  0.523526  \n",
       "RSPH  1.000000  0.780625  0.656089  \n",
       "KCE   0.780625  1.000000  0.736720  \n",
       "KBWP  0.656089  0.736720  1.000000  "
      ]
     },
     "execution_count": 4,
     "metadata": {},
     "output_type": "execute_result"
    }
   ],
   "source": [
    "ETF_df_returns = ETF_df.pct_change() # Calculated as: (val[1] - val[0])/val[0]\n",
    "ETF_df_returns.corr()"
   ]
  },
  {
   "cell_type": "code",
   "execution_count": 5,
   "id": "c1d1bd92",
   "metadata": {},
   "outputs": [
    {
     "data": {
      "image/png": "[encoded data removed]",
      "text/plain": [
       "<Figure size 1500x800 with 2 Axes>"
      ]
     },
     "metadata": {},
     "output_type": "display_data"
    }
   ],
   "source": [
    "plt.figure(figsize=(15,8))\n",
    "sns.heatmap(ETF_df_returns.corr(), annot=True)\n",
    "plt.title(\"Correlations between ETFs\")\n",
    "plt.show()"
   ]
  },
  {
   "cell_type": "markdown",
   "id": "be134adf",
   "metadata": {},
   "source": [
    "According to modern portfolio theory, it is preferable to have stocks which are negatively correlated in a portfolio. There are no negatively correlated stocks in the selected stock options. Alternatively, we can assign weights to each stock option to generate a portfolio that maximises return for a given risk. \n",
    "\n",
    "Use user risk profile generated from user questionnaire and open banking information to generate a subset of stock options by correlating stock volatility with risk."
   ]
  },
  {
   "cell_type": "code",
   "execution_count": 5,
   "id": "759c56e4",
   "metadata": {},
   "outputs": [],
   "source": [
    "def portfolio_analyser(weights, returns, risk_free_rate):\n",
    "    # weights: numpy array of weights for each stock option in the portfolio\n",
    "    \n",
    "    mean_returns = returns.mean()\n",
    "    weighted_annual_return = np.sum(mean_returns * weights)*252\n",
    "    weighted_annual_risk = np.sqrt(np.dot(weights.T, np.dot(returns.cov(), weights)))*np.sqrt(252) # annualised standard deviation \n",
    "    \n",
    "    sharpe_ratio = (weighted_annual_return - risk_free_rate)/weighted_annual_risk\n",
    "\n",
    "    return [weighted_annual_return, weighted_annual_risk, sharpe_ratio]"
   ]
  },
  {
   "cell_type": "code",
   "execution_count": 6,
   "id": "dbe96ca7",
   "metadata": {},
   "outputs": [
    {
     "data": {
      "text/plain": [
       "[0.11811599198425496, 0.21663011905395452, 0.45291943896230746]"
      ]
     },
     "execution_count": 6,
     "metadata": {},
     "output_type": "execute_result"
    }
   ],
   "source": [
    "weights = np.ones(len(ETF_df_returns.columns))/len(ETF_df_returns.columns)\n",
    "risk_free_return = 0.02\n",
    "portfolio_analyser(weights, ETF_df_returns, risk_free_return)"
   ]
  },
  {
   "cell_type": "code",
   "execution_count": 7,
   "id": "7db49867",
   "metadata": {},
   "outputs": [],
   "source": [
    "def Portfolio_Optimiser(Optimisation_Criteria, ETF_returns, risk_free_return, method, iter_count):\n",
    "    # Optimisation_Criteria:\n",
    "        # a) Return\n",
    "        # b) Risk\n",
    "        # c) Sharpe\n",
    "    \n",
    "    if Optimisation_Criteria == 'Return': # Return\n",
    "        def Optimiser(weight):\n",
    "            return (-1)*portfolio_analyser(weights, ETF_returns, risk_free_return)[0]\n",
    "    elif Optimisation_Criteria == 'Risk':\n",
    "        def Optimiser(weight): # Risk\n",
    "            return portfolio_analyser(weights, ETF_returns, risk_free_return)[1]\n",
    "    else: # Sharpe\n",
    "        def Optimiser(weight):\n",
    "            return (-1)*portfolio_analyser(weights, ETF_returns, risk_free_return)[2]\n",
    "    \n",
    "    sharpe = 0\n",
    "    returns = 0\n",
    "    risk = 1e99\n",
    "    ETF_count = len(ETF_returns.columns)\n",
    "    Weights_Optimised = np.ones(ETF_count)\n",
    "    weights = np.ones(ETF_count)\n",
    "    for i in range(iter_count):\n",
    "        minimiser = minimize(Optimiser, np.random.dirichlet(np.ones(ETF_count)), method = method)\n",
    "        weights = minimiser['x']\n",
    "                \n",
    "        if Optimisation_Criteria == 'Return':\n",
    "            returns_iter = portfolio_analyser(weights, ETF_df_returns, 0.05)[0]\n",
    "            if returns_iter > returns:\n",
    "                returns = returns_iter\n",
    "                Weights_Optimised = weights\n",
    "        elif Optimisation_Criteria == 'Risk':\n",
    "            risk_iter = portfolio_analyser(weights, ETF_df_returns, 0.05)[1]\n",
    "            if risk_iter < risk:\n",
    "                risk = risk_iter\n",
    "                Weights_Optimised = weights\n",
    "        else:           \n",
    "            sharpe_iter = portfolio_analyser(weights, ETF_df_returns, 0.05)[2]\n",
    "            if sharpe_iter > sharpe:\n",
    "                sharpe = sharpe_iter\n",
    "                Weights_Optimised = weights\n",
    "    \n",
    "    return Weights_Optimised"
   ]
  },
  {
   "cell_type": "code",
   "execution_count": 8,
   "id": "0f31dcd7",
   "metadata": {},
   "outputs": [
    {
     "name": "stdout",
     "output_type": "stream",
     "text": [
      "Return = 0.13916745918100284 \n",
      "Risk = 0.22556494802908306 \n",
      "Sharpe = 0.39530724946460255\n"
     ]
    }
   ],
   "source": [
    "weights_optimised = Portfolio_Optimiser('Sharpe', ETF_df_returns, 0.05, 'SLSQP', 500)\n",
    "portfolio_stats = portfolio_analyser(weights_optimised, ETF_df_returns, 0.05)\n",
    "print('Return = {returns} \\nRisk = {risk} \\nSharpe = {sharpe}'\n",
    "      .format(returns = portfolio_stats[0], risk = portfolio_stats[1], sharpe = portfolio_stats[2]))"
   ]
  },
  {
   "cell_type": "code",
   "execution_count": 9,
   "id": "091f69a4",
   "metadata": {},
   "outputs": [
    {
     "data": {
      "text/plain": [
       "array([0.03182471, 0.00911707, 0.07383914, 0.1162599 , 0.03843432,\n",
       "       0.03499341, 0.01167397, 0.08762892, 0.48484514, 0.11138342])"
      ]
     },
     "execution_count": 9,
     "metadata": {},
     "output_type": "execute_result"
    }
   ],
   "source": [
    "weights_optimised"
   ]
  },
  {
   "cell_type": "code",
   "execution_count": 10,
   "id": "a849e1bd",
   "metadata": {},
   "outputs": [
    {
     "name": "stdout",
     "output_type": "stream",
     "text": [
      "Return = 0.14218892316687592 \n",
      "Risk = 0.22699359706403063 \n",
      "Sharpe = 0.40613005987508605\n"
     ]
    }
   ],
   "source": [
    "weights_optimised = Portfolio_Optimiser('Sharpe', ETF_df_returns, 0.05, 'L-BFGS-B', 500)\n",
    "portfolio_stats = portfolio_analyser(weights_optimised, ETF_df_returns, 0.05)\n",
    "print('Return = {returns} \\nRisk = {risk} \\nSharpe = {sharpe}'\n",
    "      .format(returns = portfolio_stats[0], risk = portfolio_stats[1], sharpe = portfolio_stats[2]))"
   ]
  },
  {
   "cell_type": "code",
   "execution_count": 11,
   "id": "ef8c1646",
   "metadata": {},
   "outputs": [
    {
     "data": {
      "text/plain": [
       "array([8.33918289e-02, 4.26828915e-04, 9.28124709e-02, 5.41465968e-02,\n",
       "       1.16805778e-02, 1.11325963e-02, 1.67120740e-02, 1.65304429e-02,\n",
       "       5.90815395e-01, 1.22351188e-01])"
      ]
     },
     "execution_count": 11,
     "metadata": {},
     "output_type": "execute_result"
    }
   ],
   "source": [
    "weights_optimised"
   ]
  },
  {
   "cell_type": "code",
   "execution_count": 12,
   "id": "4bfafc3e",
   "metadata": {},
   "outputs": [
    {
     "name": "stdout",
     "output_type": "stream",
     "text": [
      "Return = 0.13470511957611983 \n",
      "Risk = 0.21696806031127172 \n",
      "Sharpe = 0.3904036356991818\n"
     ]
    }
   ],
   "source": [
    "weights_optimised = Portfolio_Optimiser('Return', ETF_df_returns, 0.05, 'SLSQP', 500)\n",
    "portfolio_stats = portfolio_analyser(weights_optimised, ETF_df_returns, 0.05)\n",
    "print('Return = {returns} \\nRisk = {risk} \\nSharpe = {sharpe}'\n",
    "      .format(returns = portfolio_stats[0], risk = portfolio_stats[1], sharpe = portfolio_stats[2]))"
   ]
  },
  {
   "cell_type": "code",
   "execution_count": 13,
   "id": "8abf72e6",
   "metadata": {},
   "outputs": [
    {
     "data": {
      "text/plain": [
       "array([0.0748142 , 0.05193532, 0.13496408, 0.01062718, 0.203182  ,\n",
       "       0.04424679, 0.011773  , 0.02091555, 0.31272593, 0.13481594])"
      ]
     },
     "execution_count": 13,
     "metadata": {},
     "output_type": "execute_result"
    }
   ],
   "source": [
    "weights_optimised"
   ]
  },
  {
   "cell_type": "code",
   "execution_count": 14,
   "id": "b2d0fe5e",
   "metadata": {},
   "outputs": [
    {
     "name": "stdout",
     "output_type": "stream",
     "text": [
      "Return = 0.13625612134397297 \n",
      "Risk = 0.21243922916820854 \n",
      "Sharpe = 0.4060272751021692\n"
     ]
    }
   ],
   "source": [
    "weights_optimised = Portfolio_Optimiser('Return', ETF_df_returns, 0.05, 'L-BFGS-B', 500)\n",
    "portfolio_stats = portfolio_analyser(weights_optimised, ETF_df_returns, 0.05)\n",
    "print('Return = {returns} \\nRisk = {risk} \\nSharpe = {sharpe}'\n",
    "      .format(returns = portfolio_stats[0], risk = portfolio_stats[1], sharpe = portfolio_stats[2]))"
   ]
  },
  {
   "cell_type": "code",
   "execution_count": 15,
   "id": "84bb3595",
   "metadata": {},
   "outputs": [
    {
     "data": {
      "text/plain": [
       "array([0.08560471, 0.00781462, 0.14277638, 0.07071543, 0.0584425 ,\n",
       "       0.0223938 , 0.00148717, 0.04857925, 0.21550505, 0.3466811 ])"
      ]
     },
     "execution_count": 15,
     "metadata": {},
     "output_type": "execute_result"
    }
   ],
   "source": [
    "weights_optimised"
   ]
  },
  {
   "cell_type": "code",
   "execution_count": 17,
   "id": "ef67653a",
   "metadata": {},
   "outputs": [
    {
     "name": "stdout",
     "output_type": "stream",
     "text": [
      "Return = 0.12412426319957626 \n",
      "Risk = 0.19653414738277564 \n",
      "Sharpe = 0.3771571718537526\n"
     ]
    }
   ],
   "source": [
    "weights_optimised = Portfolio_Optimiser('Risk', ETF_df_returns, 0.05, 'SLSQP', 500)\n",
    "portfolio_stats = portfolio_analyser(weights_optimised, ETF_df_returns, 0.05)\n",
    "print('Return = {returns} \\nRisk = {risk} \\nSharpe = {sharpe}'\n",
    "      .format(returns = portfolio_stats[0], risk = portfolio_stats[1], sharpe = portfolio_stats[2]))"
   ]
  },
  {
   "cell_type": "code",
   "execution_count": 18,
   "id": "81cbc90e",
   "metadata": {},
   "outputs": [
    {
     "data": {
      "text/plain": [
       "array([0.07556112, 0.02097904, 0.08022837, 0.0068841 , 0.10534316,\n",
       "       0.02965517, 0.0013063 , 0.50804252, 0.07749512, 0.09450509])"
      ]
     },
     "execution_count": 18,
     "metadata": {},
     "output_type": "execute_result"
    }
   ],
   "source": [
    "weights_optimised"
   ]
  },
  {
   "cell_type": "code",
   "execution_count": 19,
   "id": "94c484e0",
   "metadata": {},
   "outputs": [
    {
     "name": "stdout",
     "output_type": "stream",
     "text": [
      "Return = 0.12470407198306327 \n",
      "Risk = 0.19918787486184517 \n",
      "Sharpe = 0.3750432702536603\n"
     ]
    }
   ],
   "source": [
    "weights_optimised = Portfolio_Optimiser('Risk', ETF_df_returns, 0.05, 'L-BFGS-B', 500)\n",
    "portfolio_stats = portfolio_analyser(weights_optimised, ETF_df_returns, 0.05)\n",
    "print('Return = {returns} \\nRisk = {risk} \\nSharpe = {sharpe}'\n",
    "      .format(returns = portfolio_stats[0], risk = portfolio_stats[1], sharpe = portfolio_stats[2]))"
   ]
  },
  {
   "cell_type": "code",
   "execution_count": 20,
   "id": "2ca15a3e",
   "metadata": {},
   "outputs": [
    {
     "data": {
      "text/plain": [
       "array([0.04013038, 0.01647313, 0.1978922 , 0.01995196, 0.09808246,\n",
       "       0.02646582, 0.04405799, 0.27251403, 0.05486882, 0.22956321])"
      ]
     },
     "execution_count": 20,
     "metadata": {},
     "output_type": "execute_result"
    }
   ],
   "source": [
    "weights_optimised"
   ]
  },
  {
   "cell_type": "code",
   "execution_count": null,
   "id": "ceaf12f2",
   "metadata": {},
   "outputs": [],
   "source": []
  },
  {
   "cell_type": "code",
   "execution_count": null,
   "id": "c0c7ba0b",
   "metadata": {},
   "outputs": [],
   "source": []
  },
  {
   "cell_type": "code",
   "execution_count": null,
   "id": "f0dacd8c",
   "metadata": {},
   "outputs": [],
   "source": []
  },
  {
   "cell_type": "code",
   "execution_count": null,
   "id": "5956dfdb",
   "metadata": {},
   "outputs": [],
   "source": []
  }
 ],
 "metadata": {
  "kernelspec": {
   "display_name": "Python 3 (ipykernel)",
   "language": "python",
   "name": "python3"
  },
  "language_info": {
   "codemirror_mode": {
    "name": "ipython",
    "version": 3
   },
   "file_extension": ".py",
   "mimetype": "text/x-python",
   "name": "python",
   "nbconvert_exporter": "python",
   "pygments_lexer": "ipython3",
   "version": "3.11.4"
  }
 },
 "nbformat": 4,
 "nbformat_minor": 5
}
