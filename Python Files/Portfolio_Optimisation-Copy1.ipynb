{
 "cells": [
  {
   "cell_type": "code",
   "execution_count": 40,
   "id": "db06f606",
   "metadata": {},
   "outputs": [],
   "source": [
    "import warnings\n",
    "from IPython.display import clear_output\n",
    "warnings.filterwarnings('ignore')"
   ]
  },
  {
   "cell_type": "code",
   "execution_count": 54,
   "id": "c16d1425",
   "metadata": {},
   "outputs": [],
   "source": [
    "import numpy as np\n",
    "import pandas as pd\n",
    "import seaborn as sns\n",
    "import matplotlib.pyplot as plt\n",
    "import yfinance as yf\n",
    "\n",
    "from scipy.optimize import minimize\n",
    "\n",
    "import datetime\n",
    "import time"
   ]
  },
  {
   "cell_type": "code",
   "execution_count": 55,
   "id": "1cd628fb",
   "metadata": {
    "scrolled": true
   },
   "outputs": [
    {
     "name": "stderr",
     "output_type": "stream",
     "text": [
      "[*********************100%%**********************]  1 of 1 completed\n",
      "[*********************100%%**********************]  1 of 1 completed\n",
      "[*********************100%%**********************]  1 of 1 completed\n",
      "[*********************100%%**********************]  1 of 1 completed\n",
      "[*********************100%%**********************]  1 of 1 completed\n",
      "[*********************100%%**********************]  1 of 1 completed\n",
      "[*********************100%%**********************]  1 of 1 completed\n",
      "[*********************100%%**********************]  1 of 1 completed\n",
      "[*********************100%%**********************]  1 of 1 completed\n",
      "[*********************100%%**********************]  1 of 1 completed\n"
     ]
    },
    {
     "data": {
      "text/html": [
       "<div>\n",
       "<style scoped>\n",
       "    .dataframe tbody tr th:only-of-type {\n",
       "        vertical-align: middle;\n",
       "    }\n",
       "\n",
       "    .dataframe tbody tr th {\n",
       "        vertical-align: top;\n",
       "    }\n",
       "\n",
       "    .dataframe thead th {\n",
       "        text-align: right;\n",
       "    }\n",
       "</style>\n",
       "<table border=\"1\" class=\"dataframe\">\n",
       "  <thead>\n",
       "    <tr style=\"text-align: right;\">\n",
       "      <th></th>\n",
       "      <th>XLC</th>\n",
       "      <th>VOX</th>\n",
       "      <th>FCOM</th>\n",
       "      <th>VDE</th>\n",
       "      <th>XLI</th>\n",
       "      <th>ACES</th>\n",
       "      <th>XHE</th>\n",
       "      <th>RSPH</th>\n",
       "      <th>KCE</th>\n",
       "      <th>KBWP</th>\n",
       "    </tr>\n",
       "    <tr>\n",
       "      <th>Date</th>\n",
       "      <th></th>\n",
       "      <th></th>\n",
       "      <th></th>\n",
       "      <th></th>\n",
       "      <th></th>\n",
       "      <th></th>\n",
       "      <th></th>\n",
       "      <th></th>\n",
       "      <th></th>\n",
       "      <th></th>\n",
       "    </tr>\n",
       "  </thead>\n",
       "  <tbody>\n",
       "    <tr>\n",
       "      <th>2018-06-19</th>\n",
       "      <td>47.428024</td>\n",
       "      <td>81.521622</td>\n",
       "      <td>27.402472</td>\n",
       "      <td>82.224213</td>\n",
       "      <td>66.086960</td>\n",
       "      <td>NaN</td>\n",
       "      <td>80.471573</td>\n",
       "      <td>18.111277</td>\n",
       "      <td>53.527546</td>\n",
       "      <td>53.708950</td>\n",
       "    </tr>\n",
       "    <tr>\n",
       "      <th>2018-06-20</th>\n",
       "      <td>48.016602</td>\n",
       "      <td>81.474770</td>\n",
       "      <td>27.118319</td>\n",
       "      <td>82.739998</td>\n",
       "      <td>66.132080</td>\n",
       "      <td>NaN</td>\n",
       "      <td>80.511475</td>\n",
       "      <td>18.156738</td>\n",
       "      <td>53.703575</td>\n",
       "      <td>53.121624</td>\n",
       "    </tr>\n",
       "    <tr>\n",
       "      <th>2018-06-21</th>\n",
       "      <td>47.722317</td>\n",
       "      <td>80.800011</td>\n",
       "      <td>26.834156</td>\n",
       "      <td>81.041878</td>\n",
       "      <td>65.301811</td>\n",
       "      <td>NaN</td>\n",
       "      <td>79.653381</td>\n",
       "      <td>18.062904</td>\n",
       "      <td>53.122623</td>\n",
       "      <td>52.727161</td>\n",
       "    </tr>\n",
       "    <tr>\n",
       "      <th>2018-06-22</th>\n",
       "      <td>47.931171</td>\n",
       "      <td>81.296730</td>\n",
       "      <td>27.052013</td>\n",
       "      <td>82.954254</td>\n",
       "      <td>65.527443</td>\n",
       "      <td>NaN</td>\n",
       "      <td>80.122345</td>\n",
       "      <td>18.141260</td>\n",
       "      <td>53.166637</td>\n",
       "      <td>52.858662</td>\n",
       "    </tr>\n",
       "    <tr>\n",
       "      <th>2018-06-25</th>\n",
       "      <td>46.943871</td>\n",
       "      <td>80.275230</td>\n",
       "      <td>26.834156</td>\n",
       "      <td>81.097412</td>\n",
       "      <td>64.697166</td>\n",
       "      <td>NaN</td>\n",
       "      <td>78.615685</td>\n",
       "      <td>17.909090</td>\n",
       "      <td>52.268780</td>\n",
       "      <td>52.595684</td>\n",
       "    </tr>\n",
       "    <tr>\n",
       "      <th>...</th>\n",
       "      <td>...</td>\n",
       "      <td>...</td>\n",
       "      <td>...</td>\n",
       "      <td>...</td>\n",
       "      <td>...</td>\n",
       "      <td>...</td>\n",
       "      <td>...</td>\n",
       "      <td>...</td>\n",
       "      <td>...</td>\n",
       "      <td>...</td>\n",
       "    </tr>\n",
       "    <tr>\n",
       "      <th>2024-04-03</th>\n",
       "      <td>82.809998</td>\n",
       "      <td>132.759995</td>\n",
       "      <td>50.169998</td>\n",
       "      <td>135.399994</td>\n",
       "      <td>125.050003</td>\n",
       "      <td>28.879999</td>\n",
       "      <td>84.849998</td>\n",
       "      <td>30.870001</td>\n",
       "      <td>109.750000</td>\n",
       "      <td>106.610001</td>\n",
       "    </tr>\n",
       "    <tr>\n",
       "      <th>2024-04-04</th>\n",
       "      <td>81.690002</td>\n",
       "      <td>131.259995</td>\n",
       "      <td>49.540001</td>\n",
       "      <td>135.229996</td>\n",
       "      <td>123.949997</td>\n",
       "      <td>28.639999</td>\n",
       "      <td>84.459999</td>\n",
       "      <td>30.540001</td>\n",
       "      <td>108.730003</td>\n",
       "      <td>105.279999</td>\n",
       "    </tr>\n",
       "    <tr>\n",
       "      <th>2024-04-05</th>\n",
       "      <td>82.519997</td>\n",
       "      <td>132.669998</td>\n",
       "      <td>50.099998</td>\n",
       "      <td>136.699997</td>\n",
       "      <td>125.669998</td>\n",
       "      <td>28.340000</td>\n",
       "      <td>85.660004</td>\n",
       "      <td>30.780001</td>\n",
       "      <td>109.550003</td>\n",
       "      <td>106.040001</td>\n",
       "    </tr>\n",
       "    <tr>\n",
       "      <th>2024-04-08</th>\n",
       "      <td>82.529999</td>\n",
       "      <td>132.449997</td>\n",
       "      <td>50.049999</td>\n",
       "      <td>135.869995</td>\n",
       "      <td>125.449997</td>\n",
       "      <td>28.955999</td>\n",
       "      <td>86.040001</td>\n",
       "      <td>30.750000</td>\n",
       "      <td>110.830002</td>\n",
       "      <td>105.989998</td>\n",
       "    </tr>\n",
       "    <tr>\n",
       "      <th>2024-04-09</th>\n",
       "      <td>82.620003</td>\n",
       "      <td>132.979996</td>\n",
       "      <td>50.250000</td>\n",
       "      <td>135.809998</td>\n",
       "      <td>125.160004</td>\n",
       "      <td>29.639999</td>\n",
       "      <td>87.480003</td>\n",
       "      <td>31.059999</td>\n",
       "      <td>110.320000</td>\n",
       "      <td>103.779999</td>\n",
       "    </tr>\n",
       "  </tbody>\n",
       "</table>\n",
       "<p>1461 rows × 10 columns</p>\n",
       "</div>"
      ],
      "text/plain": [
       "                  XLC         VOX       FCOM         VDE         XLI  \\\n",
       "Date                                                                   \n",
       "2018-06-19  47.428024   81.521622  27.402472   82.224213   66.086960   \n",
       "2018-06-20  48.016602   81.474770  27.118319   82.739998   66.132080   \n",
       "2018-06-21  47.722317   80.800011  26.834156   81.041878   65.301811   \n",
       "2018-06-22  47.931171   81.296730  27.052013   82.954254   65.527443   \n",
       "2018-06-25  46.943871   80.275230  26.834156   81.097412   64.697166   \n",
       "...               ...         ...        ...         ...         ...   \n",
       "2024-04-03  82.809998  132.759995  50.169998  135.399994  125.050003   \n",
       "2024-04-04  81.690002  131.259995  49.540001  135.229996  123.949997   \n",
       "2024-04-05  82.519997  132.669998  50.099998  136.699997  125.669998   \n",
       "2024-04-08  82.529999  132.449997  50.049999  135.869995  125.449997   \n",
       "2024-04-09  82.620003  132.979996  50.250000  135.809998  125.160004   \n",
       "\n",
       "                 ACES        XHE       RSPH         KCE        KBWP  \n",
       "Date                                                                 \n",
       "2018-06-19        NaN  80.471573  18.111277   53.527546   53.708950  \n",
       "2018-06-20        NaN  80.511475  18.156738   53.703575   53.121624  \n",
       "2018-06-21        NaN  79.653381  18.062904   53.122623   52.727161  \n",
       "2018-06-22        NaN  80.122345  18.141260   53.166637   52.858662  \n",
       "2018-06-25        NaN  78.615685  17.909090   52.268780   52.595684  \n",
       "...               ...        ...        ...         ...         ...  \n",
       "2024-04-03  28.879999  84.849998  30.870001  109.750000  106.610001  \n",
       "2024-04-04  28.639999  84.459999  30.540001  108.730003  105.279999  \n",
       "2024-04-05  28.340000  85.660004  30.780001  109.550003  106.040001  \n",
       "2024-04-08  28.955999  86.040001  30.750000  110.830002  105.989998  \n",
       "2024-04-09  29.639999  87.480003  31.059999  110.320000  103.779999  \n",
       "\n",
       "[1461 rows x 10 columns]"
      ]
     },
     "execution_count": 55,
     "metadata": {},
     "output_type": "execute_result"
    }
   ],
   "source": [
    "ETF_list = [\"XLC\", \"VOX\", \"FCOM\", \"VDE\", \"XLI\", \"ACES\", \"XHE\", \"RSPH\", \"KCE\", \"KBWP\"]\n",
    "start = datetime.datetime(2018, 1, 1)\n",
    "end = datetime.datetime(2024, 4, 10)\n",
    "\n",
    "ETF_df = pd.DataFrame()\n",
    "for ETF in ETF_list:\n",
    "    ETF_data = yf.download(tickers=ETF, start= start, end = end, interval='1d')\n",
    "    ETF_df[ETF] = ETF_data['Adj Close']  \n",
    "ETF_df"
   ]
  },
  {
   "cell_type": "markdown",
   "id": "429826e0",
   "metadata": {},
   "source": [
    "# Calculating Standard Deviation for ETFs:\n",
    "\n",
    "We utilize Standard Deviation, to measure the  volaility of ETFs\n",
    "$$\n",
    "Standard Deviation = \\sqrt{\\frac{\\sum_{i=1}^{N}(x_i - \\bar{x})^2}{N-1}}\n",
    "$$\n"
   ]
  },
  {
   "cell_type": "code",
   "execution_count": 56,
   "id": "8c76e949",
   "metadata": {},
   "outputs": [
    {
     "data": {
      "text/plain": [
       "<Axes: >"
      ]
     },
     "execution_count": 56,
     "metadata": {},
     "output_type": "execute_result"
    },
    {
     "data": {
      "image/png": "[encoded data removed]",
      "text/plain": [
       "<Figure size 640x480 with 1 Axes>"
      ]
     },
     "metadata": {},
     "output_type": "display_data"
    }
   ],
   "source": [
    "# Utilizing Standard Deviation (Square Root of Variance) to measure the volatility of each ETF\n",
    "#We multiply this by the square root of 250, because we assume that on average there are 250 trading days per year\n",
    "Annualized_SD = ETF_df.pct_change().apply(lambda x: np.log(1+x)).std().apply(lambda x: x*np.sqrt(250))\n",
    "Annualized_SD.plot(kind = 'bar')"
   ]
  },
  {
   "cell_type": "markdown",
   "id": "47e32c5e",
   "metadata": {},
   "source": [
    "# Calculating the Covariance:\n",
    "\n",
    "###            Covariance is the measurment between the relationship between two types of variables\n",
    "    Negative Cov: When Asset A is performing well, Asset B tends to perform poorly, and vice versa\n",
    "    Zero Cov: The performance of the assets are unrelated\n",
    "    Positive Cov: When Asset A is perform well, Asset B tends to perform well, and vice versa"
   ]
  },
  {
   "cell_type": "code",
   "execution_count": 57,
   "id": "6694b55e",
   "metadata": {},
   "outputs": [],
   "source": [
    "ETF_df_returns = ETF_df.pct_change() # Calculated as: (val[1] - val[0])/val[0]\n",
    "Cov_Matrix = ETF_df_returns.cov()"
   ]
  },
  {
   "cell_type": "markdown",
   "id": "41d59596",
   "metadata": {},
   "source": [
    "# Understanding the Covariance Matrix\n",
    "### Diagonal\n",
    "The diagonal yields the variance of each individual ETF\n",
    "Outside of the diagonal lies the covariance of the ETF's with one another\n",
    "\n",
    "## Why:\n",
    "The covariance informs us on the the direction of the relationship between two assets. This is important because in MPT, we are tasked with developing a highly diversified portfolio. Negative covariance implies that the performances of assets have an inverse relaitonship. Adding negatively related assets to a portfolio reduce it's volatility/risk and improve its stability. \n",
    "\n",
    "# Calculating the Correlation Coefficient:"
   ]
  },
  {
   "cell_type": "code",
   "execution_count": 58,
   "id": "699b0479",
   "metadata": {},
   "outputs": [],
   "source": [
    "Corr_Matrix = ETF_df_returns.corr()"
   ]
  },
  {
   "cell_type": "markdown",
   "id": "87cdfe72",
   "metadata": {},
   "source": [
    "## Why:\n",
    "The correlation coefficient not only tells us the direction of the relationship between assets, but it also details details the strength of the relationship. Investors prefer to correlation coefficient because its output is standardized on a scale of -1 to 1.\n",
    "### Interpretation:\n",
    "    -1: Perfectly negative relationship\n",
    "     0: Unrelated relationship\n",
    "     1: Perfectly positive relationship"
   ]
  },
  {
   "cell_type": "code",
   "execution_count": 59,
   "id": "c1d1bd92",
   "metadata": {},
   "outputs": [],
   "source": [
    "# plt.figure(figsize=(15,8))\n",
    "# sns.heatmap(ETF_df_returns.corr(), annot=True)\n",
    "# plt.title(\"Correlations between ETFs\")\n",
    "# plt.show()"
   ]
  },
  {
   "cell_type": "markdown",
   "id": "be134adf",
   "metadata": {},
   "source": [
    "According to modern portfolio theory, it is preferable to have stocks which are negatively correlated in a portfolio. There are no negatively correlated stocks in the selected stock options. Alternatively, we can assign weights to each stock option to generate a portfolio that maximises return for a given risk. \n",
    "\n",
    "Use user risk profile generated from user questionnaire and open banking information to generate a subset of stock options by correlating stock volatility with risk."
   ]
  },
  {
   "cell_type": "markdown",
   "id": "575eea3e",
   "metadata": {},
   "source": [
    "# Calculating Portfolio Variance and Standard Deviation\n",
    "\n",
    "We generate a sample portfolio where each asset has an equal weight within the portfolio. We then calculate the volatility of the portfolio utilizing the variance and standard deviation formulas below. We utilize the covariance and correlaiton matrix for a sample portfolio\n",
    "\n",
    "## Variance\n",
    "$$\n",
    "\\text{Portfolio Variance} = \\sum_{i=1}^{n} \\sum_{j=1}^{n} w_i w_j \\text{Cov}(R_i, R_j)\n",
    "$$\n",
    "\n"
   ]
  },
  {
   "cell_type": "code",
   "execution_count": 60,
   "id": "192fe88e",
   "metadata": {},
   "outputs": [
    {
     "data": {
      "text/plain": [
       "0.00018409962014270586"
      ]
     },
     "execution_count": 60,
     "metadata": {},
     "output_type": "execute_result"
    }
   ],
   "source": [
    "weights = np.ones(len(ETF_df_returns.columns))/len(ETF_df_returns.columns)\n",
    "Sample_Portfolio_Var = Cov_Matrix.mul(weights, axis = 0).mul(weights, axis = 1).sum().sum()\n",
    "Sample_Portfolio_Var"
   ]
  },
  {
   "cell_type": "markdown",
   "id": "d2e18242",
   "metadata": {},
   "source": [
    "$$\n",
    "\\text{Portfolio Standard Deviation} = \\sqrt{\\text{Portfolio Variance}}\n",
    "$$\n",
    "\n",
    "Below is the Annual Standard Deviation for our sample Portfolio"
   ]
  },
  {
   "cell_type": "code",
   "execution_count": 48,
   "id": "8bb9de58",
   "metadata": {},
   "outputs": [
    {
     "data": {
      "text/plain": [
       "0.2145341582025493"
      ]
     },
     "execution_count": 48,
     "metadata": {},
     "output_type": "execute_result"
    }
   ],
   "source": [
    "Sample_Portfolio_Annual_STD = np.sqrt(Portfolio_Var)*np.sqrt(250)\n",
    "Sample_Portfolio_Annual_STD"
   ]
  },
  {
   "cell_type": "markdown",
   "id": "5f3a44b6",
   "metadata": {},
   "source": [
    "# Calculating Investment Portfolio Expected Return\n",
    "\n",
    "$$\n",
    "Expected Return = \\sum_{i=1}^{n} w_i \\times R_i\n",
    "$$\n",
    "\n",
    "Sum of the weighted averages of the expect returns of each asset in our sample portfolio"
   ]
  },
  {
   "cell_type": "code",
   "execution_count": 67,
   "id": "72ad29ac",
   "metadata": {},
   "outputs": [],
   "source": [
    "#Because we are looking at annual returns we calculate the annual return at the end of each year.\n",
    "df = ETF_df.resample('Y').last().pct_change()\n",
    "#Gives us the average return for each asset\n",
    "Expected_Return = df.mean()\n",
    "#Dot is a np method which computes the sum of the product of 2 numpy arrays, \n",
    "#here we are multiplying the weights of each asset by their expected return\n",
    "Sample_Portfolio_Return = np.dot(weights, Expected_Return)"
   ]
  },
  {
   "cell_type": "markdown",
   "id": "77b6acf6",
   "metadata": {},
   "source": [
    "# Building our Efficiency Frontier"
   ]
  },
  {
   "cell_type": "code",
   "execution_count": 77,
   "id": "18c50cb5",
   "metadata": {},
   "outputs": [
    {
     "data": {
      "text/html": [
       "<div>\n",
       "<style scoped>\n",
       "    .dataframe tbody tr th:only-of-type {\n",
       "        vertical-align: middle;\n",
       "    }\n",
       "\n",
       "    .dataframe tbody tr th {\n",
       "        vertical-align: top;\n",
       "    }\n",
       "\n",
       "    .dataframe thead th {\n",
       "        text-align: right;\n",
       "    }\n",
       "</style>\n",
       "<table border=\"1\" class=\"dataframe\">\n",
       "  <thead>\n",
       "    <tr style=\"text-align: right;\">\n",
       "      <th></th>\n",
       "      <th>Returns</th>\n",
       "      <th>Volatility</th>\n",
       "    </tr>\n",
       "  </thead>\n",
       "  <tbody>\n",
       "    <tr>\n",
       "      <th>0</th>\n",
       "      <td>0.144697</td>\n",
       "      <td>0.217143</td>\n",
       "    </tr>\n",
       "    <tr>\n",
       "      <th>1</th>\n",
       "      <td>0.141067</td>\n",
       "      <td>0.208511</td>\n",
       "    </tr>\n",
       "    <tr>\n",
       "      <th>2</th>\n",
       "      <td>0.138423</td>\n",
       "      <td>0.201264</td>\n",
       "    </tr>\n",
       "    <tr>\n",
       "      <th>3</th>\n",
       "      <td>0.135438</td>\n",
       "      <td>0.208670</td>\n",
       "    </tr>\n",
       "    <tr>\n",
       "      <th>4</th>\n",
       "      <td>0.136915</td>\n",
       "      <td>0.213800</td>\n",
       "    </tr>\n",
       "    <tr>\n",
       "      <th>...</th>\n",
       "      <td>...</td>\n",
       "      <td>...</td>\n",
       "    </tr>\n",
       "    <tr>\n",
       "      <th>9995</th>\n",
       "      <td>0.142238</td>\n",
       "      <td>0.204775</td>\n",
       "    </tr>\n",
       "    <tr>\n",
       "      <th>9996</th>\n",
       "      <td>0.138355</td>\n",
       "      <td>0.215870</td>\n",
       "    </tr>\n",
       "    <tr>\n",
       "      <th>9997</th>\n",
       "      <td>0.137438</td>\n",
       "      <td>0.209290</td>\n",
       "    </tr>\n",
       "    <tr>\n",
       "      <th>9998</th>\n",
       "      <td>0.144877</td>\n",
       "      <td>0.211434</td>\n",
       "    </tr>\n",
       "    <tr>\n",
       "      <th>9999</th>\n",
       "      <td>0.145152</td>\n",
       "      <td>0.205380</td>\n",
       "    </tr>\n",
       "  </tbody>\n",
       "</table>\n",
       "<p>10000 rows × 2 columns</p>\n",
       "</div>"
      ],
      "text/plain": [
       "       Returns  Volatility\n",
       "0     0.144697    0.217143\n",
       "1     0.141067    0.208511\n",
       "2     0.138423    0.201264\n",
       "3     0.135438    0.208670\n",
       "4     0.136915    0.213800\n",
       "...        ...         ...\n",
       "9995  0.142238    0.204775\n",
       "9996  0.138355    0.215870\n",
       "9997  0.137438    0.209290\n",
       "9998  0.144877    0.211434\n",
       "9999  0.145152    0.205380\n",
       "\n",
       "[10000 rows x 2 columns]"
      ]
     },
     "execution_count": 77,
     "metadata": {},
     "output_type": "execute_result"
    }
   ],
   "source": [
    "#Covariance Matrix\n",
    "Cov_Matrix\n",
    "#Expected Return\n",
    "Expected_Return\n",
    "#Annualized SD\n",
    "SD = ETF_df.pct_change().apply(lambda x: np.log(1+x)).std().apply(lambda x: x*np.sqrt(250))\n",
    "\n",
    "#Creating Expected Return and Volatility Matrix: Axis = 1 --> Concat Column wise\n",
    "assets = pd.concat([Expected_Return, SD], axis = 1)\n",
    "assets.columns = ['Expected Return', 'Volatility']\n",
    "assets\n",
    "\n",
    "Port_Return = []\n",
    "Port_Vol = []\n",
    "Port_Weight = []\n",
    "Total_ETFs = len(ETF_df.columns)\n",
    "Total_Portfolios=10000\n",
    "\n",
    "#Running the same computation demonstrated above, for 10000 Portfolios to construct an efficiency frontier\n",
    "for portfolio in range(Total_Portfolios):\n",
    "    #Generate a random weight for each ETF\n",
    "    weights = np.random.random(Total_ETFs)\n",
    "    #Adjusting weights of portfolios so they sum to 1\n",
    "    weights = weights/np.sum(weights)\n",
    "    returns = np.dot(weights, Expected_Return)\n",
    "    Port_Return.append(returns)\n",
    "    var = Cov_Matrix.mul(weights, axis = 0).mul(weights, axis = 1).sum().sum()\n",
    "    sd = np.sqrt(var)*np.sqrt(250)\n",
    "    Port_Vol.append(sd)\n",
    "    \n",
    "Portfolio_Dict = {'Returns': Port_Return, 'Volatility': Port_Vol}\n",
    "portfolios = pd.DataFrame(Portfolio_Dict)\n",
    "portfolios"
   ]
  },
  {
   "cell_type": "code",
   "execution_count": 78,
   "id": "9645e437",
   "metadata": {},
   "outputs": [
    {
     "data": {
      "text/plain": [
       "<Axes: xlabel='Volatility', ylabel='Returns'>"
      ]
     },
     "execution_count": 78,
     "metadata": {},
     "output_type": "execute_result"
    },
    {
     "data": {
      "image/png": "[encoded data removed]",
      "text/plain": [
       "<Figure size 640x480 with 1 Axes>"
      ]
     },
     "metadata": {},
     "output_type": "display_data"
    }
   ],
   "source": [
    "portfolios.plot.scatter(x='Volatility', y='Returns', grid = True)"
   ]
  },
  {
   "cell_type": "code",
   "execution_count": 33,
   "id": "759c56e4",
   "metadata": {},
   "outputs": [],
   "source": [
    "def portfolio_analyser(weights, returns, risk_free_rate):\n",
    "    # weights: numpy array of weights for each stock option in the portfolio\n",
    "    \n",
    "    mean_returns = returns.mean()\n",
    "    weighted_annual_return = np.sum(mean_returns * weights)*252\n",
    "    weighted_annual_risk = np.sqrt(np.dot(weights.T, np.dot(returns.cov(), weights)))*np.sqrt(252) # annualised standard deviation \n",
    "    \n",
    "    sharpe_ratio = (weighted_annual_return - risk_free_rate)/weighted_annual_risk\n",
    "\n",
    "    return [weighted_annual_return, weighted_annual_risk, sharpe_ratio]"
   ]
  },
  {
   "cell_type": "code",
   "execution_count": 24,
   "id": "dbe96ca7",
   "metadata": {},
   "outputs": [
    {
     "data": {
      "text/plain": [
       "array([0.1, 0.1, 0.1, 0.1, 0.1, 0.1, 0.1, 0.1, 0.1, 0.1])"
      ]
     },
     "execution_count": 24,
     "metadata": {},
     "output_type": "execute_result"
    }
   ],
   "source": [
    "weights = np.ones(len(ETF_df_returns.columns))/len(ETF_df_returns.columns)\n",
    "risk_free_return = 0.02\n",
    "portfolio_analyser(weights, ETF_df_returns, risk_free_return)\n",
    "weights"
   ]
  },
  {
   "cell_type": "code",
   "execution_count": 25,
   "id": "7db49867",
   "metadata": {},
   "outputs": [],
   "source": [
    "def Portfolio_Optimiser(Optimisation_Criteria, ETF_returns, risk_free_return, method, iter_count):\n",
    "    # Optimisation_Criteria:\n",
    "        # a) Return\n",
    "        # b) Risk\n",
    "        # c) Sharpe\n",
    "    \n",
    "    if Optimisation_Criteria == 'Return': # Return\n",
    "        def Optimiser(weight):\n",
    "            return (-1)*portfolio_analyser(weights, ETF_returns, risk_free_return)[0]\n",
    "    elif Optimisation_Criteria == 'Risk':\n",
    "        def Optimiser(weight): # Risk\n",
    "            return portfolio_analyser(weights, ETF_returns, risk_free_return)[1]\n",
    "    else: # Sharpe\n",
    "        def Optimiser(weight):\n",
    "            return (-1)*portfolio_analyser(weights, ETF_returns, risk_free_return)[2]\n",
    "    \n",
    "    sharpe = 0\n",
    "    returns = 0\n",
    "    risk = 1e99\n",
    "    ETF_count = len(ETF_returns.columns)\n",
    "    Weights_Optimised = np.ones(ETF_count)\n",
    "    weights = np.ones(ETF_count)\n",
    "    for i in range(iter_count):\n",
    "        minimiser = minimize(Optimiser, np.random.dirichlet(np.ones(ETF_count)), method = method)\n",
    "        weights = minimiser['x']\n",
    "                \n",
    "        if Optimisation_Criteria == 'Return':\n",
    "            returns_iter = portfolio_analyser(weights, ETF_df_returns, 0.05)[0]\n",
    "            if returns_iter > returns:\n",
    "                returns = returns_iter\n",
    "                Weights_Optimised = weights\n",
    "        elif Optimisation_Criteria == 'Risk':\n",
    "            risk_iter = portfolio_analyser(weights, ETF_df_returns, 0.05)[1]\n",
    "            if risk_iter < risk:\n",
    "                risk = risk_iter\n",
    "                Weights_Optimised = weights\n",
    "        else:           \n",
    "            sharpe_iter = portfolio_analyser(weights, ETF_df_returns, 0.05)[2]\n",
    "            if sharpe_iter > sharpe:\n",
    "                sharpe = sharpe_iter\n",
    "                Weights_Optimised = weights\n",
    "    \n",
    "    return Weights_Optimised"
   ]
  },
  {
   "cell_type": "code",
   "execution_count": 26,
   "id": "0f31dcd7",
   "metadata": {},
   "outputs": [
    {
     "name": "stdout",
     "output_type": "stream",
     "text": [
      "Return = 0.18475136878800333 \n",
      "Risk = 0.23944529025465647 \n",
      "Sharpe = 0.5627647494953508\n"
     ]
    }
   ],
   "source": [
    "weights_optimised = Portfolio_Optimiser('Sharpe', ETF_df_returns, 0.05, 'SLSQP', 500)\n",
    "portfolio_stats = portfolio_analyser(weights_optimised, ETF_df_returns, 0.05)\n",
    "print('Return = {returns} \\nRisk = {risk} \\nSharpe = {sharpe}'\n",
    "      .format(returns = portfolio_stats[0], risk = portfolio_stats[1], sharpe = portfolio_stats[2]))"
   ]
  },
  {
   "cell_type": "code",
   "execution_count": 27,
   "id": "091f69a4",
   "metadata": {},
   "outputs": [
    {
     "data": {
      "text/plain": [
       "array([0.02241664, 0.05118239, 0.00384808, 0.04622165, 0.04495757,\n",
       "       0.09582439, 0.04001933, 0.03953531, 0.58532596, 0.07066868])"
      ]
     },
     "execution_count": 27,
     "metadata": {},
     "output_type": "execute_result"
    }
   ],
   "source": [
    "weights_optimised"
   ]
  },
  {
   "cell_type": "code",
   "execution_count": 28,
   "id": "a849e1bd",
   "metadata": {},
   "outputs": [
    {
     "name": "stdout",
     "output_type": "stream",
     "text": [
      "Return = 0.18014109922455768 \n",
      "Risk = 0.22465859221711726 \n",
      "Sharpe = 0.5792838722090147\n"
     ]
    }
   ],
   "source": [
    "weights_optimised = Portfolio_Optimiser('Sharpe', ETF_df_returns, 0.05, 'L-BFGS-B', 500)\n",
    "portfolio_stats = portfolio_analyser(weights_optimised, ETF_df_returns, 0.05)\n",
    "print('Return = {returns} \\nRisk = {risk} \\nSharpe = {sharpe}'\n",
    "      .format(returns = portfolio_stats[0], risk = portfolio_stats[1], sharpe = portfolio_stats[2]))"
   ]
  },
  {
   "cell_type": "code",
   "execution_count": 38,
   "id": "ef8c1646",
   "metadata": {},
   "outputs": [
    {
     "data": {
      "text/plain": [
       "array([0.19422329, 0.01055783, 0.05064937, 0.02300111, 0.15470954,\n",
       "       0.01206783, 0.02943735, 0.29787281, 0.02773559, 0.19974528])"
      ]
     },
     "execution_count": 38,
     "metadata": {},
     "output_type": "execute_result"
    }
   ],
   "source": [
    "weights_optimised"
   ]
  },
  {
   "cell_type": "code",
   "execution_count": 30,
   "id": "4bfafc3e",
   "metadata": {},
   "outputs": [
    {
     "name": "stdout",
     "output_type": "stream",
     "text": [
      "Return = 0.18510593911996598 \n",
      "Risk = 0.24036072401875785 \n",
      "Sharpe = 0.5620965724392737\n"
     ]
    }
   ],
   "source": [
    "weights_optimised = Portfolio_Optimiser('Return', ETF_df_returns, 0.05, 'SLSQP', 500)\n",
    "portfolio_stats = portfolio_analyser(weights_optimised, ETF_df_returns, 0.05)\n",
    "print('Return = {returns} \\nRisk = {risk} \\nSharpe = {sharpe}'\n",
    "      .format(returns = portfolio_stats[0], risk = portfolio_stats[1], sharpe = portfolio_stats[2]))"
   ]
  },
  {
   "cell_type": "code",
   "execution_count": 31,
   "id": "8abf72e6",
   "metadata": {},
   "outputs": [
    {
     "data": {
      "text/plain": [
       "array([0.05298749, 0.02775668, 0.08143429, 0.00183804, 0.09918408,\n",
       "       0.08768239, 0.02448208, 0.01118807, 0.60875838, 0.0046885 ])"
      ]
     },
     "execution_count": 31,
     "metadata": {},
     "output_type": "execute_result"
    }
   ],
   "source": [
    "weights_optimised"
   ]
  },
  {
   "cell_type": "code",
   "execution_count": 32,
   "id": "b2d0fe5e",
   "metadata": {},
   "outputs": [
    {
     "name": "stdout",
     "output_type": "stream",
     "text": [
      "Return = 0.181559463577626 \n",
      "Risk = 0.23619654963243542 \n",
      "Sharpe = 0.5569914707998754\n"
     ]
    }
   ],
   "source": [
    "weights_optimised = Portfolio_Optimiser('Return', ETF_df_returns, 0.05, 'L-BFGS-B', 500)\n",
    "portfolio_stats = portfolio_analyser(weights_optimised, ETF_df_returns, 0.05)\n",
    "print('Return = {returns} \\nRisk = {risk} \\nSharpe = {sharpe}'\n",
    "      .format(returns = portfolio_stats[0], risk = portfolio_stats[1], sharpe = portfolio_stats[2]))"
   ]
  },
  {
   "cell_type": "code",
   "execution_count": 33,
   "id": "84bb3595",
   "metadata": {},
   "outputs": [
    {
     "data": {
      "text/plain": [
       "array([0.12754094, 0.0202565 , 0.01292308, 0.05759473, 0.07754125,\n",
       "       0.10145536, 0.03727774, 0.0042044 , 0.48130713, 0.07989886])"
      ]
     },
     "execution_count": 33,
     "metadata": {},
     "output_type": "execute_result"
    }
   ],
   "source": [
    "weights_optimised"
   ]
  },
  {
   "cell_type": "code",
   "execution_count": 34,
   "id": "ef67653a",
   "metadata": {},
   "outputs": [
    {
     "name": "stdout",
     "output_type": "stream",
     "text": [
      "Return = 0.14912540068862015 \n",
      "Risk = 0.2035363306881167 \n",
      "Sharpe = 0.4870157595624156\n"
     ]
    }
   ],
   "source": [
    "weights_optimised = Portfolio_Optimiser('Risk', ETF_df_returns, 0.05, 'SLSQP', 500)\n",
    "portfolio_stats = portfolio_analyser(weights_optimised, ETF_df_returns, 0.05)\n",
    "print('Return = {returns} \\nRisk = {risk} \\nSharpe = {sharpe}'\n",
    "      .format(returns = portfolio_stats[0], risk = portfolio_stats[1], sharpe = portfolio_stats[2]))"
   ]
  },
  {
   "cell_type": "code",
   "execution_count": 35,
   "id": "81cbc90e",
   "metadata": {},
   "outputs": [
    {
     "data": {
      "text/plain": [
       "array([0.04509551, 0.12443677, 0.23794054, 0.03625549, 0.07871127,\n",
       "       0.00251962, 0.01674086, 0.30587269, 0.04384752, 0.10857974])"
      ]
     },
     "execution_count": 35,
     "metadata": {},
     "output_type": "execute_result"
    }
   ],
   "source": [
    "weights_optimised"
   ]
  },
  {
   "cell_type": "code",
   "execution_count": 36,
   "id": "94c484e0",
   "metadata": {},
   "outputs": [
    {
     "name": "stdout",
     "output_type": "stream",
     "text": [
      "Return = 0.15506580196934694 \n",
      "Risk = 0.2009428228589345 \n",
      "Sharpe = 0.5228641683963255\n"
     ]
    }
   ],
   "source": [
    "weights_optimised = Portfolio_Optimiser('Risk', ETF_df_returns, 0.05, 'L-BFGS-B', 500)\n",
    "portfolio_stats = portfolio_analyser(weights_optimised, ETF_df_returns, 0.05)\n",
    "print('Return = {returns} \\nRisk = {risk} \\nSharpe = {sharpe}'\n",
    "      .format(returns = portfolio_stats[0], risk = portfolio_stats[1], sharpe = portfolio_stats[2]))"
   ]
  },
  {
   "cell_type": "code",
   "execution_count": 37,
   "id": "2ca15a3e",
   "metadata": {},
   "outputs": [
    {
     "data": {
      "text/plain": [
       "array([0.19422329, 0.01055783, 0.05064937, 0.02300111, 0.15470954,\n",
       "       0.01206783, 0.02943735, 0.29787281, 0.02773559, 0.19974528])"
      ]
     },
     "execution_count": 37,
     "metadata": {},
     "output_type": "execute_result"
    }
   ],
   "source": [
    "weights_optimised"
   ]
  },
  {
   "cell_type": "code",
   "execution_count": null,
   "id": "ceaf12f2",
   "metadata": {},
   "outputs": [],
   "source": []
  },
  {
   "cell_type": "code",
   "execution_count": null,
   "id": "c0c7ba0b",
   "metadata": {},
   "outputs": [],
   "source": []
  },
  {
   "cell_type": "code",
   "execution_count": null,
   "id": "f0dacd8c",
   "metadata": {},
   "outputs": [],
   "source": []
  },
  {
   "cell_type": "code",
   "execution_count": null,
   "id": "5956dfdb",
   "metadata": {},
   "outputs": [],
   "source": []
  }
 ],
 "metadata": {
  "kernelspec": {
   "display_name": "Python 3 (ipykernel)",
   "language": "python",
   "name": "python3"
  },
  "language_info": {
   "codemirror_mode": {
    "name": "ipython",
    "version": 3
   },
   "file_extension": ".py",
   "mimetype": "text/x-python",
   "name": "python",
   "nbconvert_exporter": "python",
   "pygments_lexer": "ipython3",
   "version": "3.11.4"
  }
 },
 "nbformat": 4,
 "nbformat_minor": 5
}
